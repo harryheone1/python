{
 "cells": [
  {
   "cell_type": "markdown",
   "metadata": {},
   "source": [
    "## 表达式和推导式"
   ]
  },
  {
   "cell_type": "code",
   "execution_count": 1,
   "metadata": {},
   "outputs": [
    {
     "name": "stdout",
     "output_type": "stream",
     "text": [
      "2.1972245773362196\n",
      "2.1972245773362196\n"
     ]
    }
   ],
   "source": [
    "# 条件表达式 - 本质是问好表达式的加强版\n",
    "# 一行代码, 如果x为正数则取log, 为负数则范围nan\n",
    "# 参考旧写法\n",
    "\n",
    "import math\n",
    "\n",
    "def get_log(x):\n",
    "    # 普通写法\n",
    "    if x > 0:\n",
    "        y = math.log(x)\n",
    "    else:\n",
    "        y = float('nan')\n",
    "    return y\n",
    "\n",
    "print(get_log(9))\n",
    "\n",
    "\n",
    "\n",
    "x = 9\n",
    "y = math.log(x) if x > 0 else float('nan')\n",
    "print(y)"
   ]
  },
  {
   "cell_type": "code",
   "execution_count": 33,
   "metadata": {},
   "outputs": [
    {
     "name": "stdout",
     "output_type": "stream",
     "text": [
      "找出100内的偶数(for循环)：\n",
      "[0, 2, 4, 6, 8, 10, 12, 14, 16, 18, 20, 22, 24, 26, 28, 30, 32, 34, 36, 38, 40, 42, 44, 46, 48, 50, 52, 54, 56, 58, 60, 62, 64, 66, 68, 70, 72, 74, 76, 78, 80, 82, 84, 86, 88, 90, 92, 94, 96, 98]\n",
      "[0, 2, 4, 6, 8, 10, 12, 14, 16, 18, 20, 22, 24, 26, 28, 30, 32, 34, 36, 38, 40, 42, 44, 46, 48, 50, 52, 54, 56, 58, 60, 62, 64, 66, 68, 70, 72, 74, 76, 78, 80, 82, 84, 86, 88, 90, 92, 94, 96, 98]\n",
      "{'A': 'aaa', 'B': 'bbb', 'C': 'ccc', 'D': 'ddd'}\n"
     ]
    }
   ],
   "source": [
    "# 列表式推导式\n",
    "# 一行代码, 取出100内的所有偶数\n",
    "# 参考旧写法\n",
    "print('找出100内的偶数(for循环)：')\n",
    "l1 = []\n",
    "for i in range(100):\n",
    "    if i % 2 == 0:\n",
    "        l1.append(i)\n",
    "print(l1)\n",
    "\n",
    "l2 = [i for i in range(100) if i % 2 == 0]\n",
    "print(l2)\n",
    "\n",
    "# list comprehension as dict\n",
    "D = {x.upper(): x * 3 for x in 'abcd'}\n",
    "print(D)"
   ]
  },
  {
   "cell_type": "markdown",
   "metadata": {},
   "source": [
    "## Python的集合类"
   ]
  },
  {
   "cell_type": "code",
   "execution_count": 3,
   "metadata": {},
   "outputs": [
    {
     "name": "stdout",
     "output_type": "stream",
     "text": [
      "<class 'list'>\n",
      "list indexing exercise\n",
      "1\n",
      "[1, 2, 'a', 'b']\n",
      "[1, 2]\n",
      "['a', 'b']\n",
      "After changing first elemetn to 3, l1 is: [3, 2, 'a', 'b']\n",
      "After adding one element to the end, l1 is: [3, 2, 'a', 'b', 'c']\n",
      "遍历list(for循环)：\n",
      "3\n",
      "2\n",
      "a\n",
      "b\n",
      "c\n",
      "遍历list(while循环)：\n",
      "3\n",
      "2\n",
      "a\n",
      "b\n",
      "c\n",
      "Merge list by operator + ：\n",
      "[3, 2, 'a', 'b', 'c', 3, 4, 'x', 'y', 'z']\n",
      "Merge list by extend method：- take care of difference\n",
      "[3, 4, 'x', 'y', 'z', 3, 2, 'a', 'b', 'c']\n",
      "Duplicate list by operator *: \n",
      "[3, 2, 'a', 'b', 'c', 3, 2, 'a', 'b', 'c', 3, 2, 'a', 'b', 'c', 3, 2, 'a', 'b', 'c', 3, 2, 'a', 'b', 'c']\n",
      "if 5 is in the list 1 : False\n",
      "if 2 is in the list 1 : True\n",
      "<class 'map'>\n",
      "[0, 1, 4, 9, 16, 25, 36, 49, 64, 81]\n",
      "[0, 1, 4, 9, 16, 25, 36, 49, 64, 81]\n",
      "[0, 4, 16, 36, 64]\n"
     ]
    }
   ],
   "source": [
    "# list\n",
    "\n",
    "# 1 创建list\n",
    "l1 = [1, 2, 'a', 'b']\n",
    "print(type(l1))\n",
    "# 2 取得list的元素, 修改list的元素\n",
    "print('list indexing exercise')\n",
    "print(l1[0])\n",
    "print(l1[:])\n",
    "print(l1[0:2])\n",
    "print(l1[2:4])\n",
    "l1[0] = 3\n",
    "print('After changing first elemetn to 3, l1 is: {}'.format(l1))\n",
    "\n",
    "# 3 列尾添加element\n",
    "l1.append('c')\n",
    "print('After adding one element to the end, l1 is: {}'.format(l1))\n",
    "\n",
    "# 4 遍历list\n",
    "print('遍历list(for循环)：')\n",
    "for item in l1:\n",
    "    print(item)\n",
    "\n",
    "# 5 通过索引遍历list\n",
    "print('遍历list(while循环)：')\n",
    "i = 0\n",
    "while (i < len(l1)):\n",
    "    print(l1[i])\n",
    "    i += 1\n",
    "\n",
    "# 6 列表合并\n",
    "l2 = [3, 4, 'x', 'y', 'z']\n",
    "print('Merge list by operator + ：')\n",
    "print(l1 + l2)\n",
    "\n",
    "print('Merge list by extend method：- take care of difference')\n",
    "l2.extend(l1)\n",
    "print(l2)\n",
    "\n",
    "# 7 列表重复\n",
    "print('Duplicate list by operator *: ')\n",
    "print(l1 * 5)\n",
    "\n",
    "# 8 判断element是否在列表中\n",
    "print('if 5 is in the list 1 : {}'.format(5 in l1))\n",
    "print('if 2 is in the list 1 : {}'.format(2 in l1))\n",
    "\n",
    "# 9 List Comprehensions\n",
    "squares = [x**2 for x in range(10)]\n",
    "formular = map(lambda x: x**2, range(10))\n",
    "print(type(formular))\n",
    "squares_other = list(formular)\n",
    "squares_double = [x**2 for x in range(10) if x % 2 == 0]\n",
    "print(squares)\n",
    "print(squares_other)\n",
    "print(squares_double)"
   ]
  },
  {
   "cell_type": "code",
   "execution_count": 8,
   "metadata": {},
   "outputs": [
    {
     "name": "stdout",
     "output_type": "stream",
     "text": [
      "<class 'tuple'>\n",
      "2\n",
      "(1, 2, 3, 'a')\n",
      "(1, 2, 3)\n",
      "('a',)\n",
      "1\n",
      "2\n",
      "3\n",
      "a\n",
      "1\n",
      "2\n",
      "3\n",
      "a\n",
      "(1, 2, 3, 'a', 4, 5, 6, 'b')\n",
      "if 1 exist in tuple 1 : True\n",
      "if b exist in tuple 1 : False\n"
     ]
    }
   ],
   "source": [
    "# Tuple\n",
    "\n",
    "# 1 Create a Tuple\n",
    "t1 = (1, 2, 3, 'a')\n",
    "print(type(t1))\n",
    "\n",
    "# 2 Index\n",
    "print(t1[1])\n",
    "print(t1[:])\n",
    "print(t1[:3])\n",
    "print(t1[3:4])\n",
    "\n",
    "# 3 Immutable 思考tuple的作用是什么\n",
    "#t1[3] = 'b'\n",
    "\n",
    "# 4 Iterator\n",
    "for i in t1:\n",
    "    print(i)\n",
    "\n",
    "i = 0\n",
    "while i < len(t1):\n",
    "    print(t1[i])\n",
    "    i = i + 1 # or i += 1\n",
    "    \n",
    "# 5 Merge two tuple\n",
    "t2 = (4, 5, 6, 'b')\n",
    "print(t1 + t2)\n",
    "\n",
    "# t1.extend(t2) tuple could not be extened 为什么有加法但是却没有extend\n",
    "\n",
    "# 6 if exist\n",
    "print('if 1 exist in tuple 1 : {}'.format(1 in t1))\n",
    "print('if b exist in tuple 1 : {}'.format('b' in t1))\n"
   ]
  },
  {
   "cell_type": "code",
   "execution_count": null,
   "metadata": {},
   "outputs": [],
   "source": [
    "# 1 Dictionary\n",
    "d1 = {\"China\":960, \"Canada\": 992, \"Russia\": 1900, \"USA\": 956}\n",
    "print(d1)\n",
    "\n",
    "# 2 No Index, read by key 为什么只能通过key读取, 不能通过index读取?\n",
    "print(d1[\"China\"])\n",
    "d1[\"USA\"] = 980\n",
    "print(d1)\n",
    "\n",
    "# 3 Iteration\n",
    "# by default is key\n",
    "for item in d1:\n",
    "    print(item)\n",
    "\n",
    "for key in d1.keys():\n",
    "    print(key)\n",
    "\n",
    "for value in d1.values():\n",
    "    print(value)\n",
    "\n",
    "for key, value in d1.items():\n",
    "    print(key, value)\n",
    "\n",
    "# 4 Merge ?\n",
    "#d2 = {\"Austrilia\": 900, \"Brasil\": 890}\n",
    "#print(d1.extend(d2))\n",
    "\n",
    "# 5 exist in\n",
    "print(\"China\" in d1.keys())\n",
    "print(\"China\" in d1)\n",
    "\n",
    "# 6 Key Error if not exist 不存在的key会报错\n",
    "#print(d1[\"Japan\"])"
   ]
  },
  {
   "cell_type": "code",
   "execution_count": 27,
   "metadata": {},
   "outputs": [
    {
     "name": "stdout",
     "output_type": "stream",
     "text": [
      "{'Korea', 'China', 'Japan'}\n",
      "Korea\n",
      "China\n",
      "Japan\n",
      "{'Korea', 'China', 'Japan', 'Vietnam'}\n",
      "{'Vietnam', 'Japan', 'China', 'Thiland', 'Malaysia', 'Korea'}\n",
      "True\n"
     ]
    }
   ],
   "source": [
    "# Sets\n",
    "\n",
    "# 1 create\n",
    "s1 = {\"China\", \"China\", \"Japan\", \"Korea\"}\n",
    "print(s1)\n",
    "\n",
    "# 2 Index 为什么不能Index\n",
    "# Could not be\n",
    "\n",
    "# 3 Iteration\n",
    "for country in s1:\n",
    "    print(country) # no order\n",
    "\n",
    "# 4 Extend\n",
    "s1.add('Vietnam')\n",
    "print(s1)\n",
    "\n",
    "s1.update([\"Thiland\", \"Malaysia\"])\n",
    "print(s1)\n",
    "\n",
    "# 5 exist in\n",
    "print(\"China\" in s1)"
   ]
  },
  {
   "cell_type": "code",
   "execution_count": 31,
   "metadata": {},
   "outputs": [
    {
     "name": "stdout",
     "output_type": "stream",
     "text": [
      "[('a', 1), ('b', 2), ('c', 3)]\n",
      "{'a': 1, 'b': 2, 'c': 3}\n",
      "{'a': 1, 'b': 2, 'c': 3}\n"
     ]
    }
   ],
   "source": [
    "# Zip\n",
    "\n",
    "# zip看做是一个集合类内元素的压缩, 本身并没有任何内容, 只是一个数学公式, 但是可以通过转换为集合类读取里面的内容\n",
    "a = ('a', 'b', 'c')\n",
    "b = (1, 2, 3)\n",
    "\n",
    "x = zip(a, b)\n",
    "print(list(x))\n",
    "\n",
    "# 可以自动解压缩为为list或者dic\n",
    "# 解压缩之后zip本身的内容就消失了\n",
    "x = zip(a, b)\n",
    "print(dict(x))\n",
    "\n",
    "# 解压缩为dict的过程, 两个tuple不一定是按照顺序对应结果也可能是 {'a': 1, 'c': 3, 'b': 2}\n",
    "x = dict(zip(('a','b','c'),(1,2,3)))\n",
    "print(x)"
   ]
  },
  {
   "cell_type": "markdown",
   "metadata": {},
   "source": [
    "## Counter"
   ]
  },
  {
   "cell_type": "code",
   "execution_count": 25,
   "metadata": {},
   "outputs": [
    {
     "name": "stdout",
     "output_type": "stream",
     "text": [
      "Counter created from list: Counter({'a': 3, 'b': 2, 'c': 1})\n",
      "Counter created from dict: Counter({'a': 3, 'b': 2, 'c': 1})\n",
      "Counter created from multiple parameter: Counter({'a': 3, 'b': 2, 'c': 1})\n",
      "Counter after update : Counter({'a': 7, 'b': 4, 'c': 2, 's': 1, 'd': 1})\n",
      "Number of lettre a in Counter one : 7\n",
      "Number of a unexsiting letter in Counter two: 0\n",
      "All element of Counter A: ['a', 'a', 'a', 'a', 'a', 'a', 'a', 'b', 'b', 'b', 'b', 'c', 'c', 's', 'd']\n",
      "Number of letter a is : 7\n",
      "Number of letter b is : 4\n",
      "Number of letter c is : 2\n",
      "Number of letter s is : 1\n",
      "Number of letter d is : 1\n",
      "Most common two words are: [('a', 7), ('b', 4)]\n"
     ]
    }
   ],
   "source": [
    "import collections\n",
    "\n",
    "# Counter是多重集, 多重集是什么? collection中可以有重复的元素, Counter顾名思义可以统计每个元素出现的数量\n",
    "# 初始化 - 和dict相比\n",
    "count1 = collections.Counter(['a', 'b', 'a', 'c', 'a', 'b'])\n",
    "print('Counter created from list: {}'.format(count1))\n",
    "count2 = collections.Counter({'a': 3, 'b': 2, 'c':1})\n",
    "print('Counter created from dict: {}'.format(count2))\n",
    "count3 = collections.Counter(a=3, b=2, c=1)\n",
    "print('Counter created from multiple parameter: {}'.format(count3))\n",
    "\n",
    "# 更新内容 - 思考为什么不是替换? 符合数据分析中数据累积的过程\n",
    "count1.update('aabbccsd')\n",
    "count1.update({'a':2, 'c':-1})\n",
    "print('Counter after update : {}'.format(count1))\n",
    "\n",
    "# Read\n",
    "print('Number of lettre a in Counter one : {}'.format(count1['a']))\n",
    "\n",
    "# 不存在的key - 思考为什么和dict不同 \n",
    "# dict read_by_key为了明确dict中有什么元素, 所以不存在要报错; Counter read_by_key为了统计出现的个数, 不存在自然就是次数为0\n",
    "print('Number of a unexsiting letter in Counter two: {}'.format(count2['z']))\n",
    "\n",
    "# 访问所有内容, element只是返回一个压缩, 必须遍历或者调用list才能得到元素\n",
    "print('All element of Counter A: {}'.format(list(count1.elements())))\n",
    "\n",
    "# Iterator - 类似dict, 默认是key, 通过items可以拿到值对\n",
    "for c_key, c_value in count1.items():\n",
    "    print('Number of letter {} is : {}'.format(c_key, c_value))\n",
    "\n",
    "# 最常用的词汇\n",
    "print('Most common two words are: {}'.format(count1.most_common(2)))\n",
    "\n",
    "# 同Dict没有Order\n",
    "\n",
    "# Python为什么要设计这样一个类? 进行简单的数据分析, 比如Dataframe中的count_values和CounterVectorizer都可以使用\n",
    "# 思考在数据分析中的作用, Dataframe的column统计中进行值域分布 value distribution\n"
   ]
  },
  {
   "cell_type": "markdown",
   "metadata": {},
   "source": [
    "## defaultdict"
   ]
  },
  {
   "cell_type": "code",
   "execution_count": 32,
   "metadata": {},
   "outputs": [
    {
     "name": "stdout",
     "output_type": "stream",
     "text": [
      "Counter({'n': 3, 'a': 2, 'i': 2, 'e': 2, 'm': 1, 'c': 1, 'h': 1, 'l': 1, 'r': 1, 'g': 1})\n",
      "{'m': 1, 'a': 2, 'c': 1, 'h': 1, 'i': 2, 'n': 3, 'e': 2, 'l': 1, 'r': 1, 'g': 1}\n",
      "defaultdict(<class 'int'>, {'m': 1, 'a': 2, 'c': 1, 'h': 1, 'i': 2, 'n': 3, 'e': 2, 'l': 1, 'r': 1, 'g': 1})\n",
      "defaultdict(<class 'list'>, {'yellow': [1, 3], 'blue': [2, 4], 'red': [1]})\n"
     ]
    }
   ],
   "source": [
    "# defaultdict和dict不同 - 没有key的时候不会抛出KeyError\n",
    "# defaultdict比较常用的是通过循环把元素加进去, 不是直接构造一个\n",
    "\n",
    "# 使用dict和defaultdict替代Count进行value distribution, 总结两者有什么不同\n",
    "\n",
    "# 1 - Counter\n",
    "s = 'machinelearning'\n",
    "print(collections.Counter(s))\n",
    "# 2 - dict\n",
    "dict1 = {}\n",
    "for c in s:\n",
    "    if c in dict1:\n",
    "        dict1[c] += 1\n",
    "    else:\n",
    "        dict1[c] = 1\n",
    "print(dict1)\n",
    "# 3 - defaultdict 代码简单很多\n",
    "dict2 = collections.defaultdict(int)\n",
    "for c in s:\n",
    "    dict2[c] += 1\n",
    "print(dict2)\n",
    "\n",
    "\n",
    "# 使用defaultdict记录所有相同元素列表, 例如所有average等于1的row的index\n",
    "# Example: colors = [('yellow', 1), ('blue', 2), ('yellow', 3), ('blue', 4), ('red', 1)] 统计为每个颜色对应的数字集合\n",
    "# 重点是by default会创建一个空的list\n",
    "colors = [('yellow', 1), ('blue', 2), ('yellow', 3), ('blue', 4), ('red', 1)] \n",
    "dict_color = collections.defaultdict(list)\n",
    "for color, num in colors:\n",
    "    dict_color[color].append(num)\n",
    "print(dict_color)\n",
    "\n",
    "# Python为什么要设计这样一个类? 对于数据分析的意义在于, 可以对于数据进行更灵活的group_by和aggregation\n",
    "# 和Counter只能用计数一种aggregation相比, defaultdict的value部分可以支持更多的类型, 可以求和, 可以罗列所有值, 甚至可以求平均"
   ]
  },
  {
   "cell_type": "markdown",
   "metadata": {},
   "source": [
    "## map"
   ]
  },
  {
   "cell_type": "code",
   "execution_count": 41,
   "metadata": {},
   "outputs": [
    {
     "name": "stdout",
     "output_type": "stream",
     "text": [
      "<map object at 0x000001CBFF02AC50>\n",
      "[2, 4, 6, 8]\n",
      "<map object at 0x000001CBFF02A748>\n",
      "1.0\n",
      "2.0\n",
      "2.23606797749979\n",
      "2.8284271247461903\n"
     ]
    }
   ],
   "source": [
    "import math\n",
    "\n",
    "# 作用: 进行数据清洗和转换\n",
    "# 本质: 懒惰计算, map本身就是一个数学公式, 只有list和dict等等操作才会真正的执行\n",
    "# 练习1: 两个list映射为一个list, 取两个list相同index的元素中比较小的那一个\n",
    "list1 = [1, 4, 5, 8]\n",
    "list2 = [2, 3, 6, 7]\n",
    "maxs = map(max, list1, list2)\n",
    "print(maxs)\n",
    "print(list(maxs))\n",
    "\n",
    "# 练习2: 一个list中的每个元素映射到其平方\n",
    "square_root = map(math.sqrt, list1)\n",
    "print(square_root)\n",
    "for item in square_root:\n",
    "    print(item)\n",
    "\n",
    "# 思考: 和Java的map对比, 不需要stream, 而是直接把整个list作为map的参数; 更符合functional思想, list整体操作本身有优化"
   ]
  },
  {
   "cell_type": "markdown",
   "metadata": {},
   "source": [
    "## Lambda"
   ]
  },
  {
   "cell_type": "code",
   "execution_count": 43,
   "metadata": {},
   "outputs": [
    {
     "name": "stdout",
     "output_type": "stream",
     "text": [
      "<map object at 0x000001CBFF02A898>\n",
      "[4, 11, 16, 23]\n"
     ]
    }
   ],
   "source": [
    "# 作用: 简单逻辑的匿名函数, 已经在java中熟悉\n",
    "# 练习: 两个list映射为一个list, 公式r1=l1e1 * 2 + l2e1\n",
    "sum_list = map(lambda x1, x2: x1*2 + x2, list1, list2)\n",
    "print(sum_list)\n",
    "print(list(sum_list))"
   ]
  },
  {
   "cell_type": "markdown",
   "metadata": {},
   "source": [
    "## CSV"
   ]
  },
  {
   "cell_type": "code",
   "execution_count": 52,
   "metadata": {},
   "outputs": [
    {
     "name": "stdout",
     "output_type": "stream",
     "text": [
      "Column Number: 2315\n",
      "First row: OrderedDict([('student_id', 'B73F2C11-70F0-E37D-8B10-1D20AFED50B1'), ('assignment1_grade', '92.73394640624123'), ('assignment1_submission', '2015-11-02 06:55:34.282000000'), ('assignment2_grade', '83.03055176561709'), ('assignment2_submission', '2015-11-09 02:22:58.938000000'), ('assignment3_grade', '67.16444141249367'), ('assignment3_submission', '2015-11-12 08:58:33.998000000'), ('assignment4_grade', '53.01155312999494'), ('assignment4_submission', '2015-11-16 01:21:24.663000000'), ('assignment5_grade', '47.710397816995446'), ('assignment5_submission', '2015-11-20 13:24:59.692000000'), ('assignment6_grade', '38.16831825359636'), ('assignment6_submission', '2015-11-22 18:31:15.934000000')])\n",
      "All columns: odict_keys(['student_id', 'assignment1_grade', 'assignment1_submission', 'assignment2_grade', 'assignment2_submission', 'assignment3_grade', 'assignment3_submission', 'assignment4_grade', 'assignment4_submission', 'assignment5_grade', 'assignment5_submission', 'assignment6_grade', 'assignment6_submission'])\n",
      "74.5357320747794\n",
      "{'2015-12', '2015-09', '2015-10', '2016-04', '2016-05', '2016-03', '2016-06', '2016-01', '2016-02', '2016-08', '2016-07', '2015-11'}\n"
     ]
    }
   ],
   "source": [
    "import csv\n",
    "# 读取csv的过程: open然后利用DictReader读取, 默认所有值都是字符串; DictReader也只是一个压缩, 延迟操作, 只\n",
    "# 有被list调用或者iterator的时候才会生成具体数据\n",
    "\n",
    "with open('grades.csv') as csvfile:\n",
    "    grades_data = list(csv.DictReader(csvfile))\n",
    "\n",
    "# 利用list comprenhension可以进行以行为单位进行统计\n",
    "\n",
    "# 练习1: 读取数据之后, list长度, 取出第一行数据, 取出所有的column\n",
    "print('Row Number: {}'.format(len(grades_data)))\n",
    "print('First row: {}'.format(grades_data[0])) # 使用OrdererdDict的原因是为了维护column的顺序\n",
    "print('All columns: {}'.format(grades_data[0].keys())) # 实际上是OrdererdDict的key\n",
    "\n",
    "# 练习2: 计算作业1的平均值\n",
    "avg_assign1 = sum (float(row['assignment1_grade']) for row in grades_data) / len(grades_data)\n",
    "print(avg_assign1)\n",
    "\n",
    "# 练习3: 计算所有学生作业1的所有提交日期\n",
    "assign1_month = set(row['assignment1_submission'][:7] for row in grades_data)\n",
    "print(assign1_date)"
   ]
  }
 ],
 "metadata": {
  "kernelspec": {
   "display_name": "Python [conda env:py3]",
   "language": "python",
   "name": "conda-env-py3-py"
  },
  "language_info": {
   "codemirror_mode": {
    "name": "ipython",
    "version": 3
   },
   "file_extension": ".py",
   "mimetype": "text/x-python",
   "name": "python",
   "nbconvert_exporter": "python",
   "pygments_lexer": "ipython3",
   "version": "3.6.6"
  }
 },
 "nbformat": 4,
 "nbformat_minor": 2
}
