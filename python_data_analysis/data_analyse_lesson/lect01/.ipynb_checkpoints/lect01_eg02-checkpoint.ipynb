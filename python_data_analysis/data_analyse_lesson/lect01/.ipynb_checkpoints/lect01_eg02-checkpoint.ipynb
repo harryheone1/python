{
 "cells": [
  {
   "cell_type": "markdown",
   "metadata": {},
   "source": [
    "# 科学计算库NumPy"
   ]
  },
  {
   "cell_type": "code",
   "execution_count": 1,
   "metadata": {},
   "outputs": [],
   "source": [
    "import numpy as np"
   ]
  },
  {
   "cell_type": "markdown",
   "metadata": {},
   "source": [
    "## 1. 创建Array"
   ]
  },
  {
   "cell_type": "code",
   "execution_count": 2,
   "metadata": {},
   "outputs": [
    {
     "name": "stdout",
     "output_type": "stream",
     "text": [
      "列表： [1, 2, 3]\n",
      "Array:  [1 2 3]\n"
     ]
    }
   ],
   "source": [
    "my_list = [1, 2, 3]\n",
    "x = np.array(my_list)\n",
    "\n",
    "print('列表：', my_list)\n",
    "print('Array: ', x)"
   ]
  },
  {
   "cell_type": "code",
   "execution_count": 3,
   "metadata": {},
   "outputs": [
    {
     "data": {
      "text/plain": [
       "array([-3, -3, -3])"
      ]
     },
     "execution_count": 3,
     "metadata": {},
     "output_type": "execute_result"
    }
   ],
   "source": [
    "np.array([1, 2, 3]) - np.array([4, 5, 6])"
   ]
  },
  {
   "cell_type": "code",
   "execution_count": 4,
   "metadata": {},
   "outputs": [
    {
     "name": "stdout",
     "output_type": "stream",
     "text": [
      "[[1 2 3]\n",
      " [4 5 6]]\n",
      "shape:  (2, 3)\n"
     ]
    }
   ],
   "source": [
    "m = np.array([[1, 2, 3], [4, 5, 6]])\n",
    "print(m)\n",
    "print('shape: ', m.shape)"
   ]
  },
  {
   "cell_type": "code",
   "execution_count": 5,
   "metadata": {},
   "outputs": [
    {
     "name": "stdout",
     "output_type": "stream",
     "text": [
      "[ 0  2  4  6  8 10 12 14 16 18 20 22 24 26 28]\n"
     ]
    }
   ],
   "source": [
    "n = np.arange(0, 30, 2)\n",
    "print(n)"
   ]
  },
  {
   "cell_type": "code",
   "execution_count": 6,
   "metadata": {},
   "outputs": [
    {
     "name": "stdout",
     "output_type": "stream",
     "text": [
      "reshape后: \n",
      "[[ 0  2  4  6  8]\n",
      " [10 12 14 16 18]\n",
      " [20 22 24 26 28]]\n"
     ]
    }
   ],
   "source": [
    "n = n.reshape(3, 5)\n",
    "print('reshape后: ')\n",
    "print(n)"
   ]
  },
  {
   "cell_type": "code",
   "execution_count": 7,
   "metadata": {},
   "outputs": [
    {
     "name": "stdout",
     "output_type": "stream",
     "text": [
      "ones:\n",
      " [[1. 1.]\n",
      " [1. 1.]\n",
      " [1. 1.]]\n",
      "zeros:\n",
      " [[0. 0.]\n",
      " [0. 0.]\n",
      " [0. 0.]]\n",
      "eye:\n",
      " [[1. 0. 0.]\n",
      " [0. 1. 0.]\n",
      " [0. 0. 1.]]\n",
      "diag:\n",
      " [[1 0 0]\n",
      " [0 2 0]\n",
      " [0 0 3]]\n"
     ]
    }
   ],
   "source": [
    "print('ones:\\n', np.ones((3, 2)))\n",
    "print('zeros:\\n', np.zeros((3, 2)))\n",
    "print('eye:\\n', np.eye(3))\n",
    "print('diag:\\n', np.diag(my_list))"
   ]
  },
  {
   "cell_type": "code",
   "execution_count": 8,
   "metadata": {},
   "outputs": [
    {
     "name": "stdout",
     "output_type": "stream",
     "text": [
      "*操作：\n",
      " [1 2 3 1 2 3 1 2 3]\n",
      "repeat：\n",
      " [1 1 1 2 2 2 3 3 3]\n"
     ]
    }
   ],
   "source": [
    "print('*操作：\\n', np.array([1, 2, 3] * 3))\n",
    "print('repeat：\\n', np.repeat([1, 2, 3], 3))"
   ]
  },
  {
   "cell_type": "code",
   "execution_count": 9,
   "metadata": {
    "scrolled": true
   },
   "outputs": [
    {
     "name": "stdout",
     "output_type": "stream",
     "text": [
      "纵向叠加: \n",
      " [[1. 1. 1.]\n",
      " [1. 1. 1.]\n",
      " [1. 1. 1.]\n",
      " [0. 1. 2.]\n",
      " [3. 4. 5.]\n",
      " [6. 7. 8.]]\n",
      "横向叠加: \n",
      " [[1. 1. 1. 0. 1. 2.]\n",
      " [1. 1. 1. 3. 4. 5.]\n",
      " [1. 1. 1. 6. 7. 8.]]\n"
     ]
    }
   ],
   "source": [
    "p1 = np.ones((3, 3))\n",
    "p2 = np.arange(9).reshape(3, 3)\n",
    "print('纵向叠加: \\n', np.vstack((p1, p2)))\n",
    "print('横向叠加: \\n', np.hstack((p1, p2)))"
   ]
  },
  {
   "cell_type": "markdown",
   "metadata": {},
   "source": [
    "## 2. Array操作"
   ]
  },
  {
   "cell_type": "code",
   "execution_count": 10,
   "metadata": {},
   "outputs": [
    {
     "name": "stdout",
     "output_type": "stream",
     "text": [
      "p1: \n",
      " [[1. 1. 1.]\n",
      " [1. 1. 1.]\n",
      " [1. 1. 1.]]\n",
      "p2: \n",
      " [[0 1 2]\n",
      " [3 4 5]\n",
      " [6 7 8]]\n",
      "p1 + p2 = \n",
      " [[1. 2. 3.]\n",
      " [4. 5. 6.]\n",
      " [7. 8. 9.]]\n",
      "p1 * p2 = \n",
      " [[0. 1. 2.]\n",
      " [3. 4. 5.]\n",
      " [6. 7. 8.]]\n",
      "p2^2 = \n",
      " [[ 0  1  4]\n",
      " [ 9 16 25]\n",
      " [36 49 64]]\n",
      "p1.p2 = \n",
      " [[ 9. 12. 15.]\n",
      " [ 9. 12. 15.]\n",
      " [ 9. 12. 15.]]\n"
     ]
    }
   ],
   "source": [
    "print('p1: \\n', p1)\n",
    "print('p2: \\n', p2)\n",
    "\n",
    "print('p1 + p2 = \\n', p1 + p2)\n",
    "print('p1 * p2 = \\n', p1 * p2)\n",
    "print('p2^2 = \\n', p2 ** 2)\n",
    "print('p1.p2 = \\n', p1.dot(p2))"
   ]
  },
  {
   "cell_type": "code",
   "execution_count": 11,
   "metadata": {},
   "outputs": [
    {
     "name": "stdout",
     "output_type": "stream",
     "text": [
      "p3形状:  (2, 3)\n",
      "[[0 1 2]\n",
      " [3 4 5]]\n",
      "转置后p3形状:  (3, 2)\n",
      "[[0 3]\n",
      " [1 4]\n",
      " [2 5]]\n"
     ]
    }
   ],
   "source": [
    "p3 = np.arange(6).reshape(2, 3)\n",
    "print('p3形状: ', p3.shape)\n",
    "print(p3)\n",
    "p4 = p3.T\n",
    "print('转置后p3形状: ', p4.shape)\n",
    "print(p4)"
   ]
  },
  {
   "cell_type": "code",
   "execution_count": 12,
   "metadata": {},
   "outputs": [
    {
     "name": "stdout",
     "output_type": "stream",
     "text": [
      "p3数据类型: int32\n",
      "[[0 1 2]\n",
      " [3 4 5]]\n",
      "p5数据类型: float64\n",
      "[[0. 1. 2.]\n",
      " [3. 4. 5.]]\n"
     ]
    }
   ],
   "source": [
    "print('p3数据类型:', p3.dtype)\n",
    "print(p3)\n",
    "\n",
    "p5 = p3.astype('float')\n",
    "print('p5数据类型:', p5.dtype)\n",
    "print(p5)"
   ]
  },
  {
   "cell_type": "code",
   "execution_count": 13,
   "metadata": {},
   "outputs": [
    {
     "name": "stdout",
     "output_type": "stream",
     "text": [
      "sum:  3\n",
      "min:  -4\n",
      "max:  5\n",
      "mean:  0.6\n",
      "std:  3.2619012860600183\n",
      "argmax:  4\n",
      "argmin:  0\n"
     ]
    }
   ],
   "source": [
    "a = np.array([-4, -2, 1, 3, 5])\n",
    "print('sum: ', a.sum())\n",
    "print('min: ', a.min())\n",
    "print('max: ', a.max())\n",
    "print('mean: ', a.mean())\n",
    "print('std: ', a.std())\n",
    "print('argmax: ', a.argmax())\n",
    "print('argmin: ', a.argmin())"
   ]
  },
  {
   "cell_type": "markdown",
   "metadata": {},
   "source": [
    "## 3. 索引与切片"
   ]
  },
  {
   "cell_type": "code",
   "execution_count": 14,
   "metadata": {},
   "outputs": [
    {
     "name": "stdout",
     "output_type": "stream",
     "text": [
      "s:  [  0   1   4   9  16  25  36  49  64  81 100 121 144]\n",
      "s[0]:  0\n",
      "s[4]:  16\n",
      "s[0:3]:  [0 1 4]\n",
      "s[[0, 2, 4]]:  [ 0  4 16]\n"
     ]
    }
   ],
   "source": [
    "# 一维array\n",
    "s = np.arange(13) ** 2\n",
    "print('s: ', s)\n",
    "print('s[0]: ', s[0])\n",
    "print('s[4]: ', s[4])\n",
    "print('s[0:3]: ', s[0:3])\n",
    "print('s[[0, 2, 4]]: ', s[[0, 2, 4]])"
   ]
  },
  {
   "cell_type": "code",
   "execution_count": 15,
   "metadata": {},
   "outputs": [
    {
     "name": "stdout",
     "output_type": "stream",
     "text": [
      "r: \n",
      " [[ 0  1  2  3  4  5]\n",
      " [ 6  7  8  9 10 11]\n",
      " [12 13 14 15 16 17]\n",
      " [18 19 20 21 22 23]\n",
      " [24 25 26 27 28 29]\n",
      " [30 31 32 33 34 35]]\n",
      "r[2, 2]: \n",
      " 14\n",
      "r[3, 3:6]: \n",
      " [21 22 23]\n"
     ]
    }
   ],
   "source": [
    "# 二维array\n",
    "r = np.arange(36).reshape((6, 6))\n",
    "print('r: \\n', r)\n",
    "print('r[2, 2]: \\n', r[2, 2])\n",
    "print('r[3, 3:6]: \\n', r[3, 3:6])"
   ]
  },
  {
   "cell_type": "code",
   "execution_count": 16,
   "metadata": {},
   "outputs": [
    {
     "data": {
      "text/plain": [
       "array([[False, False, False, False, False, False],\n",
       "       [False, False, False, False, False, False],\n",
       "       [False, False, False, False, False, False],\n",
       "       [False, False, False, False, False, False],\n",
       "       [False, False, False, False, False, False],\n",
       "       [False,  True,  True,  True,  True,  True]])"
      ]
     },
     "execution_count": 16,
     "metadata": {},
     "output_type": "execute_result"
    }
   ],
   "source": [
    "r > 30"
   ]
  },
  {
   "cell_type": "code",
   "execution_count": 17,
   "metadata": {},
   "outputs": [
    {
     "name": "stdout",
     "output_type": "stream",
     "text": [
      "[31 32 33 34 35]\n",
      "[[ 0  1  2  3  4  5]\n",
      " [ 6  7  8  9 10 11]\n",
      " [12 13 14 15 16 17]\n",
      " [18 19 20 21 22 23]\n",
      " [24 25 26 27 28 29]\n",
      " [30 30 30 30 30 30]]\n"
     ]
    }
   ],
   "source": [
    "# 过滤\n",
    "print(r[r > 30])\n",
    "\n",
    "# 将大于30的数赋值为30\n",
    "r[r > 30] = 30\n",
    "print(r)"
   ]
  },
  {
   "cell_type": "code",
   "execution_count": 18,
   "metadata": {},
   "outputs": [
    {
     "name": "stdout",
     "output_type": "stream",
     "text": [
      "[[ 0  1  2]\n",
      " [ 6  7  8]\n",
      " [12 13 14]]\n"
     ]
    }
   ],
   "source": [
    "# copy()操作\n",
    "r2 = r[:3, :3]\n",
    "print(r2)"
   ]
  },
  {
   "cell_type": "code",
   "execution_count": 19,
   "metadata": {},
   "outputs": [
    {
     "name": "stdout",
     "output_type": "stream",
     "text": [
      "[[ 0  0  0  3  4  5]\n",
      " [ 0  0  0  9 10 11]\n",
      " [ 0  0  0 15 16 17]\n",
      " [18 19 20 21 22 23]\n",
      " [24 25 26 27 28 29]\n",
      " [30 30 30 30 30 30]]\n"
     ]
    }
   ],
   "source": [
    "# 将r2内容设置为0\n",
    "r2[:] = 0\n",
    "\n",
    "# 查看r的内容\n",
    "print(r)"
   ]
  },
  {
   "cell_type": "code",
   "execution_count": 20,
   "metadata": {},
   "outputs": [
    {
     "name": "stdout",
     "output_type": "stream",
     "text": [
      "[[ 0  0  0  3  4  5]\n",
      " [ 0  0  0  9 10 11]\n",
      " [ 0  0  0 15 16 17]\n",
      " [18 19 20 21 22 23]\n",
      " [24 25 26 27 28 29]\n",
      " [30 30 30 30 30 30]]\n"
     ]
    }
   ],
   "source": [
    "r3 = r.copy()\n",
    "r3[:] = 0\n",
    "print(r)"
   ]
  },
  {
   "cell_type": "markdown",
   "metadata": {},
   "source": [
    "## 4. 遍历 Array"
   ]
  },
  {
   "cell_type": "code",
   "execution_count": 21,
   "metadata": {},
   "outputs": [
    {
     "name": "stdout",
     "output_type": "stream",
     "text": [
      "[[7 8 0]\n",
      " [4 3 8]\n",
      " [7 2 2]\n",
      " [4 9 5]]\n"
     ]
    }
   ],
   "source": [
    "t = np.random.randint(0, 10, (4, 3))\n",
    "print(t)"
   ]
  },
  {
   "cell_type": "code",
   "execution_count": 22,
   "metadata": {},
   "outputs": [
    {
     "name": "stdout",
     "output_type": "stream",
     "text": [
      "[7 8 0]\n",
      "[4 3 8]\n",
      "[7 2 2]\n",
      "[4 9 5]\n"
     ]
    }
   ],
   "source": [
    "for row in t:\n",
    "    print(row)"
   ]
  },
  {
   "cell_type": "code",
   "execution_count": 23,
   "metadata": {},
   "outputs": [
    {
     "name": "stdout",
     "output_type": "stream",
     "text": [
      "row 0 is [7 8 0]\n",
      "row 1 is [4 3 8]\n",
      "row 2 is [7 2 2]\n",
      "row 3 is [4 9 5]\n"
     ]
    }
   ],
   "source": [
    "# 使用enumerate()\n",
    "for i, row in enumerate(t):\n",
    "    print('row {} is {}'.format(i, row))"
   ]
  },
  {
   "cell_type": "code",
   "execution_count": 24,
   "metadata": {},
   "outputs": [
    {
     "name": "stdout",
     "output_type": "stream",
     "text": [
      "[[49 64  0]\n",
      " [16  9 64]\n",
      " [49  4  4]\n",
      " [16 81 25]]\n"
     ]
    }
   ],
   "source": [
    "t2 = t ** 2\n",
    "print(t2)"
   ]
  },
  {
   "cell_type": "code",
   "execution_count": 25,
   "metadata": {},
   "outputs": [
    {
     "name": "stdout",
     "output_type": "stream",
     "text": [
      "[7 8 0] + [49 64  0] = [56 72  0]\n",
      "[4 3 8] + [16  9 64] = [20 12 72]\n",
      "[7 2 2] + [49  4  4] = [56  6  6]\n",
      "[4 9 5] + [16 81 25] = [20 90 30]\n"
     ]
    }
   ],
   "source": [
    "# 使用zip对两个array进行遍历计算\n",
    "for i, j in zip(t, t2):\n",
    "    print('{} + {} = {}'.format(i, j, i + j))"
   ]
  },
  {
   "cell_type": "code",
   "execution_count": null,
   "metadata": {},
   "outputs": [],
   "source": []
  }
 ],
 "metadata": {
  "anaconda-cloud": {},
  "kernelspec": {
   "display_name": "Python [conda env:py3]",
   "language": "python",
   "name": "conda-env-py3-py"
  },
  "language_info": {
   "codemirror_mode": {
    "name": "ipython",
    "version": 3
   },
   "file_extension": ".py",
   "mimetype": "text/x-python",
   "name": "python",
   "nbconvert_exporter": "python",
   "pygments_lexer": "ipython3",
   "version": "3.6.6"
  }
 },
 "nbformat": 4,
 "nbformat_minor": 2
}
