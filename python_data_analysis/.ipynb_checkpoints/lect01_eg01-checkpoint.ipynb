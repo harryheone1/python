{
 "cells": [
  {
   "cell_type": "markdown",
   "metadata": {},
   "source": [
    "# 数据分析中常用的Python技巧"
   ]
  },
  {
   "cell_type": "markdown",
   "metadata": {},
   "source": [
    "## 1. 条件表达式"
   ]
  },
  {
   "cell_type": "code",
   "execution_count": 1,
   "metadata": {},
   "outputs": [],
   "source": [
    "import math\n",
    "\n",
    "def get_log(x):\n",
    "    # 普通写法\n",
    "    if x > 0:\n",
    "        y = math.log(x)\n",
    "    else:\n",
    "        y = float('nan')\n",
    "    return y"
   ]
  },
  {
   "cell_type": "code",
   "execution_count": 3,
   "metadata": {},
   "outputs": [
    {
     "name": "stdout",
     "output_type": "stream",
     "text": [
      "2.1972245773362196\n",
      "2.1972245773362196\n"
     ]
    }
   ],
   "source": [
    "x = 9\n",
    "log_val1 = get_log(x)\n",
    "# 使用条件表达式\n",
    "log_val2 = math.log(x) if x > 0 else float('nan')\n",
    "\n",
    "print(log_val1)\n",
    "print(log_val2)"
   ]
  },
  {
   "cell_type": "code",
   "execution_count": 7,
   "metadata": {},
   "outputs": [
    {
     "name": "stdout",
     "output_type": "stream",
     "text": [
      "2.302585092994046\n",
      "0.0\n"
     ]
    }
   ],
   "source": [
    "y = 10\n",
    "z = 2\n",
    "log_val3_positive = math.log(y) if y > 5 else float(0)\n",
    "log_val3_negative = math.log(2) if z > 5 else float(0)\n",
    "\n",
    "print(log_val3_positive)\n",
    "print(log_val3_negative)"
   ]
  },
  {
   "cell_type": "markdown",
   "metadata": {},
   "source": [
    "## 2. 列表推导式"
   ]
  },
  {
   "cell_type": "code",
   "execution_count": 8,
   "metadata": {},
   "outputs": [
    {
     "name": "stdout",
     "output_type": "stream",
     "text": [
      "找出1000内的偶数(for循环)：\n",
      "[0, 2, 4, 6, 8]\n"
     ]
    }
   ],
   "source": [
    "print('找出1000内的偶数(for循环)：')\n",
    "l1 = []\n",
    "for i in range(10):\n",
    "    if i % 2 == 0:\n",
    "        l1.append(i)\n",
    "print(l1)"
   ]
  },
  {
   "cell_type": "code",
   "execution_count": 9,
   "metadata": {},
   "outputs": [
    {
     "name": "stdout",
     "output_type": "stream",
     "text": [
      "找出1000内的偶数(列表推导式)：\n",
      "[0, 2, 4, 6, 8]\n"
     ]
    }
   ],
   "source": [
    "print('找出1000内的偶数(列表推导式)：')\n",
    "l2 = [i for i in range(10) if i % 2 == 0]\n",
    "print(l2)"
   ]
  },
  {
   "cell_type": "markdown",
   "metadata": {},
   "source": [
    "## 3. Python常用容器类型"
   ]
  },
  {
   "cell_type": "markdown",
   "metadata": {},
   "source": [
    "* list"
   ]
  },
  {
   "cell_type": "code",
   "execution_count": 39,
   "metadata": {},
   "outputs": [
    {
     "name": "stdout",
     "output_type": "stream",
     "text": [
      "<class 'list'>\n",
      "修改前： [1, 'a', 2, 'b']\n",
      "Slicing list :  [1, 'a']\n",
      "修改后： [3, 'a', 2, 'b']\n",
      "添加后： [3, 'a', 2, 'b', 4]\n",
      "遍历list(for循环)：\n",
      "3\n",
      "a\n",
      "2\n",
      "b\n",
      "4\n",
      "遍历list(while循环)：\n",
      "3\n",
      "a\n",
      "2\n",
      "b\n",
      "4\n",
      "列表合并(+)： [1, 2, 3, 4]\n",
      "列表重复(*)： [1, 2, 1, 2, 1, 2, 1, 2, 1, 2]\n",
      "判断元素存在(in)： True\n"
     ]
    }
   ],
   "source": [
    "l = [1, 'a', 2, 'b']\n",
    "print(type(l))\n",
    "print('修改前：', l)\n",
    "print('Slicing list : ', l[:2])\n",
    "\n",
    "# 修改list的内容\n",
    "l[0] = 3\n",
    "print('修改后：', l)\n",
    "\n",
    "# 末尾添加元素\n",
    "l.append(4)\n",
    "print('添加后：', l)\n",
    "\n",
    "# 遍历list\n",
    "print('遍历list(for循环)：')\n",
    "for item in l:\n",
    "    print(item)\n",
    "    \n",
    "# 通过索引遍历list\n",
    "print('遍历list(while循环)：')\n",
    "i = 0\n",
    "while i != len(l):\n",
    "    print(l[i])\n",
    "    i += 1\n",
    "    \n",
    "# 列表合并\n",
    "print('列表合并(+)：', [1, 2] + [3, 4])\n",
    "\n",
    "# 列表重复\n",
    "print('列表重复(*)：', [1, 2] * 5)\n",
    "\n",
    "# 判断元素是否在列表中\n",
    "print('判断元素存在(in)：', 1 in [1, 2])"
   ]
  },
  {
   "cell_type": "markdown",
   "metadata": {},
   "source": [
    "* tuple"
   ]
  },
  {
   "cell_type": "code",
   "execution_count": 35,
   "metadata": {},
   "outputs": [
    {
     "name": "stdout",
     "output_type": "stream",
     "text": [
      "<class 'tuple'>\n",
      "遍历list(for循环)：\n",
      "1\n",
      "a\n",
      "2\n",
      "b\n",
      "遍历tuple(while循环)：\n",
      "1\n",
      "a\n",
      "2\n",
      "b\n",
      "x is :  10\n",
      "y is :  20\n",
      "unpack:  2\n"
     ]
    }
   ],
   "source": [
    "t = (1, 'a', 2, 'b')\n",
    "print(type(t))\n",
    "\n",
    "#元组的内容不能修改，否则会报错\n",
    "# t[0] = 3 \n",
    "\n",
    "# 遍历tuple\n",
    "print('遍历list(for循环)：')\n",
    "for item in t:\n",
    "    print(item)\n",
    "    \n",
    "# 通过索引遍历tuple\n",
    "print('遍历tuple(while循环)：')\n",
    "i = 0\n",
    "while i != len(t):\n",
    "    print(t[i])\n",
    "    i += 1\n",
    "\n",
    "# Multiple assignment\n",
    "(x, y) = (10, 20)\n",
    "print('x is : ', x)\n",
    "print('y is : ', y)\n",
    "    \n",
    "# 解包 unpack\n",
    "a, b, c, _ = t\n",
    "print('unpack: ', c)\n",
    "\n",
    "# 确保unpack接收的变量个数和tuple的长度相同，否则报错\n",
    "# 经常出现在函数返回值的赋值时\n",
    "# a, b, c = t"
   ]
  },
  {
   "cell_type": "code",
   "execution_count": 31,
   "metadata": {},
   "outputs": [
    {
     "name": "stdout",
     "output_type": "stream",
     "text": [
      "10\n",
      "20\n"
     ]
    }
   ],
   "source": []
  },
  {
   "cell_type": "markdown",
   "metadata": {},
   "source": [
    "* dictionary"
   ]
  },
  {
   "cell_type": "code",
   "execution_count": 38,
   "metadata": {},
   "outputs": [
    {
     "name": "stdout",
     "output_type": "stream",
     "text": [
      "通过key获取value:  http://www.chinahadoop.cn/\n",
      "通过key获取value:  https://www.baidu.com/\n",
      "遍历key: \n",
      "小象学院\n",
      "百度\n",
      "阿里巴巴\n",
      "腾讯\n",
      "遍历value: \n",
      "http://www.chinahadoop.cn/\n",
      "https://www.baidu.com/\n",
      "https://www.alibaba.com/\n",
      "https://www.tencent.com/\n",
      "遍历item: \n",
      "小象学院: http://www.chinahadoop.cn/\n",
      "百度: https://www.baidu.com/\n",
      "阿里巴巴: https://www.alibaba.com/\n",
      "腾讯: https://www.tencent.com/\n",
      "format输出格式：\n",
      "小象学院的网址是http://www.chinahadoop.cn/\n",
      "百度的网址是https://www.baidu.com/\n",
      "阿里巴巴的网址是https://www.alibaba.com/\n",
      "腾讯的网址是https://www.tencent.com/\n"
     ]
    }
   ],
   "source": [
    "d = {'小象学院': 'http://www.chinahadoop.cn/',\n",
    "    '百度': 'https://www.baidu.com/',\n",
    "    '阿里巴巴': 'https://www.alibaba.com/',\n",
    "    '腾讯': 'https://www.tencent.com/'}\n",
    "\n",
    "print('通过key获取value: ', d['小象学院'])\n",
    "print('通过key获取value: ', d['百度'])\n",
    "\n",
    "# 遍历key\n",
    "print('遍历key: ')\n",
    "for key in d.keys():\n",
    "    print(key)\n",
    "    \n",
    "# 遍历value\n",
    "print('遍历value: ')\n",
    "for value in d.values():\n",
    "    print(value)\n",
    "    \n",
    "# 遍历item, Multiple Assignment\n",
    "print('遍历item: ')\n",
    "for key, value in d.items():\n",
    "    print(key + ': ' + value)\n",
    "\n",
    "# format输出格式\n",
    "print('format输出格式：')\n",
    "for key, value in d.items():\n",
    "    print('{}的网址是{}'.format(key, value))\n"
   ]
  },
  {
   "cell_type": "markdown",
   "metadata": {},
   "source": [
    "* set"
   ]
  },
  {
   "cell_type": "code",
   "execution_count": 40,
   "metadata": {},
   "outputs": [
    {
     "name": "stdout",
     "output_type": "stream",
     "text": [
      "创建set:\n",
      "{1, 2, 3}\n",
      "{1, 2, 3}\n",
      "添加单个元素:\n",
      "添加3 {1, 2, 3}\n",
      "添加4 {1, 2, 3, 4}\n",
      "添加多个元素：\n",
      "{1, 2, 3, 4, 5, 6}\n"
     ]
    }
   ],
   "source": [
    "print('创建set:')\n",
    "my_set = {1, 2, 3}\n",
    "print(my_set)\n",
    "my_set = set([1, 2, 3, 2])\n",
    "print(my_set)\n",
    "\n",
    "print('添加单个元素:')\n",
    "my_set.add(3)\n",
    "print('添加3', my_set)\n",
    "\n",
    "my_set.add(4)\n",
    "print('添加4', my_set)\n",
    "\n",
    "print('添加多个元素：')\n",
    "my_set.update([4, 5, 6])\n",
    "print(my_set)"
   ]
  },
  {
   "cell_type": "code",
   "execution_count": 43,
   "metadata": {},
   "outputs": [
    {
     "name": "stdout",
     "output_type": "stream",
     "text": [
      "{'A': 'aaa', 'B': 'bbb', 'C': 'ccc', 'D': 'ddd'}\n"
     ]
    }
   ],
   "source": [
    "my_dic = {x.upper(): x * 3 for x in 'abcd'}\n",
    "print(my_dic)"
   ]
  },
  {
   "cell_type": "markdown",
   "metadata": {},
   "source": [
    "## 4. Counter"
   ]
  },
  {
   "cell_type": "markdown",
   "metadata": {},
   "source": [
    "* 初始化"
   ]
  },
  {
   "cell_type": "code",
   "execution_count": 61,
   "metadata": {},
   "outputs": [
    {
     "name": "stdout",
     "output_type": "stream",
     "text": [
      "<class 'collections.Counter'>\n",
      "Counter({'b': 3, 'a': 2, 'c': 1})\n",
      "Counter({'b': 3, 'a': 2, 'c': 1})\n",
      "Counter({'b': 3, 'a': 2, 'c': 1})\n"
     ]
    }
   ],
   "source": [
    "import collections\n",
    "\n",
    "c1 = collections.Counter(['a', 'b', 'c', 'a', 'b', 'b'])\n",
    "c2 = collections.Counter({'a':2, 'b':3, 'c':1})\n",
    "c3 = collections.Counter(a=2, b=3, c=1)\n",
    "\n",
    "print(type(c1))\n",
    "print(c1)\n",
    "print(c2)\n",
    "print(c3)"
   ]
  },
  {
   "cell_type": "markdown",
   "metadata": {},
   "source": [
    "* 更新内容"
   ]
  },
  {
   "cell_type": "code",
   "execution_count": 45,
   "metadata": {},
   "outputs": [
    {
     "name": "stdout",
     "output_type": "stream",
     "text": [
      "Counter({'a': 6, 'd': 4, 'b': 3, 'c': -1})\n"
     ]
    }
   ],
   "source": [
    "# 注意这里是做“加法”，不是“替换”\n",
    "c1.update({'a': 4, 'c': -2, 'd': 4})\n",
    "print(c1)"
   ]
  },
  {
   "cell_type": "markdown",
   "metadata": {},
   "source": [
    "* 访问内容"
   ]
  },
  {
   "cell_type": "code",
   "execution_count": 46,
   "metadata": {},
   "outputs": [
    {
     "name": "stdout",
     "output_type": "stream",
     "text": [
      "a= 6\n",
      "b= 3\n",
      "e= 0\n"
     ]
    }
   ],
   "source": [
    "print('a=', c1['a'])\n",
    "print('b=', c1['b'])\n",
    "# 对比和dict的区别\n",
    "print('e=', c1['e'])"
   ]
  },
  {
   "cell_type": "markdown",
   "metadata": {},
   "source": [
    "* element()方法"
   ]
  },
  {
   "cell_type": "code",
   "execution_count": 47,
   "metadata": {},
   "outputs": [
    {
     "name": "stdout",
     "output_type": "stream",
     "text": [
      "a\n",
      "a\n",
      "a\n",
      "a\n",
      "a\n",
      "a\n",
      "b\n",
      "b\n",
      "b\n",
      "d\n",
      "d\n",
      "d\n",
      "d\n"
     ]
    }
   ],
   "source": [
    "for element in c1.elements():\n",
    "    print(element)"
   ]
  },
  {
   "cell_type": "markdown",
   "metadata": {},
   "source": [
    "* most_common()方法"
   ]
  },
  {
   "cell_type": "code",
   "execution_count": 49,
   "metadata": {},
   "outputs": [
    {
     "data": {
      "text/plain": [
       "[('a', 6), ('d', 4)]"
      ]
     },
     "execution_count": 49,
     "metadata": {},
     "output_type": "execute_result"
    }
   ],
   "source": [
    "c1.most_common(2)"
   ]
  },
  {
   "cell_type": "markdown",
   "metadata": {},
   "source": [
    "## 5. defaultdict"
   ]
  },
  {
   "cell_type": "code",
   "execution_count": 52,
   "metadata": {},
   "outputs": [
    {
     "name": "stdout",
     "output_type": "stream",
     "text": [
      "Counter({'o': 2, 'c': 1, 'h': 1, 'i': 1, 'n': 1, 'a': 1, 'd': 1, 'p': 1})\n"
     ]
    }
   ],
   "source": [
    "# 统计每个字母出现的次数\n",
    "s = 'chinadoop'\n",
    "\n",
    "# 使用Counter\n",
    "print(collections.Counter(s))"
   ]
  },
  {
   "cell_type": "code",
   "execution_count": 57,
   "metadata": {},
   "outputs": [
    {
     "name": "stdout",
     "output_type": "stream",
     "text": [
      "dict_items([('c', 1), ('h', 1), ('i', 1), ('n', 1), ('a', 1), ('d', 1), ('o', 2), ('p', 1)])\n",
      "1\n"
     ]
    }
   ],
   "source": [
    "# 使用dict\n",
    "counter = {}\n",
    "for c in s:\n",
    "    if c not in counter:\n",
    "        counter[c] = 1\n",
    "    else:\n",
    "        counter[c] += 1\n",
    "        \n",
    "print(counter.items())\n",
    "print(counter['d'])\n",
    "#print(counter['z']) KeyError because key z doesn't exist"
   ]
  },
  {
   "cell_type": "code",
   "execution_count": 62,
   "metadata": {},
   "outputs": [
    {
     "name": "stdout",
     "output_type": "stream",
     "text": [
      "<class 'collections.defaultdict'>\n",
      "dict_items([('c', 1), ('h', 1), ('i', 1), ('n', 1), ('a', 1), ('d', 1), ('o', 2), ('p', 1)])\n",
      "0\n"
     ]
    }
   ],
   "source": [
    "# 使用defaultdict\n",
    "counter2 = collections.defaultdict(int)\n",
    "print(type(counter2))\n",
    "for c in s:\n",
    "    counter2[c] += 1\n",
    "print(counter2.items())\n",
    "# No KeyError because the default value is 0 for any key not exist   \n",
    "print(counter2['z'])"
   ]
  },
  {
   "cell_type": "code",
   "execution_count": 60,
   "metadata": {},
   "outputs": [
    {
     "name": "stdout",
     "output_type": "stream",
     "text": [
      "dict_items([('blue', [2, 4]), ('yellow', [1, 3]), ('red', [1])])\n"
     ]
    }
   ],
   "source": [
    "# 记录相同元素的列表\n",
    "colors = [('yellow', 1), ('blue', 2), ('yellow', 3), ('blue', 4), ('red', 1)]\n",
    "d = collections.defaultdict(list)\n",
    "for k, v in colors:\n",
    "    d[k].append(v)\n",
    "\n",
    "print(d.items())"
   ]
  },
  {
   "cell_type": "markdown",
   "metadata": {},
   "source": [
    "## 6. map()函数"
   ]
  },
  {
   "cell_type": "code",
   "execution_count": 63,
   "metadata": {},
   "outputs": [
    {
     "name": "stdout",
     "output_type": "stream",
     "text": [
      "示例1，获取两个列表对应位置上的最小值：\n",
      "<map object at 0x000001D632368EF0>\n",
      "<class 'map'>\n",
      "1\n",
      "3\n",
      "5\n",
      "7\n",
      "9\n",
      "示例2，对列表中的元素进行平方根操作：\n",
      "<map object at 0x000001D632368BA8>\n",
      "[1.4142135623730951, 2.0, 2.449489742783178, 2.6457513110645907, 3.1622776601683795]\n"
     ]
    }
   ],
   "source": [
    "import math\n",
    "\n",
    "print('示例1，获取两个列表对应位置上的最小值：')\n",
    "l1 = [1, 3, 5, 8, 9]\n",
    "l2 = [2, 4, 6, 7, 10]\n",
    "mins = map(min, l1, l2)\n",
    "print(mins)\n",
    "print(type(mins))\n",
    "\n",
    "# map()函数操作时，直到访问数据时才会执行\n",
    "for item in mins:\n",
    "    print(item)\n",
    "\n",
    "print('示例2，对列表中的元素进行平方根操作：')\n",
    "squared = map(math.sqrt, l2)\n",
    "print(squared)\n",
    "print(list(squared))"
   ]
  },
  {
   "cell_type": "markdown",
   "metadata": {},
   "source": [
    "## 7. 匿名函数 lambda"
   ]
  },
  {
   "cell_type": "code",
   "execution_count": 62,
   "metadata": {},
   "outputs": [
    {
     "name": "stdout",
     "output_type": "stream",
     "text": [
      "lambda结合map\n",
      "[4, 10, 16, 22, 28]\n"
     ]
    }
   ],
   "source": [
    "# my_func = lambda a, b, c: a * b\n",
    "# print(my_func)\n",
    "# print(my_func(1, 2, 3))\n",
    "\n",
    "# 结合map\n",
    "print('lambda结合map')\n",
    "l1 = [1, 3, 5, 7, 9]\n",
    "l2 = [2, 4, 6, 8, 10]\n",
    "result = map(lambda x, y: x * 2 + y, l1, l2)\n",
    "print(list(result))"
   ]
  },
  {
   "cell_type": "markdown",
   "metadata": {},
   "source": [
    "## 8. Python操作CSV数据文件"
   ]
  },
  {
   "cell_type": "code",
   "execution_count": 80,
   "metadata": {
    "scrolled": true
   },
   "outputs": [
    {
     "name": "stdout",
     "output_type": "stream",
     "text": [
      "<class 'list'>\n",
      "记录个数： 2315\n",
      "<class 'collections.OrderedDict'>\n",
      "第1条记录： OrderedDict([('student_id', 'B73F2C11-70F0-E37D-8B10-1D20AFED50B1'), ('assignment1_grade', '92.73394640624123'), ('assignment1_submission', '2015-11-02 06:55:34.282000000'), ('assignment2_grade', '83.03055176561709'), ('assignment2_submission', '2015-11-09 02:22:58.938000000'), ('assignment3_grade', '67.16444141249367'), ('assignment3_submission', '2015-11-12 08:58:33.998000000'), ('assignment4_grade', '53.01155312999494'), ('assignment4_submission', '2015-11-16 01:21:24.663000000'), ('assignment5_grade', '47.710397816995446'), ('assignment5_submission', '2015-11-20 13:24:59.692000000'), ('assignment6_grade', '38.16831825359636'), ('assignment6_submission', '2015-11-22 18:31:15.934000000')])\n",
      "前2条记录： [OrderedDict([('student_id', 'B73F2C11-70F0-E37D-8B10-1D20AFED50B1'), ('assignment1_grade', '92.73394640624123'), ('assignment1_submission', '2015-11-02 06:55:34.282000000'), ('assignment2_grade', '83.03055176561709'), ('assignment2_submission', '2015-11-09 02:22:58.938000000'), ('assignment3_grade', '67.16444141249367'), ('assignment3_submission', '2015-11-12 08:58:33.998000000'), ('assignment4_grade', '53.01155312999494'), ('assignment4_submission', '2015-11-16 01:21:24.663000000'), ('assignment5_grade', '47.710397816995446'), ('assignment5_submission', '2015-11-20 13:24:59.692000000'), ('assignment6_grade', '38.16831825359636'), ('assignment6_submission', '2015-11-22 18:31:15.934000000')]), OrderedDict([('student_id', '98A0FAE0-A19A-13D2-4BB5-CFBFD94031D1'), ('assignment1_grade', '86.79082085792986'), ('assignment1_submission', '2015-11-29 14:57:44.429000000'), ('assignment2_grade', '86.29082085792986'), ('assignment2_submission', '2015-12-06 17:41:18.449000000'), ('assignment3_grade', '69.7726566863439'), ('assignment3_submission', '2015-12-10 08:54:55.904000000'), ('assignment4_grade', '55.0981253490751'), ('assignment4_submission', '2015-12-13 17:32:30.941000000'), ('assignment5_grade', '49.5883128141676'), ('assignment5_submission', '2015-12-19 23:26:39.285000000'), ('assignment6_grade', '44.62948153275085'), ('assignment6_submission', '2015-12-21 17:07:24.275000000')])]\n",
      "列名： ['student_id', 'assignment1_grade', 'assignment1_submission', 'assignment2_grade', 'assignment2_submission', 'assignment3_grade', 'assignment3_submission', 'assignment4_grade', 'assignment4_submission', 'assignment5_grade', 'assignment5_submission', 'assignment6_grade', 'assignment6_submission']\n",
      "B73F2C11-70F0-E37D-8B10-1D20AFED50B1\n",
      "<class 'set'>\n",
      "记录个数： 0\n"
     ]
    }
   ],
   "source": [
    "import csv\n",
    "\n",
    "with open('grades.csv') as csvfile:\n",
    "    grades_data = list(csv.DictReader(csvfile))\n",
    "    grades_data_set = set(csv.DictReader(csvfile))\n",
    "\n",
    "print(type(grades_data))\n",
    "print('记录个数：', len(grades_data))\n",
    "print(type(grades_data[0]))\n",
    "first_row = grades_data[0]\n",
    "print('第1条记录：', first_row)\n",
    "print('前2条记录：', grades_data[:2])\n",
    "print('列名：', list(first_row.keys()))\n",
    "\n",
    "print(first_row['student_id'])\n",
    "\n",
    "print(type(grades_data_set))\n",
    "print('记录个数：', len(grades_data_set))"
   ]
  },
  {
   "cell_type": "code",
   "execution_count": 79,
   "metadata": {},
   "outputs": [
    {
     "name": "stdout",
     "output_type": "stream",
     "text": [
      "assignment1平均分数： 74.5357320747794\n"
     ]
    }
   ],
   "source": [
    "avg_assign1 = sum([float(row['assignment1_grade']) for row in grades_data]) / len(grades_data) \n",
    "print('assignment1平均分数：', avg_assign1)"
   ]
  },
  {
   "cell_type": "code",
   "execution_count": 81,
   "metadata": {},
   "outputs": [
    {
     "name": "stdout",
     "output_type": "stream",
     "text": [
      "{'2016-01', '2015-11', '2015-12', '2016-07', '2016-08', '2016-05', '2015-10', '2015-09', '2016-02', '2016-06', '2016-04', '2016-03'}\n"
     ]
    }
   ],
   "source": [
    "assign1_sub_month = set(row['assignment1_submission'][:7] for row in grades_data)\n",
    "print(assign1_sub_month)"
   ]
  },
  {
   "cell_type": "code",
   "execution_count": 86,
   "metadata": {},
   "outputs": [
    {
     "name": "stdout",
     "output_type": "stream",
     "text": [
      "99.93620568918459\n"
     ]
    }
   ],
   "source": [
    "max_assign2 = max([float(row['assignment2_grade']) for row in grades_data])\n",
    "print(max_assign2)"
   ]
  }
 ],
 "metadata": {
  "anaconda-cloud": {},
  "kernelspec": {
   "display_name": "Python [conda env:py3]",
   "language": "python",
   "name": "conda-env-py3-py"
  },
  "language_info": {
   "codemirror_mode": {
    "name": "ipython",
    "version": 3
   },
   "file_extension": ".py",
   "mimetype": "text/x-python",
   "name": "python",
   "nbconvert_exporter": "python",
   "pygments_lexer": "ipython3",
   "version": "3.6.6"
  }
 },
 "nbformat": 4,
 "nbformat_minor": 2
}
