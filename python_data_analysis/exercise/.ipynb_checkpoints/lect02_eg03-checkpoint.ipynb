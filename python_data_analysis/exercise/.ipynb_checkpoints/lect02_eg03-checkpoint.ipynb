{
 "cells": [
  {
   "cell_type": "markdown",
   "metadata": {},
   "source": [
    "# 数据合并及分组"
   ]
  },
  {
   "cell_type": "code",
   "execution_count": 32,
   "metadata": {},
   "outputs": [],
   "source": [
    "import pandas as pd\n",
    "\n",
    "columns_number = 3\n",
    "id_col = 'id'\n",
    "id_col_list = [] \n",
    "id_col_list.append(id_col)\n",
    "yinbiao_col = 'Yinbiao'\n",
    "yinbiao_cols_list = ['Yinbiao1', 'Yinbiao2','Yinbiao3']"
   ]
  },
  {
   "cell_type": "code",
   "execution_count": 38,
   "metadata": {},
   "outputs": [],
   "source": [
    "import re\n",
    "\n",
    "def context_concat(row, yinbiao_col):\n",
    "    list_char = re.split('\\\\d+', row[yinbiao_col])[:-1]\n",
    "    if len(list_char) == 0:\n",
    "        return None\n",
    "    else:\n",
    "        list_num = re.split('\\\\D+', row[yinbiao_col])[1:]\n",
    "        result = [None]*(len(list_char)+len(list_num))\n",
    "        result[::2] = list_char\n",
    "        result[1::2] = list_num\n",
    "        \n",
    "        return result\n",
    "    \n",
    "def context_concat_len(row, yinbiao_col): \n",
    "    list_char = re.split('\\\\d+', row[yinbiao_col])[:-1]\n",
    "    if len(list_char) == 0:\n",
    "        return None\n",
    "    else:\n",
    "        print(list_char)\n",
    "        list_num = re.split('\\\\D+', row[yinbiao_col])[1:]\n",
    "        print(list_num)\n",
    "        result = [None]*(len(list_char)+len(list_num))\n",
    "        result[::2] = list_char\n",
    "        result[1::2] = list_num\n",
    "        \n",
    "        return len(result)"
   ]
  },
  {
   "cell_type": "code",
   "execution_count": 34,
   "metadata": {},
   "outputs": [
    {
     "data": {
      "text/html": [
       "<div>\n",
       "<style scoped>\n",
       "    .dataframe tbody tr th:only-of-type {\n",
       "        vertical-align: middle;\n",
       "    }\n",
       "\n",
       "    .dataframe tbody tr th {\n",
       "        vertical-align: top;\n",
       "    }\n",
       "\n",
       "    .dataframe thead th {\n",
       "        text-align: right;\n",
       "    }\n",
       "</style>\n",
       "<table border=\"1\" class=\"dataframe\">\n",
       "  <thead>\n",
       "    <tr style=\"text-align: right;\">\n",
       "      <th></th>\n",
       "      <th>id</th>\n",
       "      <th>char1</th>\n",
       "      <th>char2</th>\n",
       "      <th>Yinbiao1</th>\n",
       "      <th>nan1</th>\n",
       "      <th>Yinbiao2</th>\n",
       "      <th>nan2</th>\n",
       "      <th>Yinbiao3</th>\n",
       "      <th>nan3</th>\n",
       "    </tr>\n",
       "  </thead>\n",
       "  <tbody>\n",
       "    <tr>\n",
       "      <td>0</td>\n",
       "      <td>1</td>\n",
       "      <td>太阳</td>\n",
       "      <td>～下山了</td>\n",
       "      <td>ha31no44</td>\n",
       "      <td>NaN</td>\n",
       "      <td>NaN</td>\n",
       "      <td>NaN</td>\n",
       "      <td>NaN</td>\n",
       "      <td>NaN</td>\n",
       "    </tr>\n",
       "    <tr>\n",
       "      <td>1</td>\n",
       "      <td>2</td>\n",
       "      <td>月亮</td>\n",
       "      <td>～出来了</td>\n",
       "      <td>kun22la44</td>\n",
       "      <td>NaN</td>\n",
       "      <td>NaN</td>\n",
       "      <td>NaN</td>\n",
       "      <td>NaN</td>\n",
       "      <td>NaN</td>\n",
       "    </tr>\n",
       "    <tr>\n",
       "      <td>2</td>\n",
       "      <td>3</td>\n",
       "      <td>星星</td>\n",
       "      <td>NaN</td>\n",
       "      <td>l̥in44tei35</td>\n",
       "      <td>NaN</td>\n",
       "      <td>NaN</td>\n",
       "      <td>NaN</td>\n",
       "      <td>NaN</td>\n",
       "      <td>NaN</td>\n",
       "    </tr>\n",
       "    <tr>\n",
       "      <td>3</td>\n",
       "      <td>4</td>\n",
       "      <td>云</td>\n",
       "      <td>NaN</td>\n",
       "      <td>hau44</td>\n",
       "      <td>NaN</td>\n",
       "      <td>NaN</td>\n",
       "      <td>NaN</td>\n",
       "      <td>NaN</td>\n",
       "      <td>NaN</td>\n",
       "    </tr>\n",
       "    <tr>\n",
       "      <td>4</td>\n",
       "      <td>5</td>\n",
       "      <td>风</td>\n",
       "      <td>NaN</td>\n",
       "      <td>kji35</td>\n",
       "      <td>NaN</td>\n",
       "      <td>NaN</td>\n",
       "      <td>NaN</td>\n",
       "      <td>NaN</td>\n",
       "      <td>NaN</td>\n",
       "    </tr>\n",
       "    <tr>\n",
       "      <td>...</td>\n",
       "      <td>...</td>\n",
       "      <td>...</td>\n",
       "      <td>...</td>\n",
       "      <td>...</td>\n",
       "      <td>...</td>\n",
       "      <td>...</td>\n",
       "      <td>...</td>\n",
       "      <td>...</td>\n",
       "      <td>...</td>\n",
       "    </tr>\n",
       "    <tr>\n",
       "      <td>2995</td>\n",
       "      <td>2996</td>\n",
       "      <td>被</td>\n",
       "      <td>～同志们挡住了</td>\n",
       "      <td>tshu31</td>\n",
       "      <td>NaN</td>\n",
       "      <td>NaN</td>\n",
       "      <td>NaN</td>\n",
       "      <td>NaN</td>\n",
       "      <td>NaN</td>\n",
       "    </tr>\n",
       "    <tr>\n",
       "      <td>2996</td>\n",
       "      <td>2997</td>\n",
       "      <td>比</td>\n",
       "      <td>～月亮大</td>\n",
       "      <td>pi22</td>\n",
       "      <td>NaN</td>\n",
       "      <td>NaN</td>\n",
       "      <td>NaN</td>\n",
       "      <td>NaN</td>\n",
       "      <td>NaN</td>\n",
       "    </tr>\n",
       "    <tr>\n",
       "      <td>2997</td>\n",
       "      <td>2998</td>\n",
       "      <td>给</td>\n",
       "      <td>～他写信</td>\n",
       "      <td>haŋ44</td>\n",
       "      <td>NaN</td>\n",
       "      <td>NaN</td>\n",
       "      <td>NaN</td>\n",
       "      <td>NaN</td>\n",
       "      <td>NaN</td>\n",
       "    </tr>\n",
       "    <tr>\n",
       "      <td>2998</td>\n",
       "      <td>2999</td>\n",
       "      <td>从</td>\n",
       "      <td>NaN</td>\n",
       "      <td>ty53</td>\n",
       "      <td>NaN</td>\n",
       "      <td>NaN</td>\n",
       "      <td>NaN</td>\n",
       "      <td>NaN</td>\n",
       "      <td>NaN</td>\n",
       "    </tr>\n",
       "    <tr>\n",
       "      <td>2999</td>\n",
       "      <td>3000</td>\n",
       "      <td>在</td>\n",
       "      <td>NaN</td>\n",
       "      <td>ȵaŋ44</td>\n",
       "      <td>NaN</td>\n",
       "      <td>NaN</td>\n",
       "      <td>NaN</td>\n",
       "      <td>NaN</td>\n",
       "      <td>NaN</td>\n",
       "    </tr>\n",
       "  </tbody>\n",
       "</table>\n",
       "<p>3000 rows × 9 columns</p>\n",
       "</div>"
      ],
      "text/plain": [
       "        id char1    char2     Yinbiao1  nan1 Yinbiao2  nan2 Yinbiao3  nan3\n",
       "0        1    太阳     ～下山了     ha31no44   NaN      NaN   NaN      NaN   NaN\n",
       "1        2    月亮     ～出来了    kun22la44   NaN      NaN   NaN      NaN   NaN\n",
       "2        3    星星      NaN  l̥in44tei35   NaN      NaN   NaN      NaN   NaN\n",
       "3        4     云      NaN        hau44   NaN      NaN   NaN      NaN   NaN\n",
       "4        5     风      NaN        kji35   NaN      NaN   NaN      NaN   NaN\n",
       "...    ...   ...      ...          ...   ...      ...   ...      ...   ...\n",
       "2995  2996     被  ～同志们挡住了       tshu31   NaN      NaN   NaN      NaN   NaN\n",
       "2996  2997     比     ～月亮大         pi22   NaN      NaN   NaN      NaN   NaN\n",
       "2997  2998     给     ～他写信        haŋ44   NaN      NaN   NaN      NaN   NaN\n",
       "2998  2999     从      NaN         ty53   NaN      NaN   NaN      NaN   NaN\n",
       "2999  3000     在      NaN        ȵaŋ44   NaN      NaN   NaN      NaN   NaN\n",
       "\n",
       "[3000 rows x 9 columns]"
      ]
     },
     "execution_count": 34,
     "metadata": {},
     "output_type": "execute_result"
    }
   ],
   "source": [
    "raw_df = pd.read_csv('词汇.csv')\n",
    "if columns_number == 3:\n",
    "    raw_df.columns = ['id', 'char1', 'char2', 'Yinbiao1', 'nan1', 'Yinbiao2', 'nan2', 'Yinbiao3', 'nan3']\n",
    "elif columns_number == 2:\n",
    "    raw_df.columns = ['id', 'char1', 'char2', 'Yinbiao1', 'nan1', 'Yinbiao2', 'nan2']\n",
    "raw_df"
   ]
  },
  {
   "cell_type": "code",
   "execution_count": 35,
   "metadata": {},
   "outputs": [
    {
     "data": {
      "text/plain": [
       "['id', 'Yinbiao1', 'Yinbiao2', 'Yinbiao3']"
      ]
     },
     "execution_count": 35,
     "metadata": {},
     "output_type": "execute_result"
    }
   ],
   "source": [
    "use_cols_list = id_col_list + yinbiao_cols_list\n",
    "use_cols_list"
   ]
  },
  {
   "cell_type": "code",
   "execution_count": 36,
   "metadata": {},
   "outputs": [
    {
     "data": {
      "text/html": [
       "<div>\n",
       "<style scoped>\n",
       "    .dataframe tbody tr th:only-of-type {\n",
       "        vertical-align: middle;\n",
       "    }\n",
       "\n",
       "    .dataframe tbody tr th {\n",
       "        vertical-align: top;\n",
       "    }\n",
       "\n",
       "    .dataframe thead th {\n",
       "        text-align: right;\n",
       "    }\n",
       "</style>\n",
       "<table border=\"1\" class=\"dataframe\">\n",
       "  <thead>\n",
       "    <tr style=\"text-align: right;\">\n",
       "      <th></th>\n",
       "      <th>id</th>\n",
       "      <th>Yinbiao</th>\n",
       "    </tr>\n",
       "  </thead>\n",
       "  <tbody>\n",
       "    <tr>\n",
       "      <td>Yinbiao1</td>\n",
       "      <td>1</td>\n",
       "      <td>kun22la44</td>\n",
       "    </tr>\n",
       "    <tr>\n",
       "      <td>Yinbiao1</td>\n",
       "      <td>2</td>\n",
       "      <td>l̥in44tei35</td>\n",
       "    </tr>\n",
       "    <tr>\n",
       "      <td>Yinbiao1</td>\n",
       "      <td>3</td>\n",
       "      <td>hau44</td>\n",
       "    </tr>\n",
       "    <tr>\n",
       "      <td>Yinbiao1</td>\n",
       "      <td>4</td>\n",
       "      <td>kji35</td>\n",
       "    </tr>\n",
       "    <tr>\n",
       "      <td>Yinbiao1</td>\n",
       "      <td>5</td>\n",
       "      <td>（无）</td>\n",
       "    </tr>\n",
       "    <tr>\n",
       "      <td>...</td>\n",
       "      <td>...</td>\n",
       "      <td>...</td>\n",
       "    </tr>\n",
       "    <tr>\n",
       "      <td>Yinbiao1</td>\n",
       "      <td>2995</td>\n",
       "      <td>tshu31</td>\n",
       "    </tr>\n",
       "    <tr>\n",
       "      <td>Yinbiao1</td>\n",
       "      <td>2996</td>\n",
       "      <td>pi22</td>\n",
       "    </tr>\n",
       "    <tr>\n",
       "      <td>Yinbiao1</td>\n",
       "      <td>2997</td>\n",
       "      <td>haŋ44</td>\n",
       "    </tr>\n",
       "    <tr>\n",
       "      <td>Yinbiao1</td>\n",
       "      <td>2998</td>\n",
       "      <td>ty53</td>\n",
       "    </tr>\n",
       "    <tr>\n",
       "      <td>Yinbiao1</td>\n",
       "      <td>2999</td>\n",
       "      <td>ȵaŋ44</td>\n",
       "    </tr>\n",
       "  </tbody>\n",
       "</table>\n",
       "<p>3050 rows × 2 columns</p>\n",
       "</div>"
      ],
      "text/plain": [
       "            id      Yinbiao\n",
       "Yinbiao1     1    kun22la44\n",
       "Yinbiao1     2  l̥in44tei35\n",
       "Yinbiao1     3        hau44\n",
       "Yinbiao1     4        kji35\n",
       "Yinbiao1     5          （无）\n",
       "...        ...          ...\n",
       "Yinbiao1  2995       tshu31\n",
       "Yinbiao1  2996         pi22\n",
       "Yinbiao1  2997        haŋ44\n",
       "Yinbiao1  2998         ty53\n",
       "Yinbiao1  2999        ȵaŋ44\n",
       "\n",
       "[3050 rows x 2 columns]"
      ]
     },
     "execution_count": 36,
     "metadata": {},
     "output_type": "execute_result"
    }
   ],
   "source": [
    "if columns_number == 3:\n",
    "    yinbiao_cols_list = ['Yinbiao1', 'Yinbiao2', 'Yinbiao3']\n",
    "\n",
    "use_cols_list = id_col_list + yinbiao_cols_list\n",
    "yinbiao_df = raw_df[use_cols_list]\n",
    "# Step 1\n",
    "# We start with creating a new dataframe from the series with EmployeeId as the index\n",
    "yinbiao_df_stack = pd.DataFrame(yinbiao_df[yinbiao_cols_list], index=yinbiao_df.id).stack()\n",
    "yinbiao_df_unique = yinbiao_df_stack.reset_index(id_col)\n",
    "yinbiao_df_unique.columns = [id_col, yinbiao_col]\n",
    "yinbiao_df_unique"
   ]
  },
  {
   "cell_type": "code",
   "execution_count": 39,
   "metadata": {},
   "outputs": [
    {
     "name": "stdout",
     "output_type": "stream",
     "text": [
      "['kun', 'la']\n",
      "['22', '44']\n",
      "['l̥in', 'tei']\n",
      "['44', '35']\n",
      "['hau']\n",
      "['44']\n",
      "['kji']\n",
      "['35']\n",
      "['io', 'i']\n",
      "['31', '22']\n",
      "['kuŋ', 'kwaŋ']\n",
      "['35', '31']\n",
      "['luŋ', 'ŋa']\n",
      "['44', '31']\n",
      "['to', 'luŋ', 'ŋa']\n",
      "['31', '44', '31']\n",
      "['lin']\n",
      "['13']\n",
      "['sa']\n",
      "['53']\n",
      "['mo']\n",
      "['35']\n",
      "['lou', 'pa']\n",
      "['44', '44']\n",
      "['suŋ']\n",
      "['44']\n",
      "['hau']\n",
      "['44']\n",
      "['thou', 'ŋ']\n",
      "['35', '44']\n",
      "['ljaŋ', 'ho', 'ŋ']\n",
      "['13', '22', '44']\n",
      "['kou', 'naŋ', 'kun', 'la']\n",
      "['31', '13', '35', '35']\n",
      "['no', 'juŋ']\n",
      "['44', '31']\n",
      "['lɔŋ']\n",
      "['31', '']\n",
      "['kun', 'la']\n",
      "['22', '44']\n",
      "['l̥in', 'tei']\n",
      "['44', '35']\n",
      "['hau']\n",
      "['44']\n",
      "['kji']\n",
      "['35']\n",
      "['io', 'i']\n",
      "['31', '22']\n",
      "['kuŋ', 'kwaŋ']\n",
      "['35', '31']\n",
      "['luŋ', 'ŋa']\n",
      "['44', '31']\n",
      "['to', 'luŋ', 'ŋa']\n",
      "['31', '44', '31']\n",
      "['lin']\n",
      "['13']\n",
      "['sa']\n",
      "['53']\n",
      "['mo']\n",
      "['35']\n",
      "['lou', 'pa']\n",
      "['44', '44']\n",
      "['suŋ']\n",
      "['44']\n",
      "['hau']\n",
      "['44']\n",
      "['thou', 'ŋ']\n",
      "['35', '44']\n",
      "['ljaŋ', 'ho', 'ŋ']\n",
      "['13', '22', '44']\n",
      "['kou', 'naŋ', 'kun', 'la']\n",
      "['31', '13', '35', '35']\n",
      "['no', 'juŋ']\n",
      "['44', '31']\n",
      "['lɔŋ']\n",
      "['31', '']\n"
     ]
    },
    {
     "ename": "ValueError",
     "evalue": "('attempt to assign sequence of size 1 to extended slice of size 2', 'occurred at index Yinbiao1')",
     "output_type": "error",
     "traceback": [
      "\u001b[1;31m---------------------------------------------------------------------------\u001b[0m",
      "\u001b[1;31mValueError\u001b[0m                                Traceback (most recent call last)",
      "\u001b[1;32m<ipython-input-39-c2d17e8ca41e>\u001b[0m in \u001b[0;36m<module>\u001b[1;34m\u001b[0m\n\u001b[1;32m----> 1\u001b[1;33m \u001b[0myinbiao_df_unique\u001b[0m\u001b[1;33m[\u001b[0m\u001b[1;34m'length'\u001b[0m\u001b[1;33m]\u001b[0m \u001b[1;33m=\u001b[0m \u001b[0myinbiao_df_unique\u001b[0m\u001b[1;33m.\u001b[0m\u001b[0mapply\u001b[0m\u001b[1;33m(\u001b[0m\u001b[1;32mlambda\u001b[0m \u001b[0mrow\u001b[0m\u001b[1;33m:\u001b[0m \u001b[0mcontext_concat_len\u001b[0m\u001b[1;33m(\u001b[0m\u001b[0mrow\u001b[0m\u001b[1;33m,\u001b[0m \u001b[0myinbiao_col\u001b[0m\u001b[1;33m)\u001b[0m\u001b[1;33m,\u001b[0m \u001b[0maxis\u001b[0m\u001b[1;33m=\u001b[0m\u001b[1;36m1\u001b[0m\u001b[1;33m)\u001b[0m\u001b[1;33m\u001b[0m\u001b[1;33m\u001b[0m\u001b[0m\n\u001b[0m\u001b[0;32m      2\u001b[0m \u001b[0myinbiao_df_unique\u001b[0m\u001b[1;33m[\u001b[0m\u001b[1;34m'target'\u001b[0m\u001b[1;33m]\u001b[0m \u001b[1;33m=\u001b[0m \u001b[0myinbiao_df_unique\u001b[0m\u001b[1;33m.\u001b[0m\u001b[0mapply\u001b[0m\u001b[1;33m(\u001b[0m\u001b[1;32mlambda\u001b[0m \u001b[0mrow\u001b[0m\u001b[1;33m:\u001b[0m \u001b[0mcontext_concat\u001b[0m\u001b[1;33m(\u001b[0m\u001b[0mrow\u001b[0m\u001b[1;33m,\u001b[0m \u001b[0myinbiao_col\u001b[0m\u001b[1;33m)\u001b[0m\u001b[1;33m,\u001b[0m \u001b[0maxis\u001b[0m\u001b[1;33m=\u001b[0m\u001b[1;36m1\u001b[0m\u001b[1;33m)\u001b[0m\u001b[1;33m\u001b[0m\u001b[1;33m\u001b[0m\u001b[0m\n\u001b[0;32m      3\u001b[0m \u001b[0myinbiao_df_unique\u001b[0m \u001b[1;33m=\u001b[0m \u001b[0myinbiao_df_unique\u001b[0m\u001b[1;33m.\u001b[0m\u001b[0mdropna\u001b[0m\u001b[1;33m(\u001b[0m\u001b[0msubset\u001b[0m\u001b[1;33m=\u001b[0m\u001b[1;33m[\u001b[0m\u001b[1;34m'target'\u001b[0m\u001b[1;33m]\u001b[0m\u001b[1;33m)\u001b[0m\u001b[1;33m\u001b[0m\u001b[1;33m\u001b[0m\u001b[0m\n\u001b[0;32m      4\u001b[0m \u001b[0myinbiao_df_unique\u001b[0m\u001b[1;33m\u001b[0m\u001b[1;33m\u001b[0m\u001b[0m\n",
      "\u001b[1;32mC:\\tools\\ds\\Anaconda3\\envs\\py3\\lib\\site-packages\\pandas\\core\\frame.py\u001b[0m in \u001b[0;36mapply\u001b[1;34m(self, func, axis, broadcast, raw, reduce, result_type, args, **kwds)\u001b[0m\n\u001b[0;32m   6911\u001b[0m             \u001b[0mkwds\u001b[0m\u001b[1;33m=\u001b[0m\u001b[0mkwds\u001b[0m\u001b[1;33m,\u001b[0m\u001b[1;33m\u001b[0m\u001b[1;33m\u001b[0m\u001b[0m\n\u001b[0;32m   6912\u001b[0m         )\n\u001b[1;32m-> 6913\u001b[1;33m         \u001b[1;32mreturn\u001b[0m \u001b[0mop\u001b[0m\u001b[1;33m.\u001b[0m\u001b[0mget_result\u001b[0m\u001b[1;33m(\u001b[0m\u001b[1;33m)\u001b[0m\u001b[1;33m\u001b[0m\u001b[1;33m\u001b[0m\u001b[0m\n\u001b[0m\u001b[0;32m   6914\u001b[0m \u001b[1;33m\u001b[0m\u001b[0m\n\u001b[0;32m   6915\u001b[0m     \u001b[1;32mdef\u001b[0m \u001b[0mapplymap\u001b[0m\u001b[1;33m(\u001b[0m\u001b[0mself\u001b[0m\u001b[1;33m,\u001b[0m \u001b[0mfunc\u001b[0m\u001b[1;33m)\u001b[0m\u001b[1;33m:\u001b[0m\u001b[1;33m\u001b[0m\u001b[1;33m\u001b[0m\u001b[0m\n",
      "\u001b[1;32mC:\\tools\\ds\\Anaconda3\\envs\\py3\\lib\\site-packages\\pandas\\core\\apply.py\u001b[0m in \u001b[0;36mget_result\u001b[1;34m(self)\u001b[0m\n\u001b[0;32m    184\u001b[0m             \u001b[1;32mreturn\u001b[0m \u001b[0mself\u001b[0m\u001b[1;33m.\u001b[0m\u001b[0mapply_raw\u001b[0m\u001b[1;33m(\u001b[0m\u001b[1;33m)\u001b[0m\u001b[1;33m\u001b[0m\u001b[1;33m\u001b[0m\u001b[0m\n\u001b[0;32m    185\u001b[0m \u001b[1;33m\u001b[0m\u001b[0m\n\u001b[1;32m--> 186\u001b[1;33m         \u001b[1;32mreturn\u001b[0m \u001b[0mself\u001b[0m\u001b[1;33m.\u001b[0m\u001b[0mapply_standard\u001b[0m\u001b[1;33m(\u001b[0m\u001b[1;33m)\u001b[0m\u001b[1;33m\u001b[0m\u001b[1;33m\u001b[0m\u001b[0m\n\u001b[0m\u001b[0;32m    187\u001b[0m \u001b[1;33m\u001b[0m\u001b[0m\n\u001b[0;32m    188\u001b[0m     \u001b[1;32mdef\u001b[0m \u001b[0mapply_empty_result\u001b[0m\u001b[1;33m(\u001b[0m\u001b[0mself\u001b[0m\u001b[1;33m)\u001b[0m\u001b[1;33m:\u001b[0m\u001b[1;33m\u001b[0m\u001b[1;33m\u001b[0m\u001b[0m\n",
      "\u001b[1;32mC:\\tools\\ds\\Anaconda3\\envs\\py3\\lib\\site-packages\\pandas\\core\\apply.py\u001b[0m in \u001b[0;36mapply_standard\u001b[1;34m(self)\u001b[0m\n\u001b[0;32m    290\u001b[0m \u001b[1;33m\u001b[0m\u001b[0m\n\u001b[0;32m    291\u001b[0m         \u001b[1;31m# compute the result using the series generator\u001b[0m\u001b[1;33m\u001b[0m\u001b[1;33m\u001b[0m\u001b[1;33m\u001b[0m\u001b[0m\n\u001b[1;32m--> 292\u001b[1;33m         \u001b[0mself\u001b[0m\u001b[1;33m.\u001b[0m\u001b[0mapply_series_generator\u001b[0m\u001b[1;33m(\u001b[0m\u001b[1;33m)\u001b[0m\u001b[1;33m\u001b[0m\u001b[1;33m\u001b[0m\u001b[0m\n\u001b[0m\u001b[0;32m    293\u001b[0m \u001b[1;33m\u001b[0m\u001b[0m\n\u001b[0;32m    294\u001b[0m         \u001b[1;31m# wrap results\u001b[0m\u001b[1;33m\u001b[0m\u001b[1;33m\u001b[0m\u001b[1;33m\u001b[0m\u001b[0m\n",
      "\u001b[1;32mC:\\tools\\ds\\Anaconda3\\envs\\py3\\lib\\site-packages\\pandas\\core\\apply.py\u001b[0m in \u001b[0;36mapply_series_generator\u001b[1;34m(self)\u001b[0m\n\u001b[0;32m    319\u001b[0m             \u001b[1;32mtry\u001b[0m\u001b[1;33m:\u001b[0m\u001b[1;33m\u001b[0m\u001b[1;33m\u001b[0m\u001b[0m\n\u001b[0;32m    320\u001b[0m                 \u001b[1;32mfor\u001b[0m \u001b[0mi\u001b[0m\u001b[1;33m,\u001b[0m \u001b[0mv\u001b[0m \u001b[1;32min\u001b[0m \u001b[0menumerate\u001b[0m\u001b[1;33m(\u001b[0m\u001b[0mseries_gen\u001b[0m\u001b[1;33m)\u001b[0m\u001b[1;33m:\u001b[0m\u001b[1;33m\u001b[0m\u001b[1;33m\u001b[0m\u001b[0m\n\u001b[1;32m--> 321\u001b[1;33m                     \u001b[0mresults\u001b[0m\u001b[1;33m[\u001b[0m\u001b[0mi\u001b[0m\u001b[1;33m]\u001b[0m \u001b[1;33m=\u001b[0m \u001b[0mself\u001b[0m\u001b[1;33m.\u001b[0m\u001b[0mf\u001b[0m\u001b[1;33m(\u001b[0m\u001b[0mv\u001b[0m\u001b[1;33m)\u001b[0m\u001b[1;33m\u001b[0m\u001b[1;33m\u001b[0m\u001b[0m\n\u001b[0m\u001b[0;32m    322\u001b[0m                     \u001b[0mkeys\u001b[0m\u001b[1;33m.\u001b[0m\u001b[0mappend\u001b[0m\u001b[1;33m(\u001b[0m\u001b[0mv\u001b[0m\u001b[1;33m.\u001b[0m\u001b[0mname\u001b[0m\u001b[1;33m)\u001b[0m\u001b[1;33m\u001b[0m\u001b[1;33m\u001b[0m\u001b[0m\n\u001b[0;32m    323\u001b[0m             \u001b[1;32mexcept\u001b[0m \u001b[0mException\u001b[0m \u001b[1;32mas\u001b[0m \u001b[0me\u001b[0m\u001b[1;33m:\u001b[0m\u001b[1;33m\u001b[0m\u001b[1;33m\u001b[0m\u001b[0m\n",
      "\u001b[1;32m<ipython-input-39-c2d17e8ca41e>\u001b[0m in \u001b[0;36m<lambda>\u001b[1;34m(row)\u001b[0m\n\u001b[1;32m----> 1\u001b[1;33m \u001b[0myinbiao_df_unique\u001b[0m\u001b[1;33m[\u001b[0m\u001b[1;34m'length'\u001b[0m\u001b[1;33m]\u001b[0m \u001b[1;33m=\u001b[0m \u001b[0myinbiao_df_unique\u001b[0m\u001b[1;33m.\u001b[0m\u001b[0mapply\u001b[0m\u001b[1;33m(\u001b[0m\u001b[1;32mlambda\u001b[0m \u001b[0mrow\u001b[0m\u001b[1;33m:\u001b[0m \u001b[0mcontext_concat_len\u001b[0m\u001b[1;33m(\u001b[0m\u001b[0mrow\u001b[0m\u001b[1;33m,\u001b[0m \u001b[0myinbiao_col\u001b[0m\u001b[1;33m)\u001b[0m\u001b[1;33m,\u001b[0m \u001b[0maxis\u001b[0m\u001b[1;33m=\u001b[0m\u001b[1;36m1\u001b[0m\u001b[1;33m)\u001b[0m\u001b[1;33m\u001b[0m\u001b[1;33m\u001b[0m\u001b[0m\n\u001b[0m\u001b[0;32m      2\u001b[0m \u001b[0myinbiao_df_unique\u001b[0m\u001b[1;33m[\u001b[0m\u001b[1;34m'target'\u001b[0m\u001b[1;33m]\u001b[0m \u001b[1;33m=\u001b[0m \u001b[0myinbiao_df_unique\u001b[0m\u001b[1;33m.\u001b[0m\u001b[0mapply\u001b[0m\u001b[1;33m(\u001b[0m\u001b[1;32mlambda\u001b[0m \u001b[0mrow\u001b[0m\u001b[1;33m:\u001b[0m \u001b[0mcontext_concat\u001b[0m\u001b[1;33m(\u001b[0m\u001b[0mrow\u001b[0m\u001b[1;33m,\u001b[0m \u001b[0myinbiao_col\u001b[0m\u001b[1;33m)\u001b[0m\u001b[1;33m,\u001b[0m \u001b[0maxis\u001b[0m\u001b[1;33m=\u001b[0m\u001b[1;36m1\u001b[0m\u001b[1;33m)\u001b[0m\u001b[1;33m\u001b[0m\u001b[1;33m\u001b[0m\u001b[0m\n\u001b[0;32m      3\u001b[0m \u001b[0myinbiao_df_unique\u001b[0m \u001b[1;33m=\u001b[0m \u001b[0myinbiao_df_unique\u001b[0m\u001b[1;33m.\u001b[0m\u001b[0mdropna\u001b[0m\u001b[1;33m(\u001b[0m\u001b[0msubset\u001b[0m\u001b[1;33m=\u001b[0m\u001b[1;33m[\u001b[0m\u001b[1;34m'target'\u001b[0m\u001b[1;33m]\u001b[0m\u001b[1;33m)\u001b[0m\u001b[1;33m\u001b[0m\u001b[1;33m\u001b[0m\u001b[0m\n\u001b[0;32m      4\u001b[0m \u001b[0myinbiao_df_unique\u001b[0m\u001b[1;33m\u001b[0m\u001b[1;33m\u001b[0m\u001b[0m\n",
      "\u001b[1;32m<ipython-input-38-c0711d1e3d2e>\u001b[0m in \u001b[0;36mcontext_concat_len\u001b[1;34m(row, yinbiao_col)\u001b[0m\n\u001b[0;32m     22\u001b[0m         \u001b[0mprint\u001b[0m\u001b[1;33m(\u001b[0m\u001b[0mlist_num\u001b[0m\u001b[1;33m)\u001b[0m\u001b[1;33m\u001b[0m\u001b[1;33m\u001b[0m\u001b[0m\n\u001b[0;32m     23\u001b[0m         \u001b[0mresult\u001b[0m \u001b[1;33m=\u001b[0m \u001b[1;33m[\u001b[0m\u001b[1;32mNone\u001b[0m\u001b[1;33m]\u001b[0m\u001b[1;33m*\u001b[0m\u001b[1;33m(\u001b[0m\u001b[0mlen\u001b[0m\u001b[1;33m(\u001b[0m\u001b[0mlist_char\u001b[0m\u001b[1;33m)\u001b[0m\u001b[1;33m+\u001b[0m\u001b[0mlen\u001b[0m\u001b[1;33m(\u001b[0m\u001b[0mlist_num\u001b[0m\u001b[1;33m)\u001b[0m\u001b[1;33m)\u001b[0m\u001b[1;33m\u001b[0m\u001b[1;33m\u001b[0m\u001b[0m\n\u001b[1;32m---> 24\u001b[1;33m         \u001b[0mresult\u001b[0m\u001b[1;33m[\u001b[0m\u001b[1;33m:\u001b[0m\u001b[1;33m:\u001b[0m\u001b[1;36m2\u001b[0m\u001b[1;33m]\u001b[0m \u001b[1;33m=\u001b[0m \u001b[0mlist_char\u001b[0m\u001b[1;33m\u001b[0m\u001b[1;33m\u001b[0m\u001b[0m\n\u001b[0m\u001b[0;32m     25\u001b[0m         \u001b[0mresult\u001b[0m\u001b[1;33m[\u001b[0m\u001b[1;36m1\u001b[0m\u001b[1;33m:\u001b[0m\u001b[1;33m:\u001b[0m\u001b[1;36m2\u001b[0m\u001b[1;33m]\u001b[0m \u001b[1;33m=\u001b[0m \u001b[0mlist_num\u001b[0m\u001b[1;33m\u001b[0m\u001b[1;33m\u001b[0m\u001b[0m\n\u001b[0;32m     26\u001b[0m \u001b[1;33m\u001b[0m\u001b[0m\n",
      "\u001b[1;31mValueError\u001b[0m: ('attempt to assign sequence of size 1 to extended slice of size 2', 'occurred at index Yinbiao1')"
     ]
    }
   ],
   "source": [
    "yinbiao_df_unique['length'] = yinbiao_df_unique.apply(lambda row: context_concat_len(row, yinbiao_col), axis=1)\n",
    "yinbiao_df_unique['target'] = yinbiao_df_unique.apply(lambda row: context_concat(row, yinbiao_col), axis=1)\n",
    "yinbiao_df_unique = yinbiao_df_unique.dropna(subset=['target'])\n",
    "yinbiao_df_unique"
   ]
  },
  {
   "cell_type": "code",
   "execution_count": null,
   "metadata": {},
   "outputs": [],
   "source": [
    "import re\n",
    "\n",
    "def context_concat_dd(row, index): \n",
    "    target_len = len(row.target)\n",
    "    if index < target_len:\n",
    "        return row.target[index]\n",
    "    return None\n"
   ]
  },
  {
   "cell_type": "code",
   "execution_count": null,
   "metadata": {},
   "outputs": [],
   "source": [
    "column_number = int(max(yinbiao_df_unique['length']))\n",
    "for i in range(column_number):\n",
    "    yinbiao_df_unique['column' + str(i)] = yinbiao_df_unique.apply(lambda row: context_concat_dd(row, i), axis=1)\n",
    "    yinbiao_df_single = yinbiao_df_unique['column' + str(i)]\n",
    "    file_name = 'output' + str(i) + '.csv'\n",
    "    yinbiao_df_single.to_csv(path_or_buf=file_name, encoding='utf-16', index=False)\n",
    "yinbiao_df_unique"
   ]
  },
  {
   "cell_type": "code",
   "execution_count": 77,
   "metadata": {},
   "outputs": [
    {
     "name": "stderr",
     "output_type": "stream",
     "text": [
      "C:\\tools\\ds\\Anaconda3\\envs\\py3\\lib\\site-packages\\ipykernel_launcher.py:4: SettingWithCopyWarning: \n",
      "A value is trying to be set on a copy of a slice from a DataFrame.\n",
      "Try using .loc[row_indexer,col_indexer] = value instead\n",
      "\n",
      "See the caveats in the documentation: http://pandas.pydata.org/pandas-docs/stable/user_guide/indexing.html#returning-a-view-versus-a-copy\n",
      "  after removing the cwd from sys.path.\n"
     ]
    },
    {
     "data": {
      "text/html": [
       "<div>\n",
       "<style scoped>\n",
       "    .dataframe tbody tr th:only-of-type {\n",
       "        vertical-align: middle;\n",
       "    }\n",
       "\n",
       "    .dataframe tbody tr th {\n",
       "        vertical-align: top;\n",
       "    }\n",
       "\n",
       "    .dataframe thead th {\n",
       "        text-align: right;\n",
       "    }\n",
       "</style>\n",
       "<table border=\"1\" class=\"dataframe\">\n",
       "  <thead>\n",
       "    <tr style=\"text-align: right;\">\n",
       "      <th></th>\n",
       "      <th>id</th>\n",
       "      <th>Yinbiao</th>\n",
       "      <th>length</th>\n",
       "      <th>target</th>\n",
       "      <th>0</th>\n",
       "      <th>1</th>\n",
       "      <th>2</th>\n",
       "      <th>3</th>\n",
       "      <th>column0</th>\n",
       "      <th>column1</th>\n",
       "      <th>column2</th>\n",
       "      <th>column3</th>\n",
       "    </tr>\n",
       "  </thead>\n",
       "  <tbody>\n",
       "    <tr>\n",
       "      <td>Yinbiao1</td>\n",
       "      <td>2.0</td>\n",
       "      <td>hau44</td>\n",
       "      <td>2.0</td>\n",
       "      <td>[hau, 44]</td>\n",
       "      <td>hau</td>\n",
       "      <td>44</td>\n",
       "      <td>None</td>\n",
       "      <td>None</td>\n",
       "      <td>hau</td>\n",
       "      <td>44</td>\n",
       "      <td>None</td>\n",
       "      <td>None</td>\n",
       "    </tr>\n",
       "    <tr>\n",
       "      <td>Yinbiao1</td>\n",
       "      <td>3.0</td>\n",
       "      <td>kji35</td>\n",
       "      <td>2.0</td>\n",
       "      <td>[kji, 35]</td>\n",
       "      <td>kji</td>\n",
       "      <td>35</td>\n",
       "      <td>None</td>\n",
       "      <td>None</td>\n",
       "      <td>kji</td>\n",
       "      <td>35</td>\n",
       "      <td>None</td>\n",
       "      <td>None</td>\n",
       "    </tr>\n",
       "    <tr>\n",
       "      <td>Yinbiao1</td>\n",
       "      <td>5.0</td>\n",
       "      <td>io31i22</td>\n",
       "      <td>4.0</td>\n",
       "      <td>[io, 31, i, 22]</td>\n",
       "      <td>io</td>\n",
       "      <td>31</td>\n",
       "      <td>i</td>\n",
       "      <td>22</td>\n",
       "      <td>io</td>\n",
       "      <td>31</td>\n",
       "      <td>i</td>\n",
       "      <td>22</td>\n",
       "    </tr>\n",
       "    <tr>\n",
       "      <td>Yinbiao1</td>\n",
       "      <td>6.0</td>\n",
       "      <td>kuŋ35kwaŋ31</td>\n",
       "      <td>4.0</td>\n",
       "      <td>[kuŋ, 35, kwaŋ, 31]</td>\n",
       "      <td>kuŋ</td>\n",
       "      <td>35</td>\n",
       "      <td>kwaŋ</td>\n",
       "      <td>31</td>\n",
       "      <td>kuŋ</td>\n",
       "      <td>35</td>\n",
       "      <td>kwaŋ</td>\n",
       "      <td>31</td>\n",
       "    </tr>\n",
       "    <tr>\n",
       "      <td>Yinbiao1</td>\n",
       "      <td>7.0</td>\n",
       "      <td>luŋ44ŋa31</td>\n",
       "      <td>4.0</td>\n",
       "      <td>[luŋ, 44, ŋa, 31]</td>\n",
       "      <td>luŋ</td>\n",
       "      <td>44</td>\n",
       "      <td>ŋa</td>\n",
       "      <td>31</td>\n",
       "      <td>luŋ</td>\n",
       "      <td>44</td>\n",
       "      <td>ŋa</td>\n",
       "      <td>31</td>\n",
       "    </tr>\n",
       "    <tr>\n",
       "      <td>Yinbiao1</td>\n",
       "      <td>8.0</td>\n",
       "      <td>hən22</td>\n",
       "      <td>2.0</td>\n",
       "      <td>[hən, 22]</td>\n",
       "      <td>hən</td>\n",
       "      <td>22</td>\n",
       "      <td>None</td>\n",
       "      <td>None</td>\n",
       "      <td>hən</td>\n",
       "      <td>22</td>\n",
       "      <td>None</td>\n",
       "      <td>None</td>\n",
       "    </tr>\n",
       "    <tr>\n",
       "      <td>Yinbiao2</td>\n",
       "      <td>8.0</td>\n",
       "      <td>le35suŋ31</td>\n",
       "      <td>4.0</td>\n",
       "      <td>[le, 35, suŋ, 31]</td>\n",
       "      <td>le</td>\n",
       "      <td>35</td>\n",
       "      <td>suŋ</td>\n",
       "      <td>31</td>\n",
       "      <td>le</td>\n",
       "      <td>35</td>\n",
       "      <td>suŋ</td>\n",
       "      <td>31</td>\n",
       "    </tr>\n",
       "  </tbody>\n",
       "</table>\n",
       "</div>"
      ],
      "text/plain": [
       "           id      Yinbiao  length               target    0   1     2     3  \\\n",
       "Yinbiao1  2.0        hau44     2.0            [hau, 44]  hau  44  None  None   \n",
       "Yinbiao1  3.0        kji35     2.0            [kji, 35]  kji  35  None  None   \n",
       "Yinbiao1  5.0      io31i22     4.0      [io, 31, i, 22]   io  31     i    22   \n",
       "Yinbiao1  6.0  kuŋ35kwaŋ31     4.0  [kuŋ, 35, kwaŋ, 31]  kuŋ  35  kwaŋ    31   \n",
       "Yinbiao1  7.0    luŋ44ŋa31     4.0    [luŋ, 44, ŋa, 31]  luŋ  44    ŋa    31   \n",
       "Yinbiao1  8.0        hən22     2.0            [hən, 22]  hən  22  None  None   \n",
       "Yinbiao2  8.0    le35suŋ31     4.0    [le, 35, suŋ, 31]   le  35   suŋ    31   \n",
       "\n",
       "         column0 column1 column2 column3  \n",
       "Yinbiao1     hau      44    None    None  \n",
       "Yinbiao1     kji      35    None    None  \n",
       "Yinbiao1      io      31       i      22  \n",
       "Yinbiao1     kuŋ      35    kwaŋ      31  \n",
       "Yinbiao1     luŋ      44      ŋa      31  \n",
       "Yinbiao1     hən      22    None    None  \n",
       "Yinbiao2      le      35     suŋ      31  "
      ]
     },
     "execution_count": 77,
     "metadata": {},
     "output_type": "execute_result"
    }
   ],
   "source": [
    "column_number = int(max(yinbiao_df_unique['length']))\n",
    "column_keep = []\n",
    "for i in range(column_number):\n",
    "    yinbiao_df_unique['column' + str(i)] = yinbiao_df_unique.apply(lambda row: context_concat_dd(row, i), axis=1)\n",
    "    column_keep.append('column' + str(i))\n",
    "yinbiao_df_unique"
   ]
  },
  {
   "cell_type": "code",
   "execution_count": 78,
   "metadata": {},
   "outputs": [
    {
     "data": {
      "text/html": [
       "<div>\n",
       "<style scoped>\n",
       "    .dataframe tbody tr th:only-of-type {\n",
       "        vertical-align: middle;\n",
       "    }\n",
       "\n",
       "    .dataframe tbody tr th {\n",
       "        vertical-align: top;\n",
       "    }\n",
       "\n",
       "    .dataframe thead th {\n",
       "        text-align: right;\n",
       "    }\n",
       "</style>\n",
       "<table border=\"1\" class=\"dataframe\">\n",
       "  <thead>\n",
       "    <tr style=\"text-align: right;\">\n",
       "      <th></th>\n",
       "      <th>index</th>\n",
       "      <th>column0</th>\n",
       "      <th>column1</th>\n",
       "      <th>column2</th>\n",
       "      <th>column3</th>\n",
       "    </tr>\n",
       "  </thead>\n",
       "  <tbody>\n",
       "    <tr>\n",
       "      <td>0</td>\n",
       "      <td>Yinbiao1</td>\n",
       "      <td>hau</td>\n",
       "      <td>44</td>\n",
       "      <td>None</td>\n",
       "      <td>None</td>\n",
       "    </tr>\n",
       "    <tr>\n",
       "      <td>1</td>\n",
       "      <td>Yinbiao1</td>\n",
       "      <td>kji</td>\n",
       "      <td>35</td>\n",
       "      <td>None</td>\n",
       "      <td>None</td>\n",
       "    </tr>\n",
       "    <tr>\n",
       "      <td>2</td>\n",
       "      <td>Yinbiao1</td>\n",
       "      <td>io</td>\n",
       "      <td>31</td>\n",
       "      <td>i</td>\n",
       "      <td>22</td>\n",
       "    </tr>\n",
       "    <tr>\n",
       "      <td>3</td>\n",
       "      <td>Yinbiao1</td>\n",
       "      <td>kuŋ</td>\n",
       "      <td>35</td>\n",
       "      <td>kwaŋ</td>\n",
       "      <td>31</td>\n",
       "    </tr>\n",
       "    <tr>\n",
       "      <td>4</td>\n",
       "      <td>Yinbiao1</td>\n",
       "      <td>luŋ</td>\n",
       "      <td>44</td>\n",
       "      <td>ŋa</td>\n",
       "      <td>31</td>\n",
       "    </tr>\n",
       "    <tr>\n",
       "      <td>5</td>\n",
       "      <td>Yinbiao1</td>\n",
       "      <td>hən</td>\n",
       "      <td>22</td>\n",
       "      <td>None</td>\n",
       "      <td>None</td>\n",
       "    </tr>\n",
       "    <tr>\n",
       "      <td>6</td>\n",
       "      <td>Yinbiao2</td>\n",
       "      <td>le</td>\n",
       "      <td>35</td>\n",
       "      <td>suŋ</td>\n",
       "      <td>31</td>\n",
       "    </tr>\n",
       "  </tbody>\n",
       "</table>\n",
       "</div>"
      ],
      "text/plain": [
       "      index column0 column1 column2 column3\n",
       "0  Yinbiao1     hau      44    None    None\n",
       "1  Yinbiao1     kji      35    None    None\n",
       "2  Yinbiao1      io      31       i      22\n",
       "3  Yinbiao1     kuŋ      35    kwaŋ      31\n",
       "4  Yinbiao1     luŋ      44      ŋa      31\n",
       "5  Yinbiao1     hən      22    None    None\n",
       "6  Yinbiao2      le      35     suŋ      31"
      ]
     },
     "execution_count": 78,
     "metadata": {},
     "output_type": "execute_result"
    }
   ],
   "source": [
    "yinbiao_df_final = yinbiao_df_unique[column_keep].reset_index()\n",
    "yinbiao_df_final"
   ]
  },
  {
   "cell_type": "code",
   "execution_count": 79,
   "metadata": {},
   "outputs": [],
   "source": [
    "yinbiao_df_final_1 = yinbiao_df_final.drop(columns=['index'], axis=1)"
   ]
  },
  {
   "cell_type": "code",
   "execution_count": 80,
   "metadata": {},
   "outputs": [
    {
     "data": {
      "text/html": [
       "<div>\n",
       "<style scoped>\n",
       "    .dataframe tbody tr th:only-of-type {\n",
       "        vertical-align: middle;\n",
       "    }\n",
       "\n",
       "    .dataframe tbody tr th {\n",
       "        vertical-align: top;\n",
       "    }\n",
       "\n",
       "    .dataframe thead th {\n",
       "        text-align: right;\n",
       "    }\n",
       "</style>\n",
       "<table border=\"1\" class=\"dataframe\">\n",
       "  <thead>\n",
       "    <tr style=\"text-align: right;\">\n",
       "      <th></th>\n",
       "      <th>column0</th>\n",
       "      <th>column1</th>\n",
       "      <th>column2</th>\n",
       "      <th>column3</th>\n",
       "    </tr>\n",
       "  </thead>\n",
       "  <tbody>\n",
       "    <tr>\n",
       "      <td>0</td>\n",
       "      <td>hau</td>\n",
       "      <td>44</td>\n",
       "      <td>None</td>\n",
       "      <td>None</td>\n",
       "    </tr>\n",
       "    <tr>\n",
       "      <td>1</td>\n",
       "      <td>kji</td>\n",
       "      <td>35</td>\n",
       "      <td>None</td>\n",
       "      <td>None</td>\n",
       "    </tr>\n",
       "    <tr>\n",
       "      <td>2</td>\n",
       "      <td>io</td>\n",
       "      <td>31</td>\n",
       "      <td>i</td>\n",
       "      <td>22</td>\n",
       "    </tr>\n",
       "    <tr>\n",
       "      <td>3</td>\n",
       "      <td>kuŋ</td>\n",
       "      <td>35</td>\n",
       "      <td>kwaŋ</td>\n",
       "      <td>31</td>\n",
       "    </tr>\n",
       "    <tr>\n",
       "      <td>4</td>\n",
       "      <td>luŋ</td>\n",
       "      <td>44</td>\n",
       "      <td>ŋa</td>\n",
       "      <td>31</td>\n",
       "    </tr>\n",
       "    <tr>\n",
       "      <td>5</td>\n",
       "      <td>hən</td>\n",
       "      <td>22</td>\n",
       "      <td>None</td>\n",
       "      <td>None</td>\n",
       "    </tr>\n",
       "    <tr>\n",
       "      <td>6</td>\n",
       "      <td>le</td>\n",
       "      <td>35</td>\n",
       "      <td>suŋ</td>\n",
       "      <td>31</td>\n",
       "    </tr>\n",
       "  </tbody>\n",
       "</table>\n",
       "</div>"
      ],
      "text/plain": [
       "  column0 column1 column2 column3\n",
       "0     hau      44    None    None\n",
       "1     kji      35    None    None\n",
       "2      io      31       i      22\n",
       "3     kuŋ      35    kwaŋ      31\n",
       "4     luŋ      44      ŋa      31\n",
       "5     hən      22    None    None\n",
       "6      le      35     suŋ      31"
      ]
     },
     "execution_count": 80,
     "metadata": {},
     "output_type": "execute_result"
    }
   ],
   "source": [
    "yinbiao_df_final_1"
   ]
  },
  {
   "cell_type": "code",
   "execution_count": 76,
   "metadata": {},
   "outputs": [],
   "source": [
    "yinbiao_df_final.to_csv?"
   ]
  },
  {
   "cell_type": "code",
   "execution_count": 85,
   "metadata": {},
   "outputs": [],
   "source": [
    "df = pd.DataFrame({'name': ['Raphael', 'Donatello'],\n",
    "                    'mask': ['red', 'purple'],\n",
    "                   'weapon': ['sai', 'bo staff']})\n",
    "df.to_csv(path_or_buf='output1.csv', index=False)"
   ]
  },
  {
   "cell_type": "code",
   "execution_count": 88,
   "metadata": {},
   "outputs": [],
   "source": [
    "yinbiao_df_final_1.to_csv(path_or_buf='output.csv', encoding='utf-8', index=False)"
   ]
  },
  {
   "cell_type": "code",
   "execution_count": 153,
   "metadata": {},
   "outputs": [
    {
     "name": "stdout",
     "output_type": "stream",
     "text": [
      "hau,44\n",
      "['hau', '44']\n",
      "{'column1': 'hau', 'column2': '44'}\n",
      "kji,35\n",
      "['kji', '35']\n",
      "{'column1': 'kji', 'column2': '35'}\n",
      "io,31,i,22\n",
      "['io', '31', 'i', '22']\n",
      "{'column1': 'io', 'column2': '31', 'column3': 'i', 'column4': '22'}\n",
      "kuŋ,35,kwaŋ,31\n",
      "['kuŋ', '35', 'kwaŋ', '31']\n",
      "{'column1': 'kuŋ', 'column2': '35', 'column3': 'kwaŋ', 'column4': '31'}\n",
      "luŋ,44,ŋa,31\n",
      "['luŋ', '44', 'ŋa', '31']\n",
      "{'column1': 'luŋ', 'column2': '44', 'column3': 'ŋa', 'column4': '31'}\n",
      "hən,22\n",
      "['hən', '22']\n",
      "{'column1': 'hən', 'column2': '22'}\n",
      "le,35,suŋ,31\n",
      "['le', '35', 'suŋ', '31']\n",
      "{'column1': 'le', 'column2': '35', 'column3': 'suŋ', 'column4': '31'}\n",
      "io,31,i,22\n",
      "['io', '31', 'i', '22']\n",
      "{'column1': 'io', 'column2': '31', 'column3': 'i', 'column4': '22'}\n"
     ]
    }
   ],
   "source": [
    "import csv\n",
    "with open('output.csv', \"w\", encoding='utf-16') as csv_file:\n",
    "        writer = csv.writer(csv_file)\n",
    "        for index, row in report_data_5.iterrows():\n",
    "            print(row['target'])\n",
    "            l_s = row['target'].split(',')\n",
    "            print(l_s)\n",
    "            columns_map={'column1':''}\n",
    "            for i in range(len(l_s)):\n",
    "                key = 'column' + str((i + 1))\n",
    "                columns_map[key] = l_s[i]\n",
    "            print(columns_map)\n",
    "            writer.writerow(columns_map)\n"
   ]
  },
  {
   "cell_type": "code",
   "execution_count": 113,
   "metadata": {},
   "outputs": [
    {
     "name": "stderr",
     "output_type": "stream",
     "text": [
      "C:\\tools\\ds\\Anaconda3\\envs\\py3\\lib\\site-packages\\ipykernel_launcher.py:1: FutureWarning: The signature of `Series.to_csv` was aligned to that of `DataFrame.to_csv`, and argument 'path' will be renamed to 'path_or_buf'.\n",
      "  \"\"\"Entry point for launching an IPython kernel.\n",
      "C:\\tools\\ds\\Anaconda3\\envs\\py3\\lib\\site-packages\\ipykernel_launcher.py:1: FutureWarning: The signature of `Series.to_csv` was aligned to that of `DataFrame.to_csv`, and argument 'header' will change its default value from False to True: please pass an explicit value to suppress this warning.\n",
      "  \"\"\"Entry point for launching an IPython kernel.\n"
     ]
    }
   ],
   "source": [
    "report_data_5.to_csv(path='output3.csv', sep=\",\", encoding='utf-16')"
   ]
  },
  {
   "cell_type": "code",
   "execution_count": null,
   "metadata": {},
   "outputs": [],
   "source": [
    "report_data_3['target'].to_csv"
   ]
  },
  {
   "cell_type": "code",
   "execution_count": 59,
   "metadata": {},
   "outputs": [
    {
     "data": {
      "text/plain": [
       "['hello world']"
      ]
     },
     "execution_count": 59,
     "metadata": {},
     "output_type": "execute_result"
    }
   ],
   "source": [
    "import re\n",
    "re.split('\\\\d+', 'hello world')"
   ]
  },
  {
   "cell_type": "code",
   "execution_count": 67,
   "metadata": {},
   "outputs": [
    {
     "data": {
      "text/plain": [
       "['kuŋ', 'kwaŋ']"
      ]
     },
     "execution_count": 67,
     "metadata": {},
     "output_type": "execute_result"
    }
   ],
   "source": [
    "re.split('\\\\d+', 'kuŋ35kwaŋ31')[:-1]"
   ]
  },
  {
   "cell_type": "code",
   "execution_count": 68,
   "metadata": {},
   "outputs": [
    {
     "data": {
      "text/plain": [
       "['35', '31']"
      ]
     },
     "execution_count": 68,
     "metadata": {},
     "output_type": "execute_result"
    }
   ],
   "source": [
    "re.split('\\\\D+', 'kuŋ35kwaŋ31')[1:]"
   ]
  },
  {
   "cell_type": "code",
   "execution_count": 53,
   "metadata": {},
   "outputs": [
    {
     "data": {
      "text/plain": [
       "['test', 'test', 'test', '']"
      ]
     },
     "execution_count": 53,
     "metadata": {},
     "output_type": "execute_result"
    }
   ],
   "source": [
    "re.split('\\W+', 'test, test, test.')"
   ]
  },
  {
   "cell_type": "code",
   "execution_count": 45,
   "metadata": {},
   "outputs": [
    {
     "data": {
      "text/html": [
       "<div>\n",
       "<style scoped>\n",
       "    .dataframe tbody tr th:only-of-type {\n",
       "        vertical-align: middle;\n",
       "    }\n",
       "\n",
       "    .dataframe tbody tr th {\n",
       "        vertical-align: top;\n",
       "    }\n",
       "\n",
       "    .dataframe thead th {\n",
       "        text-align: right;\n",
       "    }\n",
       "</style>\n",
       "<table border=\"1\" class=\"dataframe\">\n",
       "  <thead>\n",
       "    <tr style=\"text-align: right;\">\n",
       "      <th></th>\n",
       "      <th>id</th>\n",
       "      <th>Yinbiao</th>\n",
       "    </tr>\n",
       "  </thead>\n",
       "  <tbody>\n",
       "    <tr>\n",
       "      <td>Yinbiao1</td>\n",
       "      <td>2</td>\n",
       "      <td>hau44</td>\n",
       "    </tr>\n",
       "    <tr>\n",
       "      <td>Yinbiao1</td>\n",
       "      <td>3</td>\n",
       "      <td>kji35</td>\n",
       "    </tr>\n",
       "    <tr>\n",
       "      <td>Yinbiao1</td>\n",
       "      <td>4</td>\n",
       "      <td>（无）</td>\n",
       "    </tr>\n",
       "    <tr>\n",
       "      <td>Yinbiao1</td>\n",
       "      <td>5</td>\n",
       "      <td>io31i22</td>\n",
       "    </tr>\n",
       "    <tr>\n",
       "      <td>Yinbiao1</td>\n",
       "      <td>6</td>\n",
       "      <td>kuŋ35kwaŋ31</td>\n",
       "    </tr>\n",
       "    <tr>\n",
       "      <td>Yinbiao1</td>\n",
       "      <td>7</td>\n",
       "      <td>luŋ44ŋa31</td>\n",
       "    </tr>\n",
       "    <tr>\n",
       "      <td>Yinbiao1</td>\n",
       "      <td>8</td>\n",
       "      <td>hən22</td>\n",
       "    </tr>\n",
       "    <tr>\n",
       "      <td>Yinbiao2</td>\n",
       "      <td>8</td>\n",
       "      <td>le35suŋ31</td>\n",
       "    </tr>\n",
       "    <tr>\n",
       "      <td>Yinbiao3</td>\n",
       "      <td>8</td>\n",
       "      <td>io31i22</td>\n",
       "    </tr>\n",
       "  </tbody>\n",
       "</table>\n",
       "</div>"
      ],
      "text/plain": [
       "          id      Yinbiao\n",
       "Yinbiao1   2        hau44\n",
       "Yinbiao1   3        kji35\n",
       "Yinbiao1   4          （无）\n",
       "Yinbiao1   5      io31i22\n",
       "Yinbiao1   6  kuŋ35kwaŋ31\n",
       "Yinbiao1   7    luŋ44ŋa31\n",
       "Yinbiao1   8        hən22\n",
       "Yinbiao2   8    le35suŋ31\n",
       "Yinbiao3   8      io31i22"
      ]
     },
     "execution_count": 45,
     "metadata": {},
     "output_type": "execute_result"
    }
   ],
   "source": [
    "report_data_3.columns = ['id', 'Yinbiao']\n",
    "report_data_3"
   ]
  },
  {
   "cell_type": "code",
   "execution_count": 33,
   "metadata": {},
   "outputs": [
    {
     "data": {
      "text/plain": [
       "MultiIndex([(2, 'Yinbiao1'),\n",
       "            (3, 'Yinbiao1'),\n",
       "            (4, 'Yinbiao1'),\n",
       "            (5, 'Yinbiao1'),\n",
       "            (6, 'Yinbiao1'),\n",
       "            (7, 'Yinbiao1'),\n",
       "            (8, 'Yinbiao1'),\n",
       "            (8, 'Yinbiao2'),\n",
       "            (8, 'Yinbiao3')],\n",
       "           names=['id', None])"
      ]
     },
     "execution_count": 33,
     "metadata": {},
     "output_type": "execute_result"
    }
   ],
   "source": [
    "report_data_2.index"
   ]
  },
  {
   "cell_type": "code",
   "execution_count": 19,
   "metadata": {},
   "outputs": [
    {
     "data": {
      "text/plain": [
       "EmployeeId   \n",
       "001         0       Mumbai\n",
       "            1    Bangalore\n",
       "002         0         Pune\n",
       "            1       Mumbai\n",
       "            2        Delhi\n",
       "003         0       Mumbai\n",
       "            1    Bangalore\n",
       "004         0       Mumbai\n",
       "            1         Pune\n",
       "005         0    Bangalore\n",
       "dtype: object"
      ]
     },
     "execution_count": 19,
     "metadata": {},
     "output_type": "execute_result"
    }
   ],
   "source": [
    "# Step 1\n",
    "# We start with creating a new dataframe from the series with EmployeeId as the index\n",
    "new_df = pd.DataFrame(df.City.str.split('|').tolist(), index=df.EmployeeId).stack()\n",
    "new_df"
   ]
  },
  {
   "cell_type": "code",
   "execution_count": 26,
   "metadata": {},
   "outputs": [
    {
     "data": {
      "text/plain": [
       "RangeIndex(start=0, stop=10, step=1)"
      ]
     },
     "execution_count": 26,
     "metadata": {},
     "output_type": "execute_result"
    }
   ],
   "source": [
    "new_df.index"
   ]
  },
  {
   "cell_type": "code",
   "execution_count": 20,
   "metadata": {},
   "outputs": [
    {
     "data": {
      "text/html": [
       "<div>\n",
       "<style scoped>\n",
       "    .dataframe tbody tr th:only-of-type {\n",
       "        vertical-align: middle;\n",
       "    }\n",
       "\n",
       "    .dataframe tbody tr th {\n",
       "        vertical-align: top;\n",
       "    }\n",
       "\n",
       "    .dataframe thead th {\n",
       "        text-align: right;\n",
       "    }\n",
       "</style>\n",
       "<table border=\"1\" class=\"dataframe\">\n",
       "  <thead>\n",
       "    <tr style=\"text-align: right;\">\n",
       "      <th></th>\n",
       "      <th>EmployeeId</th>\n",
       "      <th>0</th>\n",
       "    </tr>\n",
       "  </thead>\n",
       "  <tbody>\n",
       "    <tr>\n",
       "      <td>0</td>\n",
       "      <td>001</td>\n",
       "      <td>Mumbai</td>\n",
       "    </tr>\n",
       "    <tr>\n",
       "      <td>1</td>\n",
       "      <td>001</td>\n",
       "      <td>Bangalore</td>\n",
       "    </tr>\n",
       "    <tr>\n",
       "      <td>2</td>\n",
       "      <td>002</td>\n",
       "      <td>Pune</td>\n",
       "    </tr>\n",
       "    <tr>\n",
       "      <td>3</td>\n",
       "      <td>002</td>\n",
       "      <td>Mumbai</td>\n",
       "    </tr>\n",
       "    <tr>\n",
       "      <td>4</td>\n",
       "      <td>002</td>\n",
       "      <td>Delhi</td>\n",
       "    </tr>\n",
       "    <tr>\n",
       "      <td>5</td>\n",
       "      <td>003</td>\n",
       "      <td>Mumbai</td>\n",
       "    </tr>\n",
       "    <tr>\n",
       "      <td>6</td>\n",
       "      <td>003</td>\n",
       "      <td>Bangalore</td>\n",
       "    </tr>\n",
       "    <tr>\n",
       "      <td>7</td>\n",
       "      <td>004</td>\n",
       "      <td>Mumbai</td>\n",
       "    </tr>\n",
       "    <tr>\n",
       "      <td>8</td>\n",
       "      <td>004</td>\n",
       "      <td>Pune</td>\n",
       "    </tr>\n",
       "    <tr>\n",
       "      <td>9</td>\n",
       "      <td>005</td>\n",
       "      <td>Bangalore</td>\n",
       "    </tr>\n",
       "  </tbody>\n",
       "</table>\n",
       "</div>"
      ],
      "text/plain": [
       "  EmployeeId          0\n",
       "0        001     Mumbai\n",
       "1        001  Bangalore\n",
       "2        002       Pune\n",
       "3        002     Mumbai\n",
       "4        002      Delhi\n",
       "5        003     Mumbai\n",
       "6        003  Bangalore\n",
       "7        004     Mumbai\n",
       "8        004       Pune\n",
       "9        005  Bangalore"
      ]
     },
     "execution_count": 20,
     "metadata": {},
     "output_type": "execute_result"
    }
   ],
   "source": [
    "# Step 2\n",
    "# We now want to get rid of the secondary index\n",
    "# To do this, we will make EmployeeId as a column (it can't be an index since the values will be duplicate)\n",
    "new_df = new_df.reset_index([0, 'EmployeeId'])\n",
    "new_df"
   ]
  },
  {
   "cell_type": "code",
   "execution_count": null,
   "metadata": {},
   "outputs": [],
   "source": [
    "# Step 3\n",
    "# The final step is to set the column names as we want them\n",
    "new_df.columns = ['EmployeeId', 'City']"
   ]
  },
  {
   "cell_type": "code",
   "execution_count": 25,
   "metadata": {},
   "outputs": [
    {
     "data": {
      "text/plain": [
       "MultiIndex([(0,       'id'),\n",
       "            (0, 'Yinbiao1'),\n",
       "            (1,       'id'),\n",
       "            (1, 'Yinbiao1'),\n",
       "            (2,       'id'),\n",
       "            (2, 'Yinbiao1'),\n",
       "            (3,       'id'),\n",
       "            (3, 'Yinbiao1'),\n",
       "            (4,       'id'),\n",
       "            (4, 'Yinbiao1'),\n",
       "            (5,       'id'),\n",
       "            (5, 'Yinbiao1'),\n",
       "            (6,       'id'),\n",
       "            (6, 'Yinbiao1'),\n",
       "            (7,       'id'),\n",
       "            (7, 'Yinbiao1'),\n",
       "            (8,       'id'),\n",
       "            (8, 'Yinbiao1'),\n",
       "            (8, 'Yinbiao2'),\n",
       "            (8, 'Yinbiao3')],\n",
       "           )"
      ]
     },
     "execution_count": 25,
     "metadata": {},
     "output_type": "execute_result"
    }
   ],
   "source": [
    "report_data_2.index"
   ]
  },
  {
   "cell_type": "code",
   "execution_count": 24,
   "metadata": {},
   "outputs": [
    {
     "ename": "KeyError",
     "evalue": "'Level id not found'",
     "output_type": "error",
     "traceback": [
      "\u001b[1;31m---------------------------------------------------------------------------\u001b[0m",
      "\u001b[1;31mValueError\u001b[0m                                Traceback (most recent call last)",
      "\u001b[1;32mC:\\tools\\ds\\Anaconda3\\envs\\py3\\lib\\site-packages\\pandas\\core\\indexes\\multi.py\u001b[0m in \u001b[0;36m_get_level_number\u001b[1;34m(self, level)\u001b[0m\n\u001b[0;32m   1294\u001b[0m         \u001b[1;32mtry\u001b[0m\u001b[1;33m:\u001b[0m\u001b[1;33m\u001b[0m\u001b[1;33m\u001b[0m\u001b[0m\n\u001b[1;32m-> 1295\u001b[1;33m             \u001b[0mlevel\u001b[0m \u001b[1;33m=\u001b[0m \u001b[0mself\u001b[0m\u001b[1;33m.\u001b[0m\u001b[0mnames\u001b[0m\u001b[1;33m.\u001b[0m\u001b[0mindex\u001b[0m\u001b[1;33m(\u001b[0m\u001b[0mlevel\u001b[0m\u001b[1;33m)\u001b[0m\u001b[1;33m\u001b[0m\u001b[1;33m\u001b[0m\u001b[0m\n\u001b[0m\u001b[0;32m   1296\u001b[0m         \u001b[1;32mexcept\u001b[0m \u001b[0mValueError\u001b[0m\u001b[1;33m:\u001b[0m\u001b[1;33m\u001b[0m\u001b[1;33m\u001b[0m\u001b[0m\n",
      "\u001b[1;31mValueError\u001b[0m: 'id' is not in list",
      "\nDuring handling of the above exception, another exception occurred:\n",
      "\u001b[1;31mKeyError\u001b[0m                                  Traceback (most recent call last)",
      "\u001b[1;32m<ipython-input-24-f68f8845463f>\u001b[0m in \u001b[0;36m<module>\u001b[1;34m\u001b[0m\n\u001b[1;32m----> 1\u001b[1;33m \u001b[0mreport_data_3\u001b[0m \u001b[1;33m=\u001b[0m \u001b[0mreport_data_2\u001b[0m\u001b[1;33m.\u001b[0m\u001b[0mreset_index\u001b[0m\u001b[1;33m(\u001b[0m\u001b[1;34m'id'\u001b[0m\u001b[1;33m)\u001b[0m\u001b[1;33m\u001b[0m\u001b[1;33m\u001b[0m\u001b[0m\n\u001b[0m\u001b[0;32m      2\u001b[0m \u001b[0mreport_data_3\u001b[0m\u001b[1;33m\u001b[0m\u001b[1;33m\u001b[0m\u001b[0m\n",
      "\u001b[1;32mC:\\tools\\ds\\Anaconda3\\envs\\py3\\lib\\site-packages\\pandas\\core\\series.py\u001b[0m in \u001b[0;36mreset_index\u001b[1;34m(self, level, drop, name, inplace)\u001b[0m\n\u001b[0;32m   1584\u001b[0m         \u001b[1;32melse\u001b[0m\u001b[1;33m:\u001b[0m\u001b[1;33m\u001b[0m\u001b[1;33m\u001b[0m\u001b[0m\n\u001b[0;32m   1585\u001b[0m             \u001b[0mdf\u001b[0m \u001b[1;33m=\u001b[0m \u001b[0mself\u001b[0m\u001b[1;33m.\u001b[0m\u001b[0mto_frame\u001b[0m\u001b[1;33m(\u001b[0m\u001b[0mname\u001b[0m\u001b[1;33m)\u001b[0m\u001b[1;33m\u001b[0m\u001b[1;33m\u001b[0m\u001b[0m\n\u001b[1;32m-> 1586\u001b[1;33m             \u001b[1;32mreturn\u001b[0m \u001b[0mdf\u001b[0m\u001b[1;33m.\u001b[0m\u001b[0mreset_index\u001b[0m\u001b[1;33m(\u001b[0m\u001b[0mlevel\u001b[0m\u001b[1;33m=\u001b[0m\u001b[0mlevel\u001b[0m\u001b[1;33m,\u001b[0m \u001b[0mdrop\u001b[0m\u001b[1;33m=\u001b[0m\u001b[0mdrop\u001b[0m\u001b[1;33m)\u001b[0m\u001b[1;33m\u001b[0m\u001b[1;33m\u001b[0m\u001b[0m\n\u001b[0m\u001b[0;32m   1587\u001b[0m \u001b[1;33m\u001b[0m\u001b[0m\n\u001b[0;32m   1588\u001b[0m     \u001b[1;31m# ----------------------------------------------------------------------\u001b[0m\u001b[1;33m\u001b[0m\u001b[1;33m\u001b[0m\u001b[1;33m\u001b[0m\u001b[0m\n",
      "\u001b[1;32mC:\\tools\\ds\\Anaconda3\\envs\\py3\\lib\\site-packages\\pandas\\core\\frame.py\u001b[0m in \u001b[0;36mreset_index\u001b[1;34m(self, level, drop, inplace, col_level, col_fill)\u001b[0m\n\u001b[0;32m   4653\u001b[0m             \u001b[1;32mif\u001b[0m \u001b[1;32mnot\u001b[0m \u001b[0misinstance\u001b[0m\u001b[1;33m(\u001b[0m\u001b[0mlevel\u001b[0m\u001b[1;33m,\u001b[0m \u001b[1;33m(\u001b[0m\u001b[0mtuple\u001b[0m\u001b[1;33m,\u001b[0m \u001b[0mlist\u001b[0m\u001b[1;33m)\u001b[0m\u001b[1;33m)\u001b[0m\u001b[1;33m:\u001b[0m\u001b[1;33m\u001b[0m\u001b[1;33m\u001b[0m\u001b[0m\n\u001b[0;32m   4654\u001b[0m                 \u001b[0mlevel\u001b[0m \u001b[1;33m=\u001b[0m \u001b[1;33m[\u001b[0m\u001b[0mlevel\u001b[0m\u001b[1;33m]\u001b[0m\u001b[1;33m\u001b[0m\u001b[1;33m\u001b[0m\u001b[0m\n\u001b[1;32m-> 4655\u001b[1;33m             \u001b[0mlevel\u001b[0m \u001b[1;33m=\u001b[0m \u001b[1;33m[\u001b[0m\u001b[0mself\u001b[0m\u001b[1;33m.\u001b[0m\u001b[0mindex\u001b[0m\u001b[1;33m.\u001b[0m\u001b[0m_get_level_number\u001b[0m\u001b[1;33m(\u001b[0m\u001b[0mlev\u001b[0m\u001b[1;33m)\u001b[0m \u001b[1;32mfor\u001b[0m \u001b[0mlev\u001b[0m \u001b[1;32min\u001b[0m \u001b[0mlevel\u001b[0m\u001b[1;33m]\u001b[0m\u001b[1;33m\u001b[0m\u001b[1;33m\u001b[0m\u001b[0m\n\u001b[0m\u001b[0;32m   4656\u001b[0m             \u001b[1;32mif\u001b[0m \u001b[0mlen\u001b[0m\u001b[1;33m(\u001b[0m\u001b[0mlevel\u001b[0m\u001b[1;33m)\u001b[0m \u001b[1;33m<\u001b[0m \u001b[0mself\u001b[0m\u001b[1;33m.\u001b[0m\u001b[0mindex\u001b[0m\u001b[1;33m.\u001b[0m\u001b[0mnlevels\u001b[0m\u001b[1;33m:\u001b[0m\u001b[1;33m\u001b[0m\u001b[1;33m\u001b[0m\u001b[0m\n\u001b[0;32m   4657\u001b[0m                 \u001b[0mnew_index\u001b[0m \u001b[1;33m=\u001b[0m \u001b[0mself\u001b[0m\u001b[1;33m.\u001b[0m\u001b[0mindex\u001b[0m\u001b[1;33m.\u001b[0m\u001b[0mdroplevel\u001b[0m\u001b[1;33m(\u001b[0m\u001b[0mlevel\u001b[0m\u001b[1;33m)\u001b[0m\u001b[1;33m\u001b[0m\u001b[1;33m\u001b[0m\u001b[0m\n",
      "\u001b[1;32mC:\\tools\\ds\\Anaconda3\\envs\\py3\\lib\\site-packages\\pandas\\core\\frame.py\u001b[0m in \u001b[0;36m<listcomp>\u001b[1;34m(.0)\u001b[0m\n\u001b[0;32m   4653\u001b[0m             \u001b[1;32mif\u001b[0m \u001b[1;32mnot\u001b[0m \u001b[0misinstance\u001b[0m\u001b[1;33m(\u001b[0m\u001b[0mlevel\u001b[0m\u001b[1;33m,\u001b[0m \u001b[1;33m(\u001b[0m\u001b[0mtuple\u001b[0m\u001b[1;33m,\u001b[0m \u001b[0mlist\u001b[0m\u001b[1;33m)\u001b[0m\u001b[1;33m)\u001b[0m\u001b[1;33m:\u001b[0m\u001b[1;33m\u001b[0m\u001b[1;33m\u001b[0m\u001b[0m\n\u001b[0;32m   4654\u001b[0m                 \u001b[0mlevel\u001b[0m \u001b[1;33m=\u001b[0m \u001b[1;33m[\u001b[0m\u001b[0mlevel\u001b[0m\u001b[1;33m]\u001b[0m\u001b[1;33m\u001b[0m\u001b[1;33m\u001b[0m\u001b[0m\n\u001b[1;32m-> 4655\u001b[1;33m             \u001b[0mlevel\u001b[0m \u001b[1;33m=\u001b[0m \u001b[1;33m[\u001b[0m\u001b[0mself\u001b[0m\u001b[1;33m.\u001b[0m\u001b[0mindex\u001b[0m\u001b[1;33m.\u001b[0m\u001b[0m_get_level_number\u001b[0m\u001b[1;33m(\u001b[0m\u001b[0mlev\u001b[0m\u001b[1;33m)\u001b[0m \u001b[1;32mfor\u001b[0m \u001b[0mlev\u001b[0m \u001b[1;32min\u001b[0m \u001b[0mlevel\u001b[0m\u001b[1;33m]\u001b[0m\u001b[1;33m\u001b[0m\u001b[1;33m\u001b[0m\u001b[0m\n\u001b[0m\u001b[0;32m   4656\u001b[0m             \u001b[1;32mif\u001b[0m \u001b[0mlen\u001b[0m\u001b[1;33m(\u001b[0m\u001b[0mlevel\u001b[0m\u001b[1;33m)\u001b[0m \u001b[1;33m<\u001b[0m \u001b[0mself\u001b[0m\u001b[1;33m.\u001b[0m\u001b[0mindex\u001b[0m\u001b[1;33m.\u001b[0m\u001b[0mnlevels\u001b[0m\u001b[1;33m:\u001b[0m\u001b[1;33m\u001b[0m\u001b[1;33m\u001b[0m\u001b[0m\n\u001b[0;32m   4657\u001b[0m                 \u001b[0mnew_index\u001b[0m \u001b[1;33m=\u001b[0m \u001b[0mself\u001b[0m\u001b[1;33m.\u001b[0m\u001b[0mindex\u001b[0m\u001b[1;33m.\u001b[0m\u001b[0mdroplevel\u001b[0m\u001b[1;33m(\u001b[0m\u001b[0mlevel\u001b[0m\u001b[1;33m)\u001b[0m\u001b[1;33m\u001b[0m\u001b[1;33m\u001b[0m\u001b[0m\n",
      "\u001b[1;32mC:\\tools\\ds\\Anaconda3\\envs\\py3\\lib\\site-packages\\pandas\\core\\indexes\\multi.py\u001b[0m in \u001b[0;36m_get_level_number\u001b[1;34m(self, level)\u001b[0m\n\u001b[0;32m   1296\u001b[0m         \u001b[1;32mexcept\u001b[0m \u001b[0mValueError\u001b[0m\u001b[1;33m:\u001b[0m\u001b[1;33m\u001b[0m\u001b[1;33m\u001b[0m\u001b[0m\n\u001b[0;32m   1297\u001b[0m             \u001b[1;32mif\u001b[0m \u001b[1;32mnot\u001b[0m \u001b[0mis_integer\u001b[0m\u001b[1;33m(\u001b[0m\u001b[0mlevel\u001b[0m\u001b[1;33m)\u001b[0m\u001b[1;33m:\u001b[0m\u001b[1;33m\u001b[0m\u001b[1;33m\u001b[0m\u001b[0m\n\u001b[1;32m-> 1298\u001b[1;33m                 \u001b[1;32mraise\u001b[0m \u001b[0mKeyError\u001b[0m\u001b[1;33m(\u001b[0m\u001b[1;34m\"Level %s not found\"\u001b[0m \u001b[1;33m%\u001b[0m \u001b[0mstr\u001b[0m\u001b[1;33m(\u001b[0m\u001b[0mlevel\u001b[0m\u001b[1;33m)\u001b[0m\u001b[1;33m)\u001b[0m\u001b[1;33m\u001b[0m\u001b[1;33m\u001b[0m\u001b[0m\n\u001b[0m\u001b[0;32m   1299\u001b[0m             \u001b[1;32melif\u001b[0m \u001b[0mlevel\u001b[0m \u001b[1;33m<\u001b[0m \u001b[1;36m0\u001b[0m\u001b[1;33m:\u001b[0m\u001b[1;33m\u001b[0m\u001b[1;33m\u001b[0m\u001b[0m\n\u001b[0;32m   1300\u001b[0m                 \u001b[0mlevel\u001b[0m \u001b[1;33m+=\u001b[0m \u001b[0mself\u001b[0m\u001b[1;33m.\u001b[0m\u001b[0mnlevels\u001b[0m\u001b[1;33m\u001b[0m\u001b[1;33m\u001b[0m\u001b[0m\n",
      "\u001b[1;31mKeyError\u001b[0m: 'Level id not found'"
     ]
    }
   ],
   "source": [
    "report_data_3 = report_data_2.reset_index('id')\n",
    "report_data_3"
   ]
  },
  {
   "cell_type": "code",
   "execution_count": null,
   "metadata": {},
   "outputs": [],
   "source": [
    "# Explode/Split column into multiple rows\n",
    "new_df = pd.DataFrame(report_data_1.City.str.split('|').tolist(), index=df.EmployeeId).stack()\n",
    "new_df = new_df.reset_index([0, 'EmployeeId'])\n",
    "new_df.columns = ['EmployeeId', 'City']"
   ]
  },
  {
   "cell_type": "code",
   "execution_count": 14,
   "metadata": {},
   "outputs": [],
   "source": [
    "report_data['label'] = report_data.apply(lambda row: row['Amount'] == \"Yes\", axis=1)"
   ]
  },
  {
   "cell_type": "code",
   "execution_count": 21,
   "metadata": {},
   "outputs": [],
   "source": [
    "report_data['Amounts'] = report_data.apply(lambda row: row['Amount'][1:], axis=1)"
   ]
  },
  {
   "cell_type": "code",
   "execution_count": 22,
   "metadata": {},
   "outputs": [],
   "source": [
    "report_data['Amounts'] = report_data['Amounts'].astype(float)"
   ]
  },
  {
   "cell_type": "code",
   "execution_count": 23,
   "metadata": {},
   "outputs": [
    {
     "data": {
      "text/html": [
       "<div>\n",
       "<style scoped>\n",
       "    .dataframe tbody tr th:only-of-type {\n",
       "        vertical-align: middle;\n",
       "    }\n",
       "\n",
       "    .dataframe tbody tr th {\n",
       "        vertical-align: top;\n",
       "    }\n",
       "\n",
       "    .dataframe thead th {\n",
       "        text-align: right;\n",
       "    }\n",
       "</style>\n",
       "<table border=\"1\" class=\"dataframe\">\n",
       "  <thead>\n",
       "    <tr style=\"text-align: right;\">\n",
       "      <th></th>\n",
       "      <th>Date</th>\n",
       "      <th>Description</th>\n",
       "      <th>Amount</th>\n",
       "      <th>Type</th>\n",
       "      <th>label</th>\n",
       "      <th>Amounts</th>\n",
       "    </tr>\n",
       "  </thead>\n",
       "  <tbody>\n",
       "    <tr>\n",
       "      <td>0</td>\n",
       "      <td>Oct 28, 2019</td>\n",
       "      <td>VIDEOTRON LTEE. 110 PPACCMONTREAL QC</td>\n",
       "      <td>$133.79</td>\n",
       "      <td>Telcome</td>\n",
       "      <td>False</td>\n",
       "      <td>133.79</td>\n",
       "    </tr>\n",
       "    <tr>\n",
       "      <td>1</td>\n",
       "      <td>Oct 24, 2019</td>\n",
       "      <td>DUTY FREE MTL INT'L ST-LAURENT QC</td>\n",
       "      <td>$43.00</td>\n",
       "      <td>One-time</td>\n",
       "      <td>False</td>\n",
       "      <td>43.00</td>\n",
       "    </tr>\n",
       "    <tr>\n",
       "      <td>2</td>\n",
       "      <td>Oct 19, 2019</td>\n",
       "      <td>PAYPAL *GOOGLE LONG TE 4029357733 NS</td>\n",
       "      <td>$30.99</td>\n",
       "      <td>Game</td>\n",
       "      <td>False</td>\n",
       "      <td>30.99</td>\n",
       "    </tr>\n",
       "    <tr>\n",
       "      <td>3</td>\n",
       "      <td>Oct 14, 2019</td>\n",
       "      <td>PAYPAL *GOOGLE LONG TE 4029357733 NS</td>\n",
       "      <td>$24.99</td>\n",
       "      <td>Game</td>\n",
       "      <td>False</td>\n",
       "      <td>24.99</td>\n",
       "    </tr>\n",
       "    <tr>\n",
       "      <td>4</td>\n",
       "      <td>Oct 14, 2019</td>\n",
       "      <td>PAYPAL *GOOGLE LONG TE 4029357733 NS</td>\n",
       "      <td>$30.99</td>\n",
       "      <td>Game</td>\n",
       "      <td>False</td>\n",
       "      <td>30.99</td>\n",
       "    </tr>\n",
       "  </tbody>\n",
       "</table>\n",
       "</div>"
      ],
      "text/plain": [
       "           Date                           Description   Amount      Type  \\\n",
       "0  Oct 28, 2019  VIDEOTRON LTEE. 110 PPACCMONTREAL QC  $133.79   Telcome   \n",
       "1  Oct 24, 2019     DUTY FREE MTL INT'L ST-LAURENT QC   $43.00  One-time   \n",
       "2  Oct 19, 2019  PAYPAL *GOOGLE LONG TE 4029357733 NS   $30.99      Game   \n",
       "3  Oct 14, 2019  PAYPAL *GOOGLE LONG TE 4029357733 NS   $24.99      Game   \n",
       "4  Oct 14, 2019  PAYPAL *GOOGLE LONG TE 4029357733 NS   $30.99      Game   \n",
       "\n",
       "   label  Amounts  \n",
       "0  False   133.79  \n",
       "1  False    43.00  \n",
       "2  False    30.99  \n",
       "3  False    24.99  \n",
       "4  False    30.99  "
      ]
     },
     "execution_count": 23,
     "metadata": {},
     "output_type": "execute_result"
    }
   ],
   "source": [
    "report_data.head()"
   ]
  },
  {
   "cell_type": "code",
   "execution_count": 24,
   "metadata": {},
   "outputs": [],
   "source": [
    "grouped = report_data.groupby('Type')"
   ]
  },
  {
   "cell_type": "code",
   "execution_count": 25,
   "metadata": {},
   "outputs": [
    {
     "data": {
      "text/plain": [
       "Type\n",
       "Game         161.11\n",
       "Meet          14.79\n",
       "One-time      43.00\n",
       "Social        14.09\n",
       "Telcome      492.15\n",
       "Transport    141.00\n",
       "Travel        23.00\n",
       "Name: Amounts, dtype: float64"
      ]
     },
     "execution_count": 25,
     "metadata": {},
     "output_type": "execute_result"
    }
   ],
   "source": [
    "grouped['Amounts'].sum()"
   ]
  }
 ],
 "metadata": {
  "kernelspec": {
   "display_name": "Python 3",
   "language": "python",
   "name": "python3"
  },
  "language_info": {
   "codemirror_mode": {
    "name": "ipython",
    "version": 3
   },
   "file_extension": ".py",
   "mimetype": "text/x-python",
   "name": "python",
   "nbconvert_exporter": "python",
   "pygments_lexer": "ipython3",
   "version": "3.6.9"
  }
 },
 "nbformat": 4,
 "nbformat_minor": 2
}
