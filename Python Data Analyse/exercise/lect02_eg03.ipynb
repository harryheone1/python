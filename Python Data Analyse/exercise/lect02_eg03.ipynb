{
 "cells": [
  {
   "cell_type": "markdown",
   "metadata": {},
   "source": [
    "# 数据合并及分组"
   ]
  },
  {
   "cell_type": "markdown",
   "metadata": {},
   "source": [
    "## 1. 数据合并"
   ]
  },
  {
   "cell_type": "code",
   "execution_count": 1,
   "metadata": {},
   "outputs": [],
   "source": [
    "import datetime"
   ]
  },
  {
   "cell_type": "code",
   "execution_count": 6,
   "metadata": {},
   "outputs": [
    {
     "data": {
      "text/plain": [
       "87.5"
      ]
     },
     "execution_count": 6,
     "metadata": {},
     "output_type": "execute_result"
    }
   ],
   "source": [
    "\n",
    "weeks= 3500/40.0\n",
    "weeks"
   ]
  },
  {
   "cell_type": "code",
   "execution_count": 8,
   "metadata": {},
   "outputs": [
    {
     "name": "stdout",
     "output_type": "stream",
     "text": [
      "2023-12-10 00:00:00\n"
     ]
    }
   ],
   "source": [
    "import datetime\n",
    "u = datetime.datetime.strptime(\"2022-04-03\",\"%Y-%m-%d\")\n",
    "weeks = 2345.0/40.0\n",
    "d = datetime.timedelta(weeks=88)\n",
    "t = u + d\n",
    "print(t)"
   ]
  },
  {
   "cell_type": "code",
   "execution_count": 2,
   "metadata": {},
   "outputs": [
    {
     "name": "stdout",
     "output_type": "stream",
     "text": [
      "   姓名   部门\n",
      "0  张三  研发部\n",
      "1  李四  财务部\n",
      "2  赵六  市场部\n",
      "   姓名    专业\n",
      "0  张三   计算机\n",
      "1  李四    会计\n",
      "2  王五  市场营销\n"
     ]
    }
   ],
   "source": [
    "import pandas as pd\n",
    "\n",
    "staff_df = pd.DataFrame([{'姓名': '张三', '部门': '研发部'},\n",
    "                        {'姓名': '李四', '部门': '财务部'},\n",
    "                        {'姓名': '赵六', '部门': '市场部'}])\n",
    "\n",
    "\n",
    "student_df = pd.DataFrame([{'姓名': '张三', '专业': '计算机'},\n",
    "                        {'姓名': '李四', '专业': '会计'},\n",
    "                        {'姓名': '王五', '专业': '市场营销'}])\n",
    "\n",
    "print(staff_df)\n",
    "print(student_df)"
   ]
  },
  {
   "cell_type": "code",
   "execution_count": 3,
   "metadata": {},
   "outputs": [
    {
     "data": {
      "text/html": [
       "<div>\n",
       "<style scoped>\n",
       "    .dataframe tbody tr th:only-of-type {\n",
       "        vertical-align: middle;\n",
       "    }\n",
       "\n",
       "    .dataframe tbody tr th {\n",
       "        vertical-align: top;\n",
       "    }\n",
       "\n",
       "    .dataframe thead th {\n",
       "        text-align: right;\n",
       "    }\n",
       "</style>\n",
       "<table border=\"1\" class=\"dataframe\">\n",
       "  <thead>\n",
       "    <tr style=\"text-align: right;\">\n",
       "      <th></th>\n",
       "      <th>姓名</th>\n",
       "      <th>部门</th>\n",
       "      <th>专业</th>\n",
       "    </tr>\n",
       "  </thead>\n",
       "  <tbody>\n",
       "    <tr>\n",
       "      <th>0</th>\n",
       "      <td>张三</td>\n",
       "      <td>研发部</td>\n",
       "      <td>计算机</td>\n",
       "    </tr>\n",
       "    <tr>\n",
       "      <th>1</th>\n",
       "      <td>李四</td>\n",
       "      <td>财务部</td>\n",
       "      <td>会计</td>\n",
       "    </tr>\n",
       "    <tr>\n",
       "      <th>2</th>\n",
       "      <td>赵六</td>\n",
       "      <td>市场部</td>\n",
       "      <td>NaN</td>\n",
       "    </tr>\n",
       "    <tr>\n",
       "      <th>3</th>\n",
       "      <td>王五</td>\n",
       "      <td>NaN</td>\n",
       "      <td>市场营销</td>\n",
       "    </tr>\n",
       "  </tbody>\n",
       "</table>\n",
       "</div>"
      ],
      "text/plain": [
       "   姓名   部门    专业\n",
       "0  张三  研发部   计算机\n",
       "1  李四  财务部    会计\n",
       "2  赵六  市场部   NaN\n",
       "3  王五  NaN  市场营销"
      ]
     },
     "execution_count": 3,
     "metadata": {},
     "output_type": "execute_result"
    }
   ],
   "source": [
    "pd.merge(staff_df, student_df, how='outer', on='姓名')\n",
    "# 或者\n",
    "# staff_df.merge(student_df, how='outer', on='姓名')"
   ]
  },
  {
   "cell_type": "code",
   "execution_count": 4,
   "metadata": {},
   "outputs": [
    {
     "data": {
      "text/html": [
       "<div>\n",
       "<style scoped>\n",
       "    .dataframe tbody tr th:only-of-type {\n",
       "        vertical-align: middle;\n",
       "    }\n",
       "\n",
       "    .dataframe tbody tr th {\n",
       "        vertical-align: top;\n",
       "    }\n",
       "\n",
       "    .dataframe thead th {\n",
       "        text-align: right;\n",
       "    }\n",
       "</style>\n",
       "<table border=\"1\" class=\"dataframe\">\n",
       "  <thead>\n",
       "    <tr style=\"text-align: right;\">\n",
       "      <th></th>\n",
       "      <th>姓名</th>\n",
       "      <th>部门</th>\n",
       "      <th>专业</th>\n",
       "    </tr>\n",
       "  </thead>\n",
       "  <tbody>\n",
       "    <tr>\n",
       "      <th>0</th>\n",
       "      <td>张三</td>\n",
       "      <td>研发部</td>\n",
       "      <td>计算机</td>\n",
       "    </tr>\n",
       "    <tr>\n",
       "      <th>1</th>\n",
       "      <td>李四</td>\n",
       "      <td>财务部</td>\n",
       "      <td>会计</td>\n",
       "    </tr>\n",
       "  </tbody>\n",
       "</table>\n",
       "</div>"
      ],
      "text/plain": [
       "   姓名   部门   专业\n",
       "0  张三  研发部  计算机\n",
       "1  李四  财务部   会计"
      ]
     },
     "execution_count": 4,
     "metadata": {},
     "output_type": "execute_result"
    }
   ],
   "source": [
    "pd.merge(staff_df, student_df, how='inner', on='姓名')\n",
    "# 或者\n",
    "# staff_df.merge(student_df, how='inner', on='姓名')"
   ]
  },
  {
   "cell_type": "code",
   "execution_count": 5,
   "metadata": {},
   "outputs": [
    {
     "data": {
      "text/html": [
       "<div>\n",
       "<style scoped>\n",
       "    .dataframe tbody tr th:only-of-type {\n",
       "        vertical-align: middle;\n",
       "    }\n",
       "\n",
       "    .dataframe tbody tr th {\n",
       "        vertical-align: top;\n",
       "    }\n",
       "\n",
       "    .dataframe thead th {\n",
       "        text-align: right;\n",
       "    }\n",
       "</style>\n",
       "<table border=\"1\" class=\"dataframe\">\n",
       "  <thead>\n",
       "    <tr style=\"text-align: right;\">\n",
       "      <th></th>\n",
       "      <th>姓名</th>\n",
       "      <th>部门</th>\n",
       "      <th>专业</th>\n",
       "    </tr>\n",
       "  </thead>\n",
       "  <tbody>\n",
       "    <tr>\n",
       "      <th>0</th>\n",
       "      <td>张三</td>\n",
       "      <td>研发部</td>\n",
       "      <td>计算机</td>\n",
       "    </tr>\n",
       "    <tr>\n",
       "      <th>1</th>\n",
       "      <td>李四</td>\n",
       "      <td>财务部</td>\n",
       "      <td>会计</td>\n",
       "    </tr>\n",
       "    <tr>\n",
       "      <th>2</th>\n",
       "      <td>赵六</td>\n",
       "      <td>市场部</td>\n",
       "      <td>NaN</td>\n",
       "    </tr>\n",
       "  </tbody>\n",
       "</table>\n",
       "</div>"
      ],
      "text/plain": [
       "   姓名   部门   专业\n",
       "0  张三  研发部  计算机\n",
       "1  李四  财务部   会计\n",
       "2  赵六  市场部  NaN"
      ]
     },
     "execution_count": 5,
     "metadata": {},
     "output_type": "execute_result"
    }
   ],
   "source": [
    "pd.merge(staff_df, student_df, how='left', on='姓名')\n",
    "# 或者\n",
    "# staff_df.merge(student_df, how='left', on='姓名')"
   ]
  },
  {
   "cell_type": "code",
   "execution_count": 6,
   "metadata": {},
   "outputs": [
    {
     "data": {
      "text/html": [
       "<div>\n",
       "<style scoped>\n",
       "    .dataframe tbody tr th:only-of-type {\n",
       "        vertical-align: middle;\n",
       "    }\n",
       "\n",
       "    .dataframe tbody tr th {\n",
       "        vertical-align: top;\n",
       "    }\n",
       "\n",
       "    .dataframe thead th {\n",
       "        text-align: right;\n",
       "    }\n",
       "</style>\n",
       "<table border=\"1\" class=\"dataframe\">\n",
       "  <thead>\n",
       "    <tr style=\"text-align: right;\">\n",
       "      <th></th>\n",
       "      <th>姓名</th>\n",
       "      <th>部门</th>\n",
       "      <th>专业</th>\n",
       "    </tr>\n",
       "  </thead>\n",
       "  <tbody>\n",
       "    <tr>\n",
       "      <th>0</th>\n",
       "      <td>张三</td>\n",
       "      <td>研发部</td>\n",
       "      <td>计算机</td>\n",
       "    </tr>\n",
       "    <tr>\n",
       "      <th>1</th>\n",
       "      <td>李四</td>\n",
       "      <td>财务部</td>\n",
       "      <td>会计</td>\n",
       "    </tr>\n",
       "    <tr>\n",
       "      <th>2</th>\n",
       "      <td>王五</td>\n",
       "      <td>NaN</td>\n",
       "      <td>市场营销</td>\n",
       "    </tr>\n",
       "  </tbody>\n",
       "</table>\n",
       "</div>"
      ],
      "text/plain": [
       "   姓名   部门    专业\n",
       "0  张三  研发部   计算机\n",
       "1  李四  财务部    会计\n",
       "2  王五  NaN  市场营销"
      ]
     },
     "execution_count": 6,
     "metadata": {},
     "output_type": "execute_result"
    }
   ],
   "source": [
    "pd.merge(staff_df, student_df, how='right', on='姓名')\n",
    "# 或者\n",
    "# staff_df.merge(student_df, how='right', on='姓名')"
   ]
  },
  {
   "cell_type": "code",
   "execution_count": 7,
   "metadata": {},
   "outputs": [
    {
     "name": "stdout",
     "output_type": "stream",
     "text": [
      "     部门\n",
      "姓名     \n",
      "张三  研发部\n",
      "李四  财务部\n",
      "赵六  市场部\n",
      "      专业\n",
      "姓名      \n",
      "张三   计算机\n",
      "李四    会计\n",
      "王五  市场营销\n"
     ]
    }
   ],
   "source": [
    "# 也可以按索引进行合并\n",
    "staff_df.set_index('姓名', inplace=True)\n",
    "student_df.set_index('姓名', inplace=True)\n",
    "print(staff_df)\n",
    "print(student_df)"
   ]
  },
  {
   "cell_type": "code",
   "execution_count": 8,
   "metadata": {},
   "outputs": [
    {
     "data": {
      "text/html": [
       "<div>\n",
       "<style scoped>\n",
       "    .dataframe tbody tr th:only-of-type {\n",
       "        vertical-align: middle;\n",
       "    }\n",
       "\n",
       "    .dataframe tbody tr th {\n",
       "        vertical-align: top;\n",
       "    }\n",
       "\n",
       "    .dataframe thead th {\n",
       "        text-align: right;\n",
       "    }\n",
       "</style>\n",
       "<table border=\"1\" class=\"dataframe\">\n",
       "  <thead>\n",
       "    <tr style=\"text-align: right;\">\n",
       "      <th></th>\n",
       "      <th>部门</th>\n",
       "      <th>专业</th>\n",
       "    </tr>\n",
       "    <tr>\n",
       "      <th>姓名</th>\n",
       "      <th></th>\n",
       "      <th></th>\n",
       "    </tr>\n",
       "  </thead>\n",
       "  <tbody>\n",
       "    <tr>\n",
       "      <th>张三</th>\n",
       "      <td>研发部</td>\n",
       "      <td>计算机</td>\n",
       "    </tr>\n",
       "    <tr>\n",
       "      <th>李四</th>\n",
       "      <td>财务部</td>\n",
       "      <td>会计</td>\n",
       "    </tr>\n",
       "    <tr>\n",
       "      <th>赵六</th>\n",
       "      <td>市场部</td>\n",
       "      <td>NaN</td>\n",
       "    </tr>\n",
       "  </tbody>\n",
       "</table>\n",
       "</div>"
      ],
      "text/plain": [
       "     部门   专业\n",
       "姓名          \n",
       "张三  研发部  计算机\n",
       "李四  财务部   会计\n",
       "赵六  市场部  NaN"
      ]
     },
     "execution_count": 8,
     "metadata": {},
     "output_type": "execute_result"
    }
   ],
   "source": [
    "pd.merge(staff_df, student_df, how='left', left_index=True, right_index=True)\n",
    "# 或者\n",
    "# staff_df.merge(student_df, how='left', left_index=True, right_index=True)"
   ]
  },
  {
   "cell_type": "code",
   "execution_count": 9,
   "metadata": {},
   "outputs": [
    {
     "name": "stdout",
     "output_type": "stream",
     "text": [
      "   姓名   部门\n",
      "0  张三  研发部\n",
      "1  李四  财务部\n",
      "2  赵六  市场部\n",
      "   姓名    专业\n",
      "0  张三   计算机\n",
      "1  李四    会计\n",
      "2  王五  市场营销\n"
     ]
    }
   ],
   "source": [
    "# 当数据中的列名不同时，使用left_on，right_on\n",
    "staff_df.reset_index(inplace=True)\n",
    "student_df.reset_index(inplace=True)\n",
    "print(staff_df)\n",
    "print(student_df)"
   ]
  },
  {
   "cell_type": "code",
   "execution_count": 10,
   "metadata": {},
   "outputs": [
    {
     "name": "stdout",
     "output_type": "stream",
     "text": [
      "  员工姓名   部门\n",
      "0   张三  研发部\n",
      "1   李四  财务部\n",
      "2   赵六  市场部\n",
      "  学生姓名    专业\n",
      "0   张三   计算机\n",
      "1   李四    会计\n",
      "2   王五  市场营销\n"
     ]
    }
   ],
   "source": [
    "staff_df.rename(columns={'姓名': '员工姓名'}, inplace=True)\n",
    "student_df.rename(columns={'姓名': '学生姓名'}, inplace=True)\n",
    "print(staff_df)\n",
    "print(student_df)"
   ]
  },
  {
   "cell_type": "code",
   "execution_count": 11,
   "metadata": {},
   "outputs": [
    {
     "data": {
      "text/html": [
       "<div>\n",
       "<style scoped>\n",
       "    .dataframe tbody tr th:only-of-type {\n",
       "        vertical-align: middle;\n",
       "    }\n",
       "\n",
       "    .dataframe tbody tr th {\n",
       "        vertical-align: top;\n",
       "    }\n",
       "\n",
       "    .dataframe thead th {\n",
       "        text-align: right;\n",
       "    }\n",
       "</style>\n",
       "<table border=\"1\" class=\"dataframe\">\n",
       "  <thead>\n",
       "    <tr style=\"text-align: right;\">\n",
       "      <th></th>\n",
       "      <th>员工姓名</th>\n",
       "      <th>部门</th>\n",
       "      <th>学生姓名</th>\n",
       "      <th>专业</th>\n",
       "    </tr>\n",
       "  </thead>\n",
       "  <tbody>\n",
       "    <tr>\n",
       "      <th>0</th>\n",
       "      <td>张三</td>\n",
       "      <td>研发部</td>\n",
       "      <td>张三</td>\n",
       "      <td>计算机</td>\n",
       "    </tr>\n",
       "    <tr>\n",
       "      <th>1</th>\n",
       "      <td>李四</td>\n",
       "      <td>财务部</td>\n",
       "      <td>李四</td>\n",
       "      <td>会计</td>\n",
       "    </tr>\n",
       "    <tr>\n",
       "      <th>2</th>\n",
       "      <td>赵六</td>\n",
       "      <td>市场部</td>\n",
       "      <td>NaN</td>\n",
       "      <td>NaN</td>\n",
       "    </tr>\n",
       "  </tbody>\n",
       "</table>\n",
       "</div>"
      ],
      "text/plain": [
       "  员工姓名   部门 学生姓名   专业\n",
       "0   张三  研发部   张三  计算机\n",
       "1   李四  财务部   李四   会计\n",
       "2   赵六  市场部  NaN  NaN"
      ]
     },
     "execution_count": 11,
     "metadata": {},
     "output_type": "execute_result"
    }
   ],
   "source": [
    "pd.merge(staff_df, student_df, how='left', left_on='员工姓名', right_on='学生姓名')"
   ]
  },
  {
   "cell_type": "code",
   "execution_count": 12,
   "metadata": {},
   "outputs": [
    {
     "name": "stdout",
     "output_type": "stream",
     "text": [
      "  员工姓名   部门  地址\n",
      "0   张三  研发部  天津\n",
      "1   李四  财务部  北京\n",
      "2   赵六  市场部  上海\n",
      "  学生姓名    专业  地址\n",
      "0   张三   计算机  天津\n",
      "1   李四    会计  上海\n",
      "2   王五  市场营销  广州\n"
     ]
    }
   ],
   "source": [
    "# 如果两个数据中包含有相同的列名（不是要合并的列）时，merge会自动加后缀作为区别\n",
    "staff_df['地址'] = ['天津', '北京', '上海']\n",
    "student_df['地址'] = ['天津', '上海', '广州']\n",
    "print(staff_df)\n",
    "print(student_df)"
   ]
  },
  {
   "cell_type": "code",
   "execution_count": 13,
   "metadata": {},
   "outputs": [
    {
     "data": {
      "text/html": [
       "<div>\n",
       "<style scoped>\n",
       "    .dataframe tbody tr th:only-of-type {\n",
       "        vertical-align: middle;\n",
       "    }\n",
       "\n",
       "    .dataframe tbody tr th {\n",
       "        vertical-align: top;\n",
       "    }\n",
       "\n",
       "    .dataframe thead th {\n",
       "        text-align: right;\n",
       "    }\n",
       "</style>\n",
       "<table border=\"1\" class=\"dataframe\">\n",
       "  <thead>\n",
       "    <tr style=\"text-align: right;\">\n",
       "      <th></th>\n",
       "      <th>员工姓名</th>\n",
       "      <th>部门</th>\n",
       "      <th>地址_x</th>\n",
       "      <th>学生姓名</th>\n",
       "      <th>专业</th>\n",
       "      <th>地址_y</th>\n",
       "    </tr>\n",
       "  </thead>\n",
       "  <tbody>\n",
       "    <tr>\n",
       "      <th>0</th>\n",
       "      <td>张三</td>\n",
       "      <td>研发部</td>\n",
       "      <td>天津</td>\n",
       "      <td>张三</td>\n",
       "      <td>计算机</td>\n",
       "      <td>天津</td>\n",
       "    </tr>\n",
       "    <tr>\n",
       "      <th>1</th>\n",
       "      <td>李四</td>\n",
       "      <td>财务部</td>\n",
       "      <td>北京</td>\n",
       "      <td>李四</td>\n",
       "      <td>会计</td>\n",
       "      <td>上海</td>\n",
       "    </tr>\n",
       "    <tr>\n",
       "      <th>2</th>\n",
       "      <td>赵六</td>\n",
       "      <td>市场部</td>\n",
       "      <td>上海</td>\n",
       "      <td>NaN</td>\n",
       "      <td>NaN</td>\n",
       "      <td>NaN</td>\n",
       "    </tr>\n",
       "  </tbody>\n",
       "</table>\n",
       "</div>"
      ],
      "text/plain": [
       "  员工姓名   部门 地址_x 学生姓名   专业 地址_y\n",
       "0   张三  研发部   天津   张三  计算机   天津\n",
       "1   李四  财务部   北京   李四   会计   上海\n",
       "2   赵六  市场部   上海  NaN  NaN  NaN"
      ]
     },
     "execution_count": 13,
     "metadata": {},
     "output_type": "execute_result"
    }
   ],
   "source": [
    "pd.merge(staff_df, student_df, how='left', left_on='员工姓名', right_on='学生姓名')"
   ]
  },
  {
   "cell_type": "code",
   "execution_count": 14,
   "metadata": {},
   "outputs": [
    {
     "data": {
      "text/html": [
       "<div>\n",
       "<style scoped>\n",
       "    .dataframe tbody tr th:only-of-type {\n",
       "        vertical-align: middle;\n",
       "    }\n",
       "\n",
       "    .dataframe tbody tr th {\n",
       "        vertical-align: top;\n",
       "    }\n",
       "\n",
       "    .dataframe thead th {\n",
       "        text-align: right;\n",
       "    }\n",
       "</style>\n",
       "<table border=\"1\" class=\"dataframe\">\n",
       "  <thead>\n",
       "    <tr style=\"text-align: right;\">\n",
       "      <th></th>\n",
       "      <th>员工姓名</th>\n",
       "      <th>部门</th>\n",
       "      <th>地址(公司)</th>\n",
       "      <th>学生姓名</th>\n",
       "      <th>专业</th>\n",
       "      <th>地址(家乡)</th>\n",
       "    </tr>\n",
       "  </thead>\n",
       "  <tbody>\n",
       "    <tr>\n",
       "      <th>0</th>\n",
       "      <td>张三</td>\n",
       "      <td>研发部</td>\n",
       "      <td>天津</td>\n",
       "      <td>张三</td>\n",
       "      <td>计算机</td>\n",
       "      <td>天津</td>\n",
       "    </tr>\n",
       "    <tr>\n",
       "      <th>1</th>\n",
       "      <td>李四</td>\n",
       "      <td>财务部</td>\n",
       "      <td>北京</td>\n",
       "      <td>李四</td>\n",
       "      <td>会计</td>\n",
       "      <td>上海</td>\n",
       "    </tr>\n",
       "    <tr>\n",
       "      <th>2</th>\n",
       "      <td>赵六</td>\n",
       "      <td>市场部</td>\n",
       "      <td>上海</td>\n",
       "      <td>NaN</td>\n",
       "      <td>NaN</td>\n",
       "      <td>NaN</td>\n",
       "    </tr>\n",
       "  </tbody>\n",
       "</table>\n",
       "</div>"
      ],
      "text/plain": [
       "  员工姓名   部门 地址(公司) 学生姓名   专业 地址(家乡)\n",
       "0   张三  研发部     天津   张三  计算机     天津\n",
       "1   李四  财务部     北京   李四   会计     上海\n",
       "2   赵六  市场部     上海  NaN  NaN    NaN"
      ]
     },
     "execution_count": 14,
     "metadata": {},
     "output_type": "execute_result"
    }
   ],
   "source": [
    "# 也可指定后缀名称\n",
    "pd.merge(staff_df, student_df, how='left', left_on='员工姓名', right_on='学生姓名', suffixes=('(公司)', '(家乡)'))"
   ]
  },
  {
   "cell_type": "code",
   "execution_count": 15,
   "metadata": {},
   "outputs": [
    {
     "data": {
      "text/html": [
       "<div>\n",
       "<style scoped>\n",
       "    .dataframe tbody tr th:only-of-type {\n",
       "        vertical-align: middle;\n",
       "    }\n",
       "\n",
       "    .dataframe tbody tr th {\n",
       "        vertical-align: top;\n",
       "    }\n",
       "\n",
       "    .dataframe thead th {\n",
       "        text-align: right;\n",
       "    }\n",
       "</style>\n",
       "<table border=\"1\" class=\"dataframe\">\n",
       "  <thead>\n",
       "    <tr style=\"text-align: right;\">\n",
       "      <th></th>\n",
       "      <th>员工姓名</th>\n",
       "      <th>部门</th>\n",
       "      <th>地址</th>\n",
       "      <th>学生姓名</th>\n",
       "      <th>专业</th>\n",
       "    </tr>\n",
       "  </thead>\n",
       "  <tbody>\n",
       "    <tr>\n",
       "      <th>0</th>\n",
       "      <td>张三</td>\n",
       "      <td>研发部</td>\n",
       "      <td>天津</td>\n",
       "      <td>张三</td>\n",
       "      <td>计算机</td>\n",
       "    </tr>\n",
       "  </tbody>\n",
       "</table>\n",
       "</div>"
      ],
      "text/plain": [
       "  员工姓名   部门  地址 学生姓名   专业\n",
       "0   张三  研发部  天津   张三  计算机"
      ]
     },
     "execution_count": 15,
     "metadata": {},
     "output_type": "execute_result"
    }
   ],
   "source": [
    "# 也可以指定多列进行合并，找出同一个人的工作地址和家乡地址相同的记录\n",
    "pd.merge(staff_df, student_df, how='inner', left_on=['员工姓名', '地址'], right_on=['学生姓名', '地址'])"
   ]
  },
  {
   "cell_type": "code",
   "execution_count": 16,
   "metadata": {},
   "outputs": [
    {
     "data": {
      "text/plain": [
       "0    张\n",
       "1    李\n",
       "2    赵\n",
       "Name: 员工姓名, dtype: object"
      ]
     },
     "execution_count": 16,
     "metadata": {},
     "output_type": "execute_result"
    }
   ],
   "source": [
    "# apply使用\n",
    "# 获取姓\n",
    "staff_df['员工姓名'].apply(lambda x: x[0])"
   ]
  },
  {
   "cell_type": "code",
   "execution_count": 17,
   "metadata": {},
   "outputs": [
    {
     "data": {
      "text/plain": [
       "0    三\n",
       "1    四\n",
       "2    六\n",
       "Name: 员工姓名, dtype: object"
      ]
     },
     "execution_count": 17,
     "metadata": {},
     "output_type": "execute_result"
    }
   ],
   "source": [
    "# 获取名\n",
    "staff_df['员工姓名'].apply(lambda x: x[1:])"
   ]
  },
  {
   "cell_type": "code",
   "execution_count": 18,
   "metadata": {},
   "outputs": [
    {
     "name": "stdout",
     "output_type": "stream",
     "text": [
      "  员工姓名   部门  地址  姓  名\n",
      "0   张三  研发部  天津  张  三\n",
      "1   李四  财务部  北京  李  四\n",
      "2   赵六  市场部  上海  赵  六\n"
     ]
    }
   ],
   "source": [
    "# 结果合并\n",
    "staff_df.loc[:, '姓'] = staff_df['员工姓名'].apply(lambda x: x[0])\n",
    "staff_df.loc[:, '名'] = staff_df['员工姓名'].apply(lambda x: x[1:])\n",
    "print(staff_df)"
   ]
  },
  {
   "cell_type": "markdown",
   "metadata": {
    "collapsed": true
   },
   "source": [
    "## 2. 数据分组"
   ]
  },
  {
   "cell_type": "code",
   "execution_count": 3,
   "metadata": {},
   "outputs": [],
   "source": [
    "import pandas as pd"
   ]
  },
  {
   "cell_type": "code",
   "execution_count": 40,
   "metadata": {},
   "outputs": [
    {
     "data": {
      "text/html": [
       "<div>\n",
       "<style scoped>\n",
       "    .dataframe tbody tr th:only-of-type {\n",
       "        vertical-align: middle;\n",
       "    }\n",
       "\n",
       "    .dataframe tbody tr th {\n",
       "        vertical-align: top;\n",
       "    }\n",
       "\n",
       "    .dataframe thead th {\n",
       "        text-align: right;\n",
       "    }\n",
       "</style>\n",
       "<table border=\"1\" class=\"dataframe\">\n",
       "  <thead>\n",
       "    <tr style=\"text-align: right;\">\n",
       "      <th></th>\n",
       "      <th>1</th>\n",
       "      <th>太阳</th>\n",
       "      <th>～下山了</th>\n",
       "      <th>ha31no44</th>\n",
       "      <th>Unnamed: 4</th>\n",
       "      <th>Unnamed: 5</th>\n",
       "      <th>Unnamed: 6</th>\n",
       "      <th>Unnamed: 7</th>\n",
       "    </tr>\n",
       "  </thead>\n",
       "  <tbody>\n",
       "    <tr>\n",
       "      <td>0</td>\n",
       "      <td>2</td>\n",
       "      <td>月亮</td>\n",
       "      <td>～出来了</td>\n",
       "      <td>kun22la44</td>\n",
       "      <td>NaN</td>\n",
       "      <td>NaN</td>\n",
       "      <td>NaN</td>\n",
       "      <td>NaN</td>\n",
       "    </tr>\n",
       "    <tr>\n",
       "      <td>1</td>\n",
       "      <td>3</td>\n",
       "      <td>星星</td>\n",
       "      <td>NaN</td>\n",
       "      <td>l̥in44tei35</td>\n",
       "      <td>NaN</td>\n",
       "      <td>NaN</td>\n",
       "      <td>NaN</td>\n",
       "      <td>NaN</td>\n",
       "    </tr>\n",
       "    <tr>\n",
       "      <td>2</td>\n",
       "      <td>4</td>\n",
       "      <td>云</td>\n",
       "      <td>NaN</td>\n",
       "      <td>hau44</td>\n",
       "      <td>NaN</td>\n",
       "      <td>NaN</td>\n",
       "      <td>NaN</td>\n",
       "      <td>NaN</td>\n",
       "    </tr>\n",
       "    <tr>\n",
       "      <td>3</td>\n",
       "      <td>5</td>\n",
       "      <td>风</td>\n",
       "      <td>NaN</td>\n",
       "      <td>kji35</td>\n",
       "      <td>NaN</td>\n",
       "      <td>NaN</td>\n",
       "      <td>NaN</td>\n",
       "      <td>NaN</td>\n",
       "    </tr>\n",
       "    <tr>\n",
       "      <td>4</td>\n",
       "      <td>6</td>\n",
       "      <td>台风</td>\n",
       "      <td>NaN</td>\n",
       "      <td>（无）</td>\n",
       "      <td>NaN</td>\n",
       "      <td>NaN</td>\n",
       "      <td>NaN</td>\n",
       "      <td>NaN</td>\n",
       "    </tr>\n",
       "    <tr>\n",
       "      <td>5</td>\n",
       "      <td>7</td>\n",
       "      <td>闪电</td>\n",
       "      <td>名词</td>\n",
       "      <td>io31i22</td>\n",
       "      <td>NaN</td>\n",
       "      <td>NaN</td>\n",
       "      <td>NaN</td>\n",
       "      <td>NaN</td>\n",
       "    </tr>\n",
       "    <tr>\n",
       "      <td>6</td>\n",
       "      <td>8</td>\n",
       "      <td>雷</td>\n",
       "      <td>NaN</td>\n",
       "      <td>kuŋ35kwaŋ31</td>\n",
       "      <td>NaN</td>\n",
       "      <td>NaN</td>\n",
       "      <td>NaN</td>\n",
       "      <td>NaN</td>\n",
       "    </tr>\n",
       "    <tr>\n",
       "      <td>7</td>\n",
       "      <td>9</td>\n",
       "      <td>雨</td>\n",
       "      <td>NaN</td>\n",
       "      <td>luŋ44ŋa31</td>\n",
       "      <td>NaN</td>\n",
       "      <td>NaN</td>\n",
       "      <td>NaN</td>\n",
       "      <td>NaN</td>\n",
       "    </tr>\n",
       "    <tr>\n",
       "      <td>8</td>\n",
       "      <td>10</td>\n",
       "      <td>非常</td>\n",
       "      <td>比上条程度深：今天～热</td>\n",
       "      <td>hən22</td>\n",
       "      <td>NaN</td>\n",
       "      <td>le35suŋ31</td>\n",
       "      <td>NaN</td>\n",
       "      <td>io31i22</td>\n",
       "    </tr>\n",
       "  </tbody>\n",
       "</table>\n",
       "</div>"
      ],
      "text/plain": [
       "    1  太阳         ～下山了     ha31no44  Unnamed: 4 Unnamed: 5  Unnamed: 6  \\\n",
       "0   2  月亮         ～出来了    kun22la44         NaN        NaN         NaN   \n",
       "1   3  星星          NaN  l̥in44tei35         NaN        NaN         NaN   \n",
       "2   4   云          NaN        hau44         NaN        NaN         NaN   \n",
       "3   5   风          NaN        kji35         NaN        NaN         NaN   \n",
       "4   6  台风          NaN          （无）         NaN        NaN         NaN   \n",
       "5   7  闪电           名词      io31i22         NaN        NaN         NaN   \n",
       "6   8   雷          NaN  kuŋ35kwaŋ31         NaN        NaN         NaN   \n",
       "7   9   雨          NaN    luŋ44ŋa31         NaN        NaN         NaN   \n",
       "8  10  非常  比上条程度深：今天～热        hən22         NaN  le35suŋ31         NaN   \n",
       "\n",
       "  Unnamed: 7  \n",
       "0        NaN  \n",
       "1        NaN  \n",
       "2        NaN  \n",
       "3        NaN  \n",
       "4        NaN  \n",
       "5        NaN  \n",
       "6        NaN  \n",
       "7        NaN  \n",
       "8    io31i22  "
      ]
     },
     "execution_count": 40,
     "metadata": {},
     "output_type": "execute_result"
    }
   ],
   "source": [
    "report_data = pd.read_csv('./国际音标.csv')\n",
    "report_data"
   ]
  },
  {
   "cell_type": "code",
   "execution_count": 41,
   "metadata": {},
   "outputs": [],
   "source": [
    "report_data.columns = ['id', 'char1', 'char2', 'Yinbiao1', 'nan1', 'Yinbiao2', 'nan2', 'Yinbiao3']"
   ]
  },
  {
   "cell_type": "code",
   "execution_count": 42,
   "metadata": {},
   "outputs": [
    {
     "data": {
      "text/html": [
       "<div>\n",
       "<style scoped>\n",
       "    .dataframe tbody tr th:only-of-type {\n",
       "        vertical-align: middle;\n",
       "    }\n",
       "\n",
       "    .dataframe tbody tr th {\n",
       "        vertical-align: top;\n",
       "    }\n",
       "\n",
       "    .dataframe thead th {\n",
       "        text-align: right;\n",
       "    }\n",
       "</style>\n",
       "<table border=\"1\" class=\"dataframe\">\n",
       "  <thead>\n",
       "    <tr style=\"text-align: right;\">\n",
       "      <th></th>\n",
       "      <th>id</th>\n",
       "      <th>Yinbiao1</th>\n",
       "      <th>Yinbiao2</th>\n",
       "      <th>Yinbiao3</th>\n",
       "    </tr>\n",
       "  </thead>\n",
       "  <tbody>\n",
       "    <tr>\n",
       "      <td>0</td>\n",
       "      <td>2</td>\n",
       "      <td>kun22la44</td>\n",
       "      <td>NaN</td>\n",
       "      <td>NaN</td>\n",
       "    </tr>\n",
       "    <tr>\n",
       "      <td>1</td>\n",
       "      <td>3</td>\n",
       "      <td>l̥in44tei35</td>\n",
       "      <td>NaN</td>\n",
       "      <td>NaN</td>\n",
       "    </tr>\n",
       "    <tr>\n",
       "      <td>2</td>\n",
       "      <td>4</td>\n",
       "      <td>hau44</td>\n",
       "      <td>NaN</td>\n",
       "      <td>NaN</td>\n",
       "    </tr>\n",
       "    <tr>\n",
       "      <td>3</td>\n",
       "      <td>5</td>\n",
       "      <td>kji35</td>\n",
       "      <td>NaN</td>\n",
       "      <td>NaN</td>\n",
       "    </tr>\n",
       "    <tr>\n",
       "      <td>4</td>\n",
       "      <td>6</td>\n",
       "      <td>（无）</td>\n",
       "      <td>NaN</td>\n",
       "      <td>NaN</td>\n",
       "    </tr>\n",
       "    <tr>\n",
       "      <td>5</td>\n",
       "      <td>7</td>\n",
       "      <td>io31i22</td>\n",
       "      <td>NaN</td>\n",
       "      <td>NaN</td>\n",
       "    </tr>\n",
       "    <tr>\n",
       "      <td>6</td>\n",
       "      <td>8</td>\n",
       "      <td>kuŋ35kwaŋ31</td>\n",
       "      <td>NaN</td>\n",
       "      <td>NaN</td>\n",
       "    </tr>\n",
       "    <tr>\n",
       "      <td>7</td>\n",
       "      <td>9</td>\n",
       "      <td>luŋ44ŋa31</td>\n",
       "      <td>NaN</td>\n",
       "      <td>NaN</td>\n",
       "    </tr>\n",
       "    <tr>\n",
       "      <td>8</td>\n",
       "      <td>10</td>\n",
       "      <td>hən22</td>\n",
       "      <td>le35suŋ31</td>\n",
       "      <td>io31i22</td>\n",
       "    </tr>\n",
       "  </tbody>\n",
       "</table>\n",
       "</div>"
      ],
      "text/plain": [
       "   id     Yinbiao1   Yinbiao2 Yinbiao3\n",
       "0   2    kun22la44        NaN      NaN\n",
       "1   3  l̥in44tei35        NaN      NaN\n",
       "2   4        hau44        NaN      NaN\n",
       "3   5        kji35        NaN      NaN\n",
       "4   6          （无）        NaN      NaN\n",
       "5   7      io31i22        NaN      NaN\n",
       "6   8  kuŋ35kwaŋ31        NaN      NaN\n",
       "7   9    luŋ44ŋa31        NaN      NaN\n",
       "8  10        hən22  le35suŋ31  io31i22"
      ]
     },
     "execution_count": 42,
     "metadata": {},
     "output_type": "execute_result"
    }
   ],
   "source": [
    "report_data_1 = report_data[['id', 'Yinbiao1', 'Yinbiao2', 'Yinbiao3']]\n",
    "report_data_1"
   ]
  },
  {
   "cell_type": "code",
   "execution_count": 43,
   "metadata": {},
   "outputs": [
    {
     "data": {
      "text/plain": [
       "id          \n",
       "2   Yinbiao1          hau44\n",
       "3   Yinbiao1          kji35\n",
       "4   Yinbiao1            （无）\n",
       "5   Yinbiao1        io31i22\n",
       "6   Yinbiao1    kuŋ35kwaŋ31\n",
       "7   Yinbiao1      luŋ44ŋa31\n",
       "8   Yinbiao1          hən22\n",
       "    Yinbiao2      le35suŋ31\n",
       "    Yinbiao3        io31i22\n",
       "dtype: object"
      ]
     },
     "execution_count": 43,
     "metadata": {},
     "output_type": "execute_result"
    }
   ],
   "source": [
    "# Step 1\n",
    "# We start with creating a new dataframe from the series with EmployeeId as the index\n",
    "report_data_2 = pd.DataFrame(report_data_1[['Yinbiao1', 'Yinbiao2', 'Yinbiao3']], index=report_data_1.id).stack()\n",
    "report_data_2"
   ]
  },
  {
   "cell_type": "code",
   "execution_count": 37,
   "metadata": {},
   "outputs": [
    {
     "data": {
      "text/html": [
       "<div>\n",
       "<style scoped>\n",
       "    .dataframe tbody tr th:only-of-type {\n",
       "        vertical-align: middle;\n",
       "    }\n",
       "\n",
       "    .dataframe tbody tr th {\n",
       "        vertical-align: top;\n",
       "    }\n",
       "\n",
       "    .dataframe thead th {\n",
       "        text-align: right;\n",
       "    }\n",
       "</style>\n",
       "<table border=\"1\" class=\"dataframe\">\n",
       "  <thead>\n",
       "    <tr style=\"text-align: right;\">\n",
       "      <th></th>\n",
       "      <th>id</th>\n",
       "      <th>0</th>\n",
       "    </tr>\n",
       "  </thead>\n",
       "  <tbody>\n",
       "    <tr>\n",
       "      <td>Yinbiao1</td>\n",
       "      <td>2</td>\n",
       "      <td>hau44</td>\n",
       "    </tr>\n",
       "    <tr>\n",
       "      <td>Yinbiao1</td>\n",
       "      <td>3</td>\n",
       "      <td>kji35</td>\n",
       "    </tr>\n",
       "    <tr>\n",
       "      <td>Yinbiao1</td>\n",
       "      <td>4</td>\n",
       "      <td>（无）</td>\n",
       "    </tr>\n",
       "    <tr>\n",
       "      <td>Yinbiao1</td>\n",
       "      <td>5</td>\n",
       "      <td>io31i22</td>\n",
       "    </tr>\n",
       "    <tr>\n",
       "      <td>Yinbiao1</td>\n",
       "      <td>6</td>\n",
       "      <td>kuŋ35kwaŋ31</td>\n",
       "    </tr>\n",
       "    <tr>\n",
       "      <td>Yinbiao1</td>\n",
       "      <td>7</td>\n",
       "      <td>luŋ44ŋa31</td>\n",
       "    </tr>\n",
       "    <tr>\n",
       "      <td>Yinbiao1</td>\n",
       "      <td>8</td>\n",
       "      <td>hən22</td>\n",
       "    </tr>\n",
       "    <tr>\n",
       "      <td>Yinbiao2</td>\n",
       "      <td>8</td>\n",
       "      <td>le35suŋ31</td>\n",
       "    </tr>\n",
       "    <tr>\n",
       "      <td>Yinbiao3</td>\n",
       "      <td>8</td>\n",
       "      <td>io31i22</td>\n",
       "    </tr>\n",
       "  </tbody>\n",
       "</table>\n",
       "</div>"
      ],
      "text/plain": [
       "          id            0\n",
       "Yinbiao1   2        hau44\n",
       "Yinbiao1   3        kji35\n",
       "Yinbiao1   4          （无）\n",
       "Yinbiao1   5      io31i22\n",
       "Yinbiao1   6  kuŋ35kwaŋ31\n",
       "Yinbiao1   7    luŋ44ŋa31\n",
       "Yinbiao1   8        hən22\n",
       "Yinbiao2   8    le35suŋ31\n",
       "Yinbiao3   8      io31i22"
      ]
     },
     "execution_count": 37,
     "metadata": {},
     "output_type": "execute_result"
    }
   ],
   "source": [
    "report_data_3 = report_data_2.reset_index(['id'])\n",
    "report_data_3"
   ]
  },
  {
   "cell_type": "code",
   "execution_count": 72,
   "metadata": {},
   "outputs": [
    {
     "data": {
      "text/html": [
       "<div>\n",
       "<style scoped>\n",
       "    .dataframe tbody tr th:only-of-type {\n",
       "        vertical-align: middle;\n",
       "    }\n",
       "\n",
       "    .dataframe tbody tr th {\n",
       "        vertical-align: top;\n",
       "    }\n",
       "\n",
       "    .dataframe thead th {\n",
       "        text-align: right;\n",
       "    }\n",
       "</style>\n",
       "<table border=\"1\" class=\"dataframe\">\n",
       "  <thead>\n",
       "    <tr style=\"text-align: right;\">\n",
       "      <th></th>\n",
       "      <th>id</th>\n",
       "      <th>Yinbiao</th>\n",
       "    </tr>\n",
       "  </thead>\n",
       "  <tbody>\n",
       "    <tr>\n",
       "      <td>Yinbiao1</td>\n",
       "      <td>2</td>\n",
       "      <td>hau44</td>\n",
       "    </tr>\n",
       "    <tr>\n",
       "      <td>Yinbiao1</td>\n",
       "      <td>3</td>\n",
       "      <td>kji35</td>\n",
       "    </tr>\n",
       "    <tr>\n",
       "      <td>Yinbiao1</td>\n",
       "      <td>4</td>\n",
       "      <td>（无）</td>\n",
       "    </tr>\n",
       "    <tr>\n",
       "      <td>Yinbiao1</td>\n",
       "      <td>5</td>\n",
       "      <td>io31i22</td>\n",
       "    </tr>\n",
       "    <tr>\n",
       "      <td>Yinbiao1</td>\n",
       "      <td>6</td>\n",
       "      <td>kuŋ35kwaŋ31</td>\n",
       "    </tr>\n",
       "    <tr>\n",
       "      <td>Yinbiao1</td>\n",
       "      <td>7</td>\n",
       "      <td>luŋ44ŋa31</td>\n",
       "    </tr>\n",
       "    <tr>\n",
       "      <td>Yinbiao1</td>\n",
       "      <td>8</td>\n",
       "      <td>hən22</td>\n",
       "    </tr>\n",
       "    <tr>\n",
       "      <td>Yinbiao2</td>\n",
       "      <td>8</td>\n",
       "      <td>le35suŋ31</td>\n",
       "    </tr>\n",
       "    <tr>\n",
       "      <td>Yinbiao3</td>\n",
       "      <td>8</td>\n",
       "      <td>io31i22</td>\n",
       "    </tr>\n",
       "  </tbody>\n",
       "</table>\n",
       "</div>"
      ],
      "text/plain": [
       "          id      Yinbiao\n",
       "Yinbiao1   2        hau44\n",
       "Yinbiao1   3        kji35\n",
       "Yinbiao1   4          （无）\n",
       "Yinbiao1   5      io31i22\n",
       "Yinbiao1   6  kuŋ35kwaŋ31\n",
       "Yinbiao1   7    luŋ44ŋa31\n",
       "Yinbiao1   8        hən22\n",
       "Yinbiao2   8    le35suŋ31\n",
       "Yinbiao3   8      io31i22"
      ]
     },
     "execution_count": 72,
     "metadata": {},
     "output_type": "execute_result"
    }
   ],
   "source": [
    "report_data_3"
   ]
  },
  {
   "cell_type": "code",
   "execution_count": 132,
   "metadata": {},
   "outputs": [],
   "source": [
    "import re\n",
    "\n",
    "def context_concat(row): \n",
    "    list_char = re.split('\\\\d+', row['Yinbiao'])[:-1]\n",
    "    if len(list_char) == 0:\n",
    "        return None\n",
    "    else:\n",
    "        list_num = re.split('\\\\D+', row['Yinbiao'])[1:]\n",
    "        result = [None]*(len(list_char)+len(list_num))\n",
    "        result[::2] = list_char\n",
    "        result[1::2] = list_num\n",
    "        \n",
    "        s1 = \"\"\n",
    "        for i in range(len(result)):\n",
    "            s1 += result[i]\n",
    "            if i < len(result) - 1:\n",
    "                s1 += ','\n",
    "        return s1"
   ]
  },
  {
   "cell_type": "code",
   "execution_count": 133,
   "metadata": {},
   "outputs": [],
   "source": [
    "report_data_3['target'] = report_data_3.apply(lambda row: context_concat(row), axis=1)\n",
    "report_data_4 = report_data_3['target'].reset_index()"
   ]
  },
  {
   "cell_type": "code",
   "execution_count": 134,
   "metadata": {},
   "outputs": [
    {
     "data": {
      "text/html": [
       "<div>\n",
       "<style scoped>\n",
       "    .dataframe tbody tr th:only-of-type {\n",
       "        vertical-align: middle;\n",
       "    }\n",
       "\n",
       "    .dataframe tbody tr th {\n",
       "        vertical-align: top;\n",
       "    }\n",
       "\n",
       "    .dataframe thead th {\n",
       "        text-align: right;\n",
       "    }\n",
       "</style>\n",
       "<table border=\"1\" class=\"dataframe\">\n",
       "  <thead>\n",
       "    <tr style=\"text-align: right;\">\n",
       "      <th></th>\n",
       "      <th>index</th>\n",
       "      <th>target</th>\n",
       "    </tr>\n",
       "  </thead>\n",
       "  <tbody>\n",
       "    <tr>\n",
       "      <td>0</td>\n",
       "      <td>Yinbiao1</td>\n",
       "      <td>hau,44</td>\n",
       "    </tr>\n",
       "    <tr>\n",
       "      <td>1</td>\n",
       "      <td>Yinbiao1</td>\n",
       "      <td>kji,35</td>\n",
       "    </tr>\n",
       "    <tr>\n",
       "      <td>2</td>\n",
       "      <td>Yinbiao1</td>\n",
       "      <td>None</td>\n",
       "    </tr>\n",
       "    <tr>\n",
       "      <td>3</td>\n",
       "      <td>Yinbiao1</td>\n",
       "      <td>io,31,i,22</td>\n",
       "    </tr>\n",
       "    <tr>\n",
       "      <td>4</td>\n",
       "      <td>Yinbiao1</td>\n",
       "      <td>kuŋ,35,kwaŋ,31</td>\n",
       "    </tr>\n",
       "    <tr>\n",
       "      <td>5</td>\n",
       "      <td>Yinbiao1</td>\n",
       "      <td>luŋ,44,ŋa,31</td>\n",
       "    </tr>\n",
       "    <tr>\n",
       "      <td>6</td>\n",
       "      <td>Yinbiao1</td>\n",
       "      <td>hən,22</td>\n",
       "    </tr>\n",
       "    <tr>\n",
       "      <td>7</td>\n",
       "      <td>Yinbiao2</td>\n",
       "      <td>le,35,suŋ,31</td>\n",
       "    </tr>\n",
       "    <tr>\n",
       "      <td>8</td>\n",
       "      <td>Yinbiao3</td>\n",
       "      <td>io,31,i,22</td>\n",
       "    </tr>\n",
       "  </tbody>\n",
       "</table>\n",
       "</div>"
      ],
      "text/plain": [
       "      index          target\n",
       "0  Yinbiao1          hau,44\n",
       "1  Yinbiao1          kji,35\n",
       "2  Yinbiao1            None\n",
       "3  Yinbiao1      io,31,i,22\n",
       "4  Yinbiao1  kuŋ,35,kwaŋ,31\n",
       "5  Yinbiao1    luŋ,44,ŋa,31\n",
       "6  Yinbiao1          hən,22\n",
       "7  Yinbiao2    le,35,suŋ,31\n",
       "8  Yinbiao3      io,31,i,22"
      ]
     },
     "execution_count": 134,
     "metadata": {},
     "output_type": "execute_result"
    }
   ],
   "source": [
    "report_data_4"
   ]
  },
  {
   "cell_type": "code",
   "execution_count": 115,
   "metadata": {},
   "outputs": [
    {
     "name": "stdout",
     "output_type": "stream",
     "text": [
      "['hau', '44']\n",
      "['kji', '35']\n",
      "None\n",
      "['io', '31', 'i', '22']\n",
      "['kuŋ', '35', 'kwaŋ', '31']\n",
      "['luŋ', '44', 'ŋa', '31']\n",
      "['hən', '22']\n",
      "['le', '35', 'suŋ', '31']\n",
      "['io', '31', 'i', '22']\n"
     ]
    }
   ],
   "source": [
    "for index, row in report_data_4.iterrows():\n",
    "            print(str(row['target']))"
   ]
  },
  {
   "cell_type": "code",
   "execution_count": 135,
   "metadata": {},
   "outputs": [],
   "source": [
    "open?"
   ]
  },
  {
   "cell_type": "code",
   "execution_count": 120,
   "metadata": {},
   "outputs": [],
   "source": [
    "# mode addition and mode write, Escape character of a new line\n",
    "file = open('name_copy.txt', 'a')\n",
    "file.write(\"\\n\")\n",
    "file.write(\"Zozoroa Solo\")\n",
    "file.close()"
   ]
  },
  {
   "cell_type": "code",
   "execution_count": 149,
   "metadata": {},
   "outputs": [],
   "source": [
    "report_data_5 = report_data_4.dropna(subset=['target'])"
   ]
  },
  {
   "cell_type": "code",
   "execution_count": 150,
   "metadata": {},
   "outputs": [
    {
     "data": {
      "text/html": [
       "<div>\n",
       "<style scoped>\n",
       "    .dataframe tbody tr th:only-of-type {\n",
       "        vertical-align: middle;\n",
       "    }\n",
       "\n",
       "    .dataframe tbody tr th {\n",
       "        vertical-align: top;\n",
       "    }\n",
       "\n",
       "    .dataframe thead th {\n",
       "        text-align: right;\n",
       "    }\n",
       "</style>\n",
       "<table border=\"1\" class=\"dataframe\">\n",
       "  <thead>\n",
       "    <tr style=\"text-align: right;\">\n",
       "      <th></th>\n",
       "      <th>index</th>\n",
       "      <th>target</th>\n",
       "    </tr>\n",
       "  </thead>\n",
       "  <tbody>\n",
       "    <tr>\n",
       "      <td>0</td>\n",
       "      <td>Yinbiao1</td>\n",
       "      <td>hau,44</td>\n",
       "    </tr>\n",
       "    <tr>\n",
       "      <td>1</td>\n",
       "      <td>Yinbiao1</td>\n",
       "      <td>kji,35</td>\n",
       "    </tr>\n",
       "    <tr>\n",
       "      <td>3</td>\n",
       "      <td>Yinbiao1</td>\n",
       "      <td>io,31,i,22</td>\n",
       "    </tr>\n",
       "    <tr>\n",
       "      <td>4</td>\n",
       "      <td>Yinbiao1</td>\n",
       "      <td>kuŋ,35,kwaŋ,31</td>\n",
       "    </tr>\n",
       "    <tr>\n",
       "      <td>5</td>\n",
       "      <td>Yinbiao1</td>\n",
       "      <td>luŋ,44,ŋa,31</td>\n",
       "    </tr>\n",
       "    <tr>\n",
       "      <td>6</td>\n",
       "      <td>Yinbiao1</td>\n",
       "      <td>hən,22</td>\n",
       "    </tr>\n",
       "    <tr>\n",
       "      <td>7</td>\n",
       "      <td>Yinbiao2</td>\n",
       "      <td>le,35,suŋ,31</td>\n",
       "    </tr>\n",
       "    <tr>\n",
       "      <td>8</td>\n",
       "      <td>Yinbiao3</td>\n",
       "      <td>io,31,i,22</td>\n",
       "    </tr>\n",
       "  </tbody>\n",
       "</table>\n",
       "</div>"
      ],
      "text/plain": [
       "      index          target\n",
       "0  Yinbiao1          hau,44\n",
       "1  Yinbiao1          kji,35\n",
       "3  Yinbiao1      io,31,i,22\n",
       "4  Yinbiao1  kuŋ,35,kwaŋ,31\n",
       "5  Yinbiao1    luŋ,44,ŋa,31\n",
       "6  Yinbiao1          hən,22\n",
       "7  Yinbiao2    le,35,suŋ,31\n",
       "8  Yinbiao3      io,31,i,22"
      ]
     },
     "execution_count": 150,
     "metadata": {},
     "output_type": "execute_result"
    }
   ],
   "source": [
    "report_data_5"
   ]
  },
  {
   "cell_type": "code",
   "execution_count": null,
   "metadata": {},
   "outputs": [],
   "source": []
  },
  {
   "cell_type": "code",
   "execution_count": 172,
   "metadata": {},
   "outputs": [
    {
     "name": "stdout",
     "output_type": "stream",
     "text": [
      "hau,44\n",
      "hau\n",
      "44\n",
      "kji,35\n",
      "kji\n",
      "35\n",
      "io,31,i,22\n",
      "io\n",
      "31\n",
      "i\n",
      "22\n",
      "kuŋ,35,kwaŋ,31\n",
      "kuŋ\n",
      "35\n",
      "kwaŋ\n",
      "31\n",
      "luŋ,44,ŋa,31\n",
      "luŋ\n",
      "44\n",
      "ŋa\n",
      "31\n",
      "hən,22\n",
      "hən\n",
      "22\n",
      "le,35,suŋ,31\n",
      "le\n",
      "35\n",
      "suŋ\n",
      "31\n",
      "io,31,i,22\n",
      "io\n",
      "31\n",
      "i\n",
      "22\n"
     ]
    }
   ],
   "source": [
    "import csv\n",
    "with open('output.csv', \"w\", encoding='utf-16') as csv_file:\n",
    "        writer = csv.writer(csv_file, quoting=csv.QUOTE_ALL)\n",
    "        for index, row in report_data_5.iterrows():\n",
    "            print(row['target'])\n",
    "            for s in row['target'].split(','):\n",
    "                print(s)\n",
    "                writer.writerow([s])\n"
   ]
  },
  {
   "cell_type": "code",
   "execution_count": 153,
   "metadata": {},
   "outputs": [
    {
     "name": "stdout",
     "output_type": "stream",
     "text": [
      "hau,44\n",
      "['hau', '44']\n",
      "{'column1': 'hau', 'column2': '44'}\n",
      "kji,35\n",
      "['kji', '35']\n",
      "{'column1': 'kji', 'column2': '35'}\n",
      "io,31,i,22\n",
      "['io', '31', 'i', '22']\n",
      "{'column1': 'io', 'column2': '31', 'column3': 'i', 'column4': '22'}\n",
      "kuŋ,35,kwaŋ,31\n",
      "['kuŋ', '35', 'kwaŋ', '31']\n",
      "{'column1': 'kuŋ', 'column2': '35', 'column3': 'kwaŋ', 'column4': '31'}\n",
      "luŋ,44,ŋa,31\n",
      "['luŋ', '44', 'ŋa', '31']\n",
      "{'column1': 'luŋ', 'column2': '44', 'column3': 'ŋa', 'column4': '31'}\n",
      "hən,22\n",
      "['hən', '22']\n",
      "{'column1': 'hən', 'column2': '22'}\n",
      "le,35,suŋ,31\n",
      "['le', '35', 'suŋ', '31']\n",
      "{'column1': 'le', 'column2': '35', 'column3': 'suŋ', 'column4': '31'}\n",
      "io,31,i,22\n",
      "['io', '31', 'i', '22']\n",
      "{'column1': 'io', 'column2': '31', 'column3': 'i', 'column4': '22'}\n"
     ]
    }
   ],
   "source": [
    "import csv\n",
    "with open('output.csv', \"w\", encoding='utf-16') as csv_file:\n",
    "        writer = csv.writer(csv_file)\n",
    "        for index, row in report_data_5.iterrows():\n",
    "            print(row['target'])\n",
    "            l_s = row['target'].split(',')\n",
    "            print(l_s)\n",
    "            columns_map={'column1':''}\n",
    "            for i in range(len(l_s)):\n",
    "                key = 'column' + str((i + 1))\n",
    "                columns_map[key] = l_s[i]\n",
    "            print(columns_map)\n",
    "            writer.writerow(columns_map)\n"
   ]
  },
  {
   "cell_type": "code",
   "execution_count": 113,
   "metadata": {},
   "outputs": [
    {
     "name": "stderr",
     "output_type": "stream",
     "text": [
      "C:\\tools\\ds\\Anaconda3\\envs\\py3\\lib\\site-packages\\ipykernel_launcher.py:1: FutureWarning: The signature of `Series.to_csv` was aligned to that of `DataFrame.to_csv`, and argument 'path' will be renamed to 'path_or_buf'.\n",
      "  \"\"\"Entry point for launching an IPython kernel.\n",
      "C:\\tools\\ds\\Anaconda3\\envs\\py3\\lib\\site-packages\\ipykernel_launcher.py:1: FutureWarning: The signature of `Series.to_csv` was aligned to that of `DataFrame.to_csv`, and argument 'header' will change its default value from False to True: please pass an explicit value to suppress this warning.\n",
      "  \"\"\"Entry point for launching an IPython kernel.\n"
     ]
    }
   ],
   "source": [
    "report_data_5.to_csv(path='output3.csv', sep=\",\", encoding='utf-16')"
   ]
  },
  {
   "cell_type": "code",
   "execution_count": null,
   "metadata": {},
   "outputs": [],
   "source": [
    "report_data_3['target'].to_csv"
   ]
  },
  {
   "cell_type": "code",
   "execution_count": 59,
   "metadata": {},
   "outputs": [
    {
     "data": {
      "text/plain": [
       "['hello world']"
      ]
     },
     "execution_count": 59,
     "metadata": {},
     "output_type": "execute_result"
    }
   ],
   "source": [
    "import re\n",
    "re.split('\\\\d+', 'hello world')"
   ]
  },
  {
   "cell_type": "code",
   "execution_count": 67,
   "metadata": {},
   "outputs": [
    {
     "data": {
      "text/plain": [
       "['kuŋ', 'kwaŋ']"
      ]
     },
     "execution_count": 67,
     "metadata": {},
     "output_type": "execute_result"
    }
   ],
   "source": [
    "re.split('\\\\d+', 'kuŋ35kwaŋ31')[:-1]"
   ]
  },
  {
   "cell_type": "code",
   "execution_count": 68,
   "metadata": {},
   "outputs": [
    {
     "data": {
      "text/plain": [
       "['35', '31']"
      ]
     },
     "execution_count": 68,
     "metadata": {},
     "output_type": "execute_result"
    }
   ],
   "source": [
    "re.split('\\\\D+', 'kuŋ35kwaŋ31')[1:]"
   ]
  },
  {
   "cell_type": "code",
   "execution_count": 53,
   "metadata": {},
   "outputs": [
    {
     "data": {
      "text/plain": [
       "['test', 'test', 'test', '']"
      ]
     },
     "execution_count": 53,
     "metadata": {},
     "output_type": "execute_result"
    }
   ],
   "source": [
    "re.split('\\W+', 'test, test, test.')"
   ]
  },
  {
   "cell_type": "code",
   "execution_count": 45,
   "metadata": {},
   "outputs": [
    {
     "data": {
      "text/html": [
       "<div>\n",
       "<style scoped>\n",
       "    .dataframe tbody tr th:only-of-type {\n",
       "        vertical-align: middle;\n",
       "    }\n",
       "\n",
       "    .dataframe tbody tr th {\n",
       "        vertical-align: top;\n",
       "    }\n",
       "\n",
       "    .dataframe thead th {\n",
       "        text-align: right;\n",
       "    }\n",
       "</style>\n",
       "<table border=\"1\" class=\"dataframe\">\n",
       "  <thead>\n",
       "    <tr style=\"text-align: right;\">\n",
       "      <th></th>\n",
       "      <th>id</th>\n",
       "      <th>Yinbiao</th>\n",
       "    </tr>\n",
       "  </thead>\n",
       "  <tbody>\n",
       "    <tr>\n",
       "      <td>Yinbiao1</td>\n",
       "      <td>2</td>\n",
       "      <td>hau44</td>\n",
       "    </tr>\n",
       "    <tr>\n",
       "      <td>Yinbiao1</td>\n",
       "      <td>3</td>\n",
       "      <td>kji35</td>\n",
       "    </tr>\n",
       "    <tr>\n",
       "      <td>Yinbiao1</td>\n",
       "      <td>4</td>\n",
       "      <td>（无）</td>\n",
       "    </tr>\n",
       "    <tr>\n",
       "      <td>Yinbiao1</td>\n",
       "      <td>5</td>\n",
       "      <td>io31i22</td>\n",
       "    </tr>\n",
       "    <tr>\n",
       "      <td>Yinbiao1</td>\n",
       "      <td>6</td>\n",
       "      <td>kuŋ35kwaŋ31</td>\n",
       "    </tr>\n",
       "    <tr>\n",
       "      <td>Yinbiao1</td>\n",
       "      <td>7</td>\n",
       "      <td>luŋ44ŋa31</td>\n",
       "    </tr>\n",
       "    <tr>\n",
       "      <td>Yinbiao1</td>\n",
       "      <td>8</td>\n",
       "      <td>hən22</td>\n",
       "    </tr>\n",
       "    <tr>\n",
       "      <td>Yinbiao2</td>\n",
       "      <td>8</td>\n",
       "      <td>le35suŋ31</td>\n",
       "    </tr>\n",
       "    <tr>\n",
       "      <td>Yinbiao3</td>\n",
       "      <td>8</td>\n",
       "      <td>io31i22</td>\n",
       "    </tr>\n",
       "  </tbody>\n",
       "</table>\n",
       "</div>"
      ],
      "text/plain": [
       "          id      Yinbiao\n",
       "Yinbiao1   2        hau44\n",
       "Yinbiao1   3        kji35\n",
       "Yinbiao1   4          （无）\n",
       "Yinbiao1   5      io31i22\n",
       "Yinbiao1   6  kuŋ35kwaŋ31\n",
       "Yinbiao1   7    luŋ44ŋa31\n",
       "Yinbiao1   8        hən22\n",
       "Yinbiao2   8    le35suŋ31\n",
       "Yinbiao3   8      io31i22"
      ]
     },
     "execution_count": 45,
     "metadata": {},
     "output_type": "execute_result"
    }
   ],
   "source": [
    "report_data_3.columns = ['id', 'Yinbiao']\n",
    "report_data_3"
   ]
  },
  {
   "cell_type": "code",
   "execution_count": 33,
   "metadata": {},
   "outputs": [
    {
     "data": {
      "text/plain": [
       "MultiIndex([(2, 'Yinbiao1'),\n",
       "            (3, 'Yinbiao1'),\n",
       "            (4, 'Yinbiao1'),\n",
       "            (5, 'Yinbiao1'),\n",
       "            (6, 'Yinbiao1'),\n",
       "            (7, 'Yinbiao1'),\n",
       "            (8, 'Yinbiao1'),\n",
       "            (8, 'Yinbiao2'),\n",
       "            (8, 'Yinbiao3')],\n",
       "           names=['id', None])"
      ]
     },
     "execution_count": 33,
     "metadata": {},
     "output_type": "execute_result"
    }
   ],
   "source": [
    "report_data_2.index"
   ]
  },
  {
   "cell_type": "code",
   "execution_count": 19,
   "metadata": {},
   "outputs": [
    {
     "data": {
      "text/plain": [
       "EmployeeId   \n",
       "001         0       Mumbai\n",
       "            1    Bangalore\n",
       "002         0         Pune\n",
       "            1       Mumbai\n",
       "            2        Delhi\n",
       "003         0       Mumbai\n",
       "            1    Bangalore\n",
       "004         0       Mumbai\n",
       "            1         Pune\n",
       "005         0    Bangalore\n",
       "dtype: object"
      ]
     },
     "execution_count": 19,
     "metadata": {},
     "output_type": "execute_result"
    }
   ],
   "source": [
    "# Step 1\n",
    "# We start with creating a new dataframe from the series with EmployeeId as the index\n",
    "new_df = pd.DataFrame(df.City.str.split('|').tolist(), index=df.EmployeeId).stack()\n",
    "new_df"
   ]
  },
  {
   "cell_type": "code",
   "execution_count": 26,
   "metadata": {},
   "outputs": [
    {
     "data": {
      "text/plain": [
       "RangeIndex(start=0, stop=10, step=1)"
      ]
     },
     "execution_count": 26,
     "metadata": {},
     "output_type": "execute_result"
    }
   ],
   "source": [
    "new_df.index"
   ]
  },
  {
   "cell_type": "code",
   "execution_count": 20,
   "metadata": {},
   "outputs": [
    {
     "data": {
      "text/html": [
       "<div>\n",
       "<style scoped>\n",
       "    .dataframe tbody tr th:only-of-type {\n",
       "        vertical-align: middle;\n",
       "    }\n",
       "\n",
       "    .dataframe tbody tr th {\n",
       "        vertical-align: top;\n",
       "    }\n",
       "\n",
       "    .dataframe thead th {\n",
       "        text-align: right;\n",
       "    }\n",
       "</style>\n",
       "<table border=\"1\" class=\"dataframe\">\n",
       "  <thead>\n",
       "    <tr style=\"text-align: right;\">\n",
       "      <th></th>\n",
       "      <th>EmployeeId</th>\n",
       "      <th>0</th>\n",
       "    </tr>\n",
       "  </thead>\n",
       "  <tbody>\n",
       "    <tr>\n",
       "      <td>0</td>\n",
       "      <td>001</td>\n",
       "      <td>Mumbai</td>\n",
       "    </tr>\n",
       "    <tr>\n",
       "      <td>1</td>\n",
       "      <td>001</td>\n",
       "      <td>Bangalore</td>\n",
       "    </tr>\n",
       "    <tr>\n",
       "      <td>2</td>\n",
       "      <td>002</td>\n",
       "      <td>Pune</td>\n",
       "    </tr>\n",
       "    <tr>\n",
       "      <td>3</td>\n",
       "      <td>002</td>\n",
       "      <td>Mumbai</td>\n",
       "    </tr>\n",
       "    <tr>\n",
       "      <td>4</td>\n",
       "      <td>002</td>\n",
       "      <td>Delhi</td>\n",
       "    </tr>\n",
       "    <tr>\n",
       "      <td>5</td>\n",
       "      <td>003</td>\n",
       "      <td>Mumbai</td>\n",
       "    </tr>\n",
       "    <tr>\n",
       "      <td>6</td>\n",
       "      <td>003</td>\n",
       "      <td>Bangalore</td>\n",
       "    </tr>\n",
       "    <tr>\n",
       "      <td>7</td>\n",
       "      <td>004</td>\n",
       "      <td>Mumbai</td>\n",
       "    </tr>\n",
       "    <tr>\n",
       "      <td>8</td>\n",
       "      <td>004</td>\n",
       "      <td>Pune</td>\n",
       "    </tr>\n",
       "    <tr>\n",
       "      <td>9</td>\n",
       "      <td>005</td>\n",
       "      <td>Bangalore</td>\n",
       "    </tr>\n",
       "  </tbody>\n",
       "</table>\n",
       "</div>"
      ],
      "text/plain": [
       "  EmployeeId          0\n",
       "0        001     Mumbai\n",
       "1        001  Bangalore\n",
       "2        002       Pune\n",
       "3        002     Mumbai\n",
       "4        002      Delhi\n",
       "5        003     Mumbai\n",
       "6        003  Bangalore\n",
       "7        004     Mumbai\n",
       "8        004       Pune\n",
       "9        005  Bangalore"
      ]
     },
     "execution_count": 20,
     "metadata": {},
     "output_type": "execute_result"
    }
   ],
   "source": [
    "# Step 2\n",
    "# We now want to get rid of the secondary index\n",
    "# To do this, we will make EmployeeId as a column (it can't be an index since the values will be duplicate)\n",
    "new_df = new_df.reset_index([0, 'EmployeeId'])\n",
    "new_df"
   ]
  },
  {
   "cell_type": "code",
   "execution_count": null,
   "metadata": {},
   "outputs": [],
   "source": [
    "# Step 3\n",
    "# The final step is to set the column names as we want them\n",
    "new_df.columns = ['EmployeeId', 'City']"
   ]
  },
  {
   "cell_type": "code",
   "execution_count": 25,
   "metadata": {},
   "outputs": [
    {
     "data": {
      "text/plain": [
       "MultiIndex([(0,       'id'),\n",
       "            (0, 'Yinbiao1'),\n",
       "            (1,       'id'),\n",
       "            (1, 'Yinbiao1'),\n",
       "            (2,       'id'),\n",
       "            (2, 'Yinbiao1'),\n",
       "            (3,       'id'),\n",
       "            (3, 'Yinbiao1'),\n",
       "            (4,       'id'),\n",
       "            (4, 'Yinbiao1'),\n",
       "            (5,       'id'),\n",
       "            (5, 'Yinbiao1'),\n",
       "            (6,       'id'),\n",
       "            (6, 'Yinbiao1'),\n",
       "            (7,       'id'),\n",
       "            (7, 'Yinbiao1'),\n",
       "            (8,       'id'),\n",
       "            (8, 'Yinbiao1'),\n",
       "            (8, 'Yinbiao2'),\n",
       "            (8, 'Yinbiao3')],\n",
       "           )"
      ]
     },
     "execution_count": 25,
     "metadata": {},
     "output_type": "execute_result"
    }
   ],
   "source": [
    "report_data_2.index"
   ]
  },
  {
   "cell_type": "code",
   "execution_count": null,
   "metadata": {},
   "outputs": [],
   "source": [
    "# Explode/Split column into multiple rows\n",
    "new_df = pd.DataFrame(report_data_1.City.str.split('|').tolist(), index=df.EmployeeId).stack()\n",
    "new_df = new_df.reset_index([0, 'EmployeeId'])\n",
    "new_df.columns = ['EmployeeId', 'City']"
   ]
  },
  {
   "cell_type": "code",
   "execution_count": 14,
   "metadata": {},
   "outputs": [],
   "source": [
    "report_data['label'] = report_data.apply(lambda row: row['Amount'] == \"Yes\", axis=1)"
   ]
  },
  {
   "cell_type": "code",
   "execution_count": 21,
   "metadata": {},
   "outputs": [],
   "source": [
    "report_data['Amounts'] = report_data.apply(lambda row: row['Amount'][1:], axis=1)"
   ]
  },
  {
   "cell_type": "code",
   "execution_count": 22,
   "metadata": {},
   "outputs": [],
   "source": [
    "report_data['Amounts'] = report_data['Amounts'].astype(float)"
   ]
  },
  {
   "cell_type": "code",
   "execution_count": 23,
   "metadata": {},
   "outputs": [
    {
     "data": {
      "text/html": [
       "<div>\n",
       "<style scoped>\n",
       "    .dataframe tbody tr th:only-of-type {\n",
       "        vertical-align: middle;\n",
       "    }\n",
       "\n",
       "    .dataframe tbody tr th {\n",
       "        vertical-align: top;\n",
       "    }\n",
       "\n",
       "    .dataframe thead th {\n",
       "        text-align: right;\n",
       "    }\n",
       "</style>\n",
       "<table border=\"1\" class=\"dataframe\">\n",
       "  <thead>\n",
       "    <tr style=\"text-align: right;\">\n",
       "      <th></th>\n",
       "      <th>Date</th>\n",
       "      <th>Description</th>\n",
       "      <th>Amount</th>\n",
       "      <th>Type</th>\n",
       "      <th>label</th>\n",
       "      <th>Amounts</th>\n",
       "    </tr>\n",
       "  </thead>\n",
       "  <tbody>\n",
       "    <tr>\n",
       "      <td>0</td>\n",
       "      <td>Oct 28, 2019</td>\n",
       "      <td>VIDEOTRON LTEE. 110 PPACCMONTREAL QC</td>\n",
       "      <td>$133.79</td>\n",
       "      <td>Telcome</td>\n",
       "      <td>False</td>\n",
       "      <td>133.79</td>\n",
       "    </tr>\n",
       "    <tr>\n",
       "      <td>1</td>\n",
       "      <td>Oct 24, 2019</td>\n",
       "      <td>DUTY FREE MTL INT'L ST-LAURENT QC</td>\n",
       "      <td>$43.00</td>\n",
       "      <td>One-time</td>\n",
       "      <td>False</td>\n",
       "      <td>43.00</td>\n",
       "    </tr>\n",
       "    <tr>\n",
       "      <td>2</td>\n",
       "      <td>Oct 19, 2019</td>\n",
       "      <td>PAYPAL *GOOGLE LONG TE 4029357733 NS</td>\n",
       "      <td>$30.99</td>\n",
       "      <td>Game</td>\n",
       "      <td>False</td>\n",
       "      <td>30.99</td>\n",
       "    </tr>\n",
       "    <tr>\n",
       "      <td>3</td>\n",
       "      <td>Oct 14, 2019</td>\n",
       "      <td>PAYPAL *GOOGLE LONG TE 4029357733 NS</td>\n",
       "      <td>$24.99</td>\n",
       "      <td>Game</td>\n",
       "      <td>False</td>\n",
       "      <td>24.99</td>\n",
       "    </tr>\n",
       "    <tr>\n",
       "      <td>4</td>\n",
       "      <td>Oct 14, 2019</td>\n",
       "      <td>PAYPAL *GOOGLE LONG TE 4029357733 NS</td>\n",
       "      <td>$30.99</td>\n",
       "      <td>Game</td>\n",
       "      <td>False</td>\n",
       "      <td>30.99</td>\n",
       "    </tr>\n",
       "  </tbody>\n",
       "</table>\n",
       "</div>"
      ],
      "text/plain": [
       "           Date                           Description   Amount      Type  \\\n",
       "0  Oct 28, 2019  VIDEOTRON LTEE. 110 PPACCMONTREAL QC  $133.79   Telcome   \n",
       "1  Oct 24, 2019     DUTY FREE MTL INT'L ST-LAURENT QC   $43.00  One-time   \n",
       "2  Oct 19, 2019  PAYPAL *GOOGLE LONG TE 4029357733 NS   $30.99      Game   \n",
       "3  Oct 14, 2019  PAYPAL *GOOGLE LONG TE 4029357733 NS   $24.99      Game   \n",
       "4  Oct 14, 2019  PAYPAL *GOOGLE LONG TE 4029357733 NS   $30.99      Game   \n",
       "\n",
       "   label  Amounts  \n",
       "0  False   133.79  \n",
       "1  False    43.00  \n",
       "2  False    30.99  \n",
       "3  False    24.99  \n",
       "4  False    30.99  "
      ]
     },
     "execution_count": 23,
     "metadata": {},
     "output_type": "execute_result"
    }
   ],
   "source": [
    "report_data.head()"
   ]
  },
  {
   "cell_type": "code",
   "execution_count": 24,
   "metadata": {},
   "outputs": [],
   "source": [
    "grouped = report_data.groupby('Type')"
   ]
  },
  {
   "cell_type": "code",
   "execution_count": 25,
   "metadata": {},
   "outputs": [
    {
     "data": {
      "text/plain": [
       "Type\n",
       "Game         161.11\n",
       "Meet          14.79\n",
       "One-time      43.00\n",
       "Social        14.09\n",
       "Telcome      492.15\n",
       "Transport    141.00\n",
       "Travel        23.00\n",
       "Name: Amounts, dtype: float64"
      ]
     },
     "execution_count": 25,
     "metadata": {},
     "output_type": "execute_result"
    }
   ],
   "source": [
    "grouped['Amounts'].sum()"
   ]
  },
  {
   "cell_type": "code",
   "execution_count": 19,
   "metadata": {},
   "outputs": [
    {
     "data": {
      "text/html": [
       "<div>\n",
       "<style scoped>\n",
       "    .dataframe tbody tr th:only-of-type {\n",
       "        vertical-align: middle;\n",
       "    }\n",
       "\n",
       "    .dataframe tbody tr th {\n",
       "        vertical-align: top;\n",
       "    }\n",
       "\n",
       "    .dataframe thead th {\n",
       "        text-align: right;\n",
       "    }\n",
       "</style>\n",
       "<table border=\"1\" class=\"dataframe\">\n",
       "  <thead>\n",
       "    <tr style=\"text-align: right;\">\n",
       "      <th></th>\n",
       "      <th>Country</th>\n",
       "      <th>Region</th>\n",
       "      <th>Happiness Rank</th>\n",
       "      <th>Happiness Score</th>\n",
       "      <th>Standard Error</th>\n",
       "      <th>Economy (GDP per Capita)</th>\n",
       "      <th>Family</th>\n",
       "      <th>Health (Life Expectancy)</th>\n",
       "      <th>Freedom</th>\n",
       "      <th>Trust (Government Corruption)</th>\n",
       "      <th>Generosity</th>\n",
       "      <th>Dystopia Residual</th>\n",
       "    </tr>\n",
       "  </thead>\n",
       "  <tbody>\n",
       "    <tr>\n",
       "      <th>0</th>\n",
       "      <td>Switzerland</td>\n",
       "      <td>Western Europe</td>\n",
       "      <td>1</td>\n",
       "      <td>7.587</td>\n",
       "      <td>0.03411</td>\n",
       "      <td>1.39651</td>\n",
       "      <td>1.34951</td>\n",
       "      <td>0.94143</td>\n",
       "      <td>0.66557</td>\n",
       "      <td>0.41978</td>\n",
       "      <td>0.29678</td>\n",
       "      <td>2.51738</td>\n",
       "    </tr>\n",
       "    <tr>\n",
       "      <th>1</th>\n",
       "      <td>Iceland</td>\n",
       "      <td>Western Europe</td>\n",
       "      <td>2</td>\n",
       "      <td>7.561</td>\n",
       "      <td>0.04884</td>\n",
       "      <td>1.30232</td>\n",
       "      <td>1.40223</td>\n",
       "      <td>0.94784</td>\n",
       "      <td>0.62877</td>\n",
       "      <td>0.14145</td>\n",
       "      <td>0.43630</td>\n",
       "      <td>2.70201</td>\n",
       "    </tr>\n",
       "    <tr>\n",
       "      <th>2</th>\n",
       "      <td>Denmark</td>\n",
       "      <td>Western Europe</td>\n",
       "      <td>3</td>\n",
       "      <td>7.527</td>\n",
       "      <td>0.03328</td>\n",
       "      <td>1.32548</td>\n",
       "      <td>1.36058</td>\n",
       "      <td>0.87464</td>\n",
       "      <td>0.64938</td>\n",
       "      <td>0.48357</td>\n",
       "      <td>0.34139</td>\n",
       "      <td>2.49204</td>\n",
       "    </tr>\n",
       "    <tr>\n",
       "      <th>3</th>\n",
       "      <td>Norway</td>\n",
       "      <td>Western Europe</td>\n",
       "      <td>4</td>\n",
       "      <td>7.522</td>\n",
       "      <td>0.03880</td>\n",
       "      <td>1.45900</td>\n",
       "      <td>1.33095</td>\n",
       "      <td>0.88521</td>\n",
       "      <td>0.66973</td>\n",
       "      <td>0.36503</td>\n",
       "      <td>0.34699</td>\n",
       "      <td>2.46531</td>\n",
       "    </tr>\n",
       "    <tr>\n",
       "      <th>4</th>\n",
       "      <td>Canada</td>\n",
       "      <td>North America</td>\n",
       "      <td>5</td>\n",
       "      <td>7.427</td>\n",
       "      <td>0.03553</td>\n",
       "      <td>1.32629</td>\n",
       "      <td>1.32261</td>\n",
       "      <td>0.90563</td>\n",
       "      <td>0.63297</td>\n",
       "      <td>0.32957</td>\n",
       "      <td>0.45811</td>\n",
       "      <td>2.45176</td>\n",
       "    </tr>\n",
       "  </tbody>\n",
       "</table>\n",
       "</div>"
      ],
      "text/plain": [
       "       Country          Region  Happiness Rank  Happiness Score  \\\n",
       "0  Switzerland  Western Europe               1            7.587   \n",
       "1      Iceland  Western Europe               2            7.561   \n",
       "2      Denmark  Western Europe               3            7.527   \n",
       "3       Norway  Western Europe               4            7.522   \n",
       "4       Canada   North America               5            7.427   \n",
       "\n",
       "   Standard Error  Economy (GDP per Capita)   Family  \\\n",
       "0         0.03411                   1.39651  1.34951   \n",
       "1         0.04884                   1.30232  1.40223   \n",
       "2         0.03328                   1.32548  1.36058   \n",
       "3         0.03880                   1.45900  1.33095   \n",
       "4         0.03553                   1.32629  1.32261   \n",
       "\n",
       "   Health (Life Expectancy)  Freedom  Trust (Government Corruption)  \\\n",
       "0                   0.94143  0.66557                        0.41978   \n",
       "1                   0.94784  0.62877                        0.14145   \n",
       "2                   0.87464  0.64938                        0.48357   \n",
       "3                   0.88521  0.66973                        0.36503   \n",
       "4                   0.90563  0.63297                        0.32957   \n",
       "\n",
       "   Generosity  Dystopia Residual  \n",
       "0     0.29678            2.51738  \n",
       "1     0.43630            2.70201  \n",
       "2     0.34139            2.49204  \n",
       "3     0.34699            2.46531  \n",
       "4     0.45811            2.45176  "
      ]
     },
     "execution_count": 19,
     "metadata": {},
     "output_type": "execute_result"
    }
   ],
   "source": [
    "report_data = pd.read_csv('./2015.csv')\n",
    "report_data.head()"
   ]
  },
  {
   "cell_type": "code",
   "execution_count": 20,
   "metadata": {},
   "outputs": [],
   "source": [
    "#groupby()\n",
    "grouped = report_data.groupby('Region')"
   ]
  },
  {
   "cell_type": "code",
   "execution_count": 21,
   "metadata": {},
   "outputs": [
    {
     "data": {
      "text/plain": [
       "Region\n",
       "Australia and New Zealand          7.285000\n",
       "Central and Eastern Europe         5.332931\n",
       "Eastern Asia                       5.626167\n",
       "Latin America and Caribbean        6.144682\n",
       "Middle East and Northern Africa    5.406900\n",
       "North America                      7.273000\n",
       "Southeastern Asia                  5.317444\n",
       "Southern Asia                      4.580857\n",
       "Sub-Saharan Africa                 4.202800\n",
       "Western Europe                     6.689619\n",
       "Name: Happiness Score, dtype: float64"
      ]
     },
     "execution_count": 21,
     "metadata": {},
     "output_type": "execute_result"
    }
   ],
   "source": [
    "grouped['Happiness Score'].mean()"
   ]
  },
  {
   "cell_type": "code",
   "execution_count": 22,
   "metadata": {},
   "outputs": [
    {
     "data": {
      "text/plain": [
       "Region\n",
       "Australia and New Zealand           2\n",
       "Central and Eastern Europe         29\n",
       "Eastern Asia                        6\n",
       "Latin America and Caribbean        22\n",
       "Middle East and Northern Africa    20\n",
       "North America                       2\n",
       "Southeastern Asia                   9\n",
       "Southern Asia                       7\n",
       "Sub-Saharan Africa                 40\n",
       "Western Europe                     21\n",
       "dtype: int64"
      ]
     },
     "execution_count": 22,
     "metadata": {},
     "output_type": "execute_result"
    }
   ],
   "source": [
    "size_by_group = grouped.size()\n",
    "size_by_group"
   ]
  },
  {
   "cell_type": "code",
   "execution_count": null,
   "metadata": {},
   "outputs": [],
   "source": [
    "type(size_by_group)\n"
   ]
  },
  {
   "cell_type": "code",
   "execution_count": null,
   "metadata": {},
   "outputs": [],
   "source": [
    "size_by_group_sort = size_by_group.sort_values(ascending=False).reset_index().reset_index()\n",
    "size_by_group_sort['count'] = size_by_group_sort[0]\n",
    "size_by_group_sort"
   ]
  },
  {
   "cell_type": "code",
   "execution_count": null,
   "metadata": {},
   "outputs": [],
   "source": [
    "size_by_group_sort.reset_index()\n",
    "size_by_group_sort.index"
   ]
  },
  {
   "cell_type": "code",
   "execution_count": null,
   "metadata": {},
   "outputs": [],
   "source": [
    "size_by_group_sort.reset_index().reset_index()\n",
    "size_by_group_sort.index"
   ]
  },
  {
   "cell_type": "code",
   "execution_count": null,
   "metadata": {},
   "outputs": [],
   "source": [
    "size_by_group_sort = size_by_group.sort_index"
   ]
  },
  {
   "cell_type": "code",
   "execution_count": null,
   "metadata": {},
   "outputs": [],
   "source": [
    "size_by_group_sort = size_by_group.sort_index"
   ]
  },
  {
   "cell_type": "code",
   "execution_count": null,
   "metadata": {},
   "outputs": [],
   "source": [
    "# 迭代groupby对象\n",
    "for group, frame in grouped: \n",
    "    mean_score = frame['Happiness Score'].mean()\n",
    "    max_score = frame['Happiness Score'].max()\n",
    "    min_score = frame['Happiness Score'].min()\n",
    "    print('{}地区的平均幸福指数：{}，最高幸福指数：{}，最低幸福指数{}'.format(group, mean_score, max_score, min_score))"
   ]
  },
  {
   "cell_type": "code",
   "execution_count": null,
   "metadata": {},
   "outputs": [],
   "source": [
    "# 自定义函数进行分组\n",
    "# 按照幸福指数排名进行划分，1-10, 10-20, >20\n",
    "# 如果自定义函数，操作针对的是index\n",
    "report_data2 = report_data.set_index('Happiness Rank')\n",
    "\n",
    "def get_rank_group(rank):\n",
    "    rank_group = ''\n",
    "    if rank <= 10:\n",
    "        rank_group = '0 -- 10'\n",
    "    elif rank <= 20:\n",
    "        rank_group = '10 -- 20'\n",
    "    else:\n",
    "        rank_group = '> 20'\n",
    "    return rank_group\n",
    "\n",
    "grouped = report_data2.groupby(get_rank_group)\n",
    "for group, frame in grouped:\n",
    "    print('{}分组的数据个数：{}'.format(group, len(frame)))\n",
    "\n",
    "grouped.size()"
   ]
  },
  {
   "cell_type": "code",
   "execution_count": null,
   "metadata": {},
   "outputs": [],
   "source": [
    "# 实际项目中，通常可以先人为构造出一个分组列，然后再进行groupby\n",
    "\n",
    "# 按照score的整数部分进行分组\n",
    "# 按照幸福指数排名进行划分，1-10, 10-20, >20\n",
    "# 如果自定义函数，操作针对的是index\n",
    "report_data['score group'] = report_data['Happiness Score'].apply(lambda score: int(score))\n",
    "\n",
    "grouped = report_data.groupby('score group')\n",
    "for group, frame in grouped:\n",
    "    print('幸福指数整数部分为{}的分组数据个数：{}'.format(group, len(frame)))\n",
    "\n",
    "grouped.size()"
   ]
  },
  {
   "cell_type": "code",
   "execution_count": null,
   "metadata": {
    "scrolled": true
   },
   "outputs": [],
   "source": [
    "import numpy as np\n",
    "\n",
    "grouped.agg({'Happiness Score': np.mean, 'Happiness Rank': np.max})"
   ]
  },
  {
   "cell_type": "code",
   "execution_count": null,
   "metadata": {},
   "outputs": [],
   "source": [
    "grouped['Happiness Score'].agg(func)"
   ]
  },
  {
   "cell_type": "code",
   "execution_count": null,
   "metadata": {},
   "outputs": [],
   "source": []
  }
 ],
 "metadata": {
  "kernelspec": {
   "display_name": "Python [default]",
   "language": "python",
   "name": "python3"
  },
  "language_info": {
   "codemirror_mode": {
    "name": "ipython",
    "version": 3
   },
   "file_extension": ".py",
   "mimetype": "text/x-python",
   "name": "python",
   "nbconvert_exporter": "python",
   "pygments_lexer": "ipython3",
   "version": "3.6.6"
  }
 },
 "nbformat": 4,
 "nbformat_minor": 2
}
